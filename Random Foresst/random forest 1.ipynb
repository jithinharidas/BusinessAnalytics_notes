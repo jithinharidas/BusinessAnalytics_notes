{
 "cells": [
  {
   "cell_type": "code",
   "execution_count": 2,
   "metadata": {},
   "outputs": [],
   "source": [
    "import pandas as pd\n",
    "import matplotlib.pyplot as plt \n",
    "import numpy as np\n",
    "import seaborn as sns\n",
    "\n",
    "\n",
    "from sklearn.tree import export_graphviz\n",
    "import matplotlib\n",
    "import math,graphviz\n",
    "import pathlib"
   ]
  },
  {
   "cell_type": "markdown",
   "metadata": {},
   "source": [
    "!pip install feather-format"
   ]
  },
  {
   "cell_type": "code",
   "execution_count": 3,
   "metadata": {},
   "outputs": [],
   "source": [
    "import re, os\n",
    "from pandas_summary import DataFrameSummary\n",
    "from pandas.api.types import is_string_dtype, is_numeric_dtype, is_categorical_dtype\n",
    "\n",
    "from sklearn.ensemble import RandomForestRegressor, RandomForestClassifier\n",
    "from IPython.display import display\n",
    "\n",
    "from sklearn import metrics"
   ]
  },
  {
   "cell_type": "code",
   "execution_count": 4,
   "metadata": {},
   "outputs": [
    {
     "ename": "NameError",
     "evalue": "name 'g' is not defined",
     "output_type": "error",
     "traceback": [
      "\u001b[0;31m---------------------------------------------------------------------------\u001b[0m",
      "\u001b[0;31mNameError\u001b[0m                                 Traceback (most recent call last)",
      "\u001b[0;32m<ipython-input-4-31d6cccf20fd>\u001b[0m in \u001b[0;36m<module>\u001b[0;34m\u001b[0m\n\u001b[0;32m----> 1\u001b[0;31m \u001b[0mg\u001b[0m\u001b[0;34m.\u001b[0m\u001b[0msend\u001b[0m\u001b[0;34m(\u001b[0m\u001b[0;36m10\u001b[0m\u001b[0;34m)\u001b[0m\u001b[0;34m\u001b[0m\u001b[0;34m\u001b[0m\u001b[0m\n\u001b[0m",
      "\u001b[0;31mNameError\u001b[0m: name 'g' is not defined"
     ]
    }
   ],
   "source": [
    "g.send(10)"
   ]
  },
  {
   "cell_type": "code",
   "execution_count": 5,
   "metadata": {},
   "outputs": [],
   "source": [
    "def grep(pattern):\n",
    "    print(\"Searching for\", pattern)\n",
    "    while True:\n",
    "        line = (yield)\n",
    "        if pattern in line:\n",
    "            print(line ,\" is in input \")"
   ]
  },
  {
   "cell_type": "code",
   "execution_count": 6,
   "metadata": {},
   "outputs": [
    {
     "name": "stdout",
     "output_type": "stream",
     "text": [
      "Searching for nithin\n"
     ]
    }
   ],
   "source": [
    "f = grep(\"nithin\")\n",
    "next(f)"
   ]
  },
  {
   "cell_type": "code",
   "execution_count": 7,
   "metadata": {},
   "outputs": [],
   "source": [
    "f.send(\"w9w\")"
   ]
  },
  {
   "cell_type": "code",
   "execution_count": 8,
   "metadata": {},
   "outputs": [],
   "source": [
    "PATH = pathlib.Path(os.getcwd()).parent "
   ]
  },
  {
   "cell_type": "code",
   "execution_count": 9,
   "metadata": {},
   "outputs": [],
   "source": [
    "import feather\n",
    "df_raw = feather.read_dataframe('/home/nithin/Documents/ba-14/tmp/bulldozers-raw')\n"
   ]
  },
  {
   "cell_type": "code",
   "execution_count": 10,
   "metadata": {},
   "outputs": [],
   "source": [
    "\n",
    "def fix_missing(df, col,name):\n",
    "    if is_numeric_dtype(col):\n",
    "        if pd.isnull(col).sum():\n",
    "            df[name] = col.fillna(col.median())   \n",
    "            df[name + \"_na\"] = pd.isnull(col)\n",
    "         \n",
    "def numericalize(df ,col,name ):\n",
    "    if not is_numeric_dtype(col) :\n",
    "        df[name] = pd.Categorical(col).codes+1 # for handling missing values in cats columns \n",
    "        \n",
    "def proc_df(df , y_fld):\n",
    "\n",
    "    df = df.copy()\n",
    "    y = df[y_fld].values\n",
    "    df.drop([y_fld], axis=1, inplace=True)\n",
    "    for n,c in df.items():\n",
    "        fix_missing(df,c,n)\n",
    "        numericalize(df,c,n)\n",
    "    return [df , y]\n"
   ]
  },
  {
   "cell_type": "code",
   "execution_count": 11,
   "metadata": {},
   "outputs": [],
   "source": [
    "df, y =proc_df(df_raw, \"SalePrice\")"
   ]
  },
  {
   "cell_type": "code",
   "execution_count": 12,
   "metadata": {},
   "outputs": [
    {
     "data": {
      "text/html": [
       "<div>\n",
       "<style scoped>\n",
       "    .dataframe tbody tr th:only-of-type {\n",
       "        vertical-align: middle;\n",
       "    }\n",
       "\n",
       "    .dataframe tbody tr th {\n",
       "        vertical-align: top;\n",
       "    }\n",
       "\n",
       "    .dataframe thead th {\n",
       "        text-align: right;\n",
       "    }\n",
       "</style>\n",
       "<table border=\"1\" class=\"dataframe\">\n",
       "  <thead>\n",
       "    <tr style=\"text-align: right;\">\n",
       "      <th></th>\n",
       "      <th>401120</th>\n",
       "      <th>401121</th>\n",
       "      <th>401122</th>\n",
       "      <th>401123</th>\n",
       "      <th>401124</th>\n",
       "    </tr>\n",
       "  </thead>\n",
       "  <tbody>\n",
       "    <tr>\n",
       "      <td>SalesID</td>\n",
       "      <td>6333336</td>\n",
       "      <td>6333337</td>\n",
       "      <td>6333338</td>\n",
       "      <td>6333341</td>\n",
       "      <td>6333342</td>\n",
       "    </tr>\n",
       "    <tr>\n",
       "      <td>MachineID</td>\n",
       "      <td>1840702</td>\n",
       "      <td>1830472</td>\n",
       "      <td>1887659</td>\n",
       "      <td>1903570</td>\n",
       "      <td>1926965</td>\n",
       "    </tr>\n",
       "    <tr>\n",
       "      <td>ModelID</td>\n",
       "      <td>21439</td>\n",
       "      <td>21439</td>\n",
       "      <td>21439</td>\n",
       "      <td>21435</td>\n",
       "      <td>21435</td>\n",
       "    </tr>\n",
       "    <tr>\n",
       "      <td>datasource</td>\n",
       "      <td>149</td>\n",
       "      <td>149</td>\n",
       "      <td>149</td>\n",
       "      <td>149</td>\n",
       "      <td>149</td>\n",
       "    </tr>\n",
       "    <tr>\n",
       "      <td>auctioneerID</td>\n",
       "      <td>1</td>\n",
       "      <td>1</td>\n",
       "      <td>1</td>\n",
       "      <td>2</td>\n",
       "      <td>2</td>\n",
       "    </tr>\n",
       "    <tr>\n",
       "      <td>...</td>\n",
       "      <td>...</td>\n",
       "      <td>...</td>\n",
       "      <td>...</td>\n",
       "      <td>...</td>\n",
       "      <td>...</td>\n",
       "    </tr>\n",
       "    <tr>\n",
       "      <td>saleIs_quarter_start</td>\n",
       "      <td>False</td>\n",
       "      <td>False</td>\n",
       "      <td>False</td>\n",
       "      <td>False</td>\n",
       "      <td>False</td>\n",
       "    </tr>\n",
       "    <tr>\n",
       "      <td>saleIs_year_end</td>\n",
       "      <td>False</td>\n",
       "      <td>False</td>\n",
       "      <td>False</td>\n",
       "      <td>False</td>\n",
       "      <td>False</td>\n",
       "    </tr>\n",
       "    <tr>\n",
       "      <td>saleIs_year_start</td>\n",
       "      <td>False</td>\n",
       "      <td>False</td>\n",
       "      <td>False</td>\n",
       "      <td>False</td>\n",
       "      <td>False</td>\n",
       "    </tr>\n",
       "    <tr>\n",
       "      <td>auctioneerID_na</td>\n",
       "      <td>False</td>\n",
       "      <td>False</td>\n",
       "      <td>False</td>\n",
       "      <td>False</td>\n",
       "      <td>False</td>\n",
       "    </tr>\n",
       "    <tr>\n",
       "      <td>MachineHoursCurrentMeter_na</td>\n",
       "      <td>False</td>\n",
       "      <td>False</td>\n",
       "      <td>False</td>\n",
       "      <td>False</td>\n",
       "      <td>False</td>\n",
       "    </tr>\n",
       "  </tbody>\n",
       "</table>\n",
       "<p>65 rows × 5 columns</p>\n",
       "</div>"
      ],
      "text/plain": [
       "                              401120   401121   401122   401123   401124\n",
       "SalesID                      6333336  6333337  6333338  6333341  6333342\n",
       "MachineID                    1840702  1830472  1887659  1903570  1926965\n",
       "ModelID                        21439    21439    21439    21435    21435\n",
       "datasource                       149      149      149      149      149\n",
       "auctioneerID                       1        1        1        2        2\n",
       "...                              ...      ...      ...      ...      ...\n",
       "saleIs_quarter_start           False    False    False    False    False\n",
       "saleIs_year_end                False    False    False    False    False\n",
       "saleIs_year_start              False    False    False    False    False\n",
       "auctioneerID_na                False    False    False    False    False\n",
       "MachineHoursCurrentMeter_na    False    False    False    False    False\n",
       "\n",
       "[65 rows x 5 columns]"
      ]
     },
     "execution_count": 12,
     "metadata": {},
     "output_type": "execute_result"
    }
   ],
   "source": [
    "df.tail().T"
   ]
  },
  {
   "cell_type": "code",
   "execution_count": 13,
   "metadata": {},
   "outputs": [
    {
     "name": "stderr",
     "output_type": "stream",
     "text": [
      "/home/nithin/miniconda3/lib/python3.7/site-packages/sklearn/ensemble/forest.py:246: FutureWarning: The default value of n_estimators will change from 10 in version 0.20 to 100 in 0.22.\n",
      "  \"10 in version 0.20 to 100 in 0.22.\", FutureWarning)\n"
     ]
    },
    {
     "data": {
      "text/plain": [
       "0.9818420359883893"
      ]
     },
     "execution_count": 13,
     "metadata": {},
     "output_type": "execute_result"
    }
   ],
   "source": [
    "m = RandomForestRegressor(n_jobs=-1)\n",
    "m.fit(df, y)\n",
    "m.score(df,y)"
   ]
  },
  {
   "cell_type": "markdown",
   "metadata": {},
   "source": [
    "Wow, an r^2 of 0.98 - that's great, right? Well, perhaps not...\n",
    "\n",
    "Possibly **the most important idea** in machine learning is that of having separate training & validation data sets. As motivation, suppose you don't divide up your data, but instead use all of it.  And suppose you have lots of parameters:\n",
    "\n",
    "<img src=\"images/overfitting2.png\" alt=\"\" style=\"width: 70%\"/>\n",
    "<center>\n",
    "[Underfitting and Overfitting](https://datascience.stackexchange.com/questions/361/when-is-a-model-underfitted)\n",
    "</center>\n",
    "\n",
    "The error for the pictured data points is lowest for the model on the far right (the blue curve passes through the red points almost perfectly), yet it's not the best choice.  Why is that?  If you were to gather some new data points, they most likely would not be on that curve in the graph on the right, but would be closer to the curve in the middle graph.\n",
    "\n",
    "This illustrates how using all our data can lead to **overfitting**. A validation set helps diagnose this problem."
   ]
  },
  {
   "cell_type": "markdown",
   "metadata": {},
   "source": [
    "https://en.wikipedia.org/wiki/Coefficient_of_determination"
   ]
  },
  {
   "cell_type": "markdown",
   "metadata": {},
   "source": [
    "home work creatre some synethic dataset get feel for r^2 (scatter plot)"
   ]
  },
  {
   "cell_type": "code",
   "execution_count": 111,
   "metadata": {},
   "outputs": [],
   "source": [
    "ll  = list(range(10))"
   ]
  },
  {
   "cell_type": "code",
   "execution_count": 112,
   "metadata": {},
   "outputs": [],
   "source": [
    "n = 2"
   ]
  },
  {
   "cell_type": "code",
   "execution_count": 115,
   "metadata": {},
   "outputs": [
    {
     "data": {
      "text/plain": [
       "[0, 1]"
      ]
     },
     "execution_count": 115,
     "metadata": {},
     "output_type": "execute_result"
    }
   ],
   "source": [
    "ll[:n]"
   ]
  },
  {
   "cell_type": "code",
   "execution_count": 14,
   "metadata": {},
   "outputs": [
    {
     "data": {
      "text/plain": [
       "((389125, 65), (389125,), (12000, 65), (12000,))"
      ]
     },
     "execution_count": 14,
     "metadata": {},
     "output_type": "execute_result"
    }
   ],
   "source": [
    "def split_vals(a,n): \n",
    "    return a[:n].copy(), a[n:].copy()\n",
    "\n",
    "n_valid = 12000  # same as Kaggle's test set size\n",
    "n_trn = len(df) - n_valid\n",
    "\n",
    "X_train, X_valid = split_vals(df, n_trn)\n",
    "y_train, y_valid = split_vals(y, n_trn)\n",
    "\n",
    "X_train.shape, y_train.shape, X_valid.shape, y_valid.shape"
   ]
  },
  {
   "cell_type": "code",
   "execution_count": 15,
   "metadata": {},
   "outputs": [],
   "source": [
    "def rmse(x,y): \n",
    "    return math.sqrt(((x-y)**2).mean())\n",
    "\n",
    "def print_score(m):\n",
    "    res = [rmse(m.predict(X_train), y_train), rmse(m.predict(X_valid), y_valid),\n",
    "                m.score(X_train, y_train), m.score(X_valid, y_valid)]\n",
    "    if hasattr(m, 'oob_score_'): res.append(m.oob_score_)\n",
    "    print(res)"
   ]
  },
  {
   "cell_type": "code",
   "execution_count": 16,
   "metadata": {},
   "outputs": [
    {
     "name": "stdout",
     "output_type": "stream",
     "text": [
      "[3101.0856182649327, 3205.250676568969, 0.9818172770484104, 0.9825280678459575]\n"
     ]
    }
   ],
   "source": [
    "\n",
    "print_score(m)"
   ]
  },
  {
   "cell_type": "code",
   "execution_count": 17,
   "metadata": {},
   "outputs": [
    {
     "name": "stdout",
     "output_type": "stream",
     "text": [
      "[16949.097181239504, 17028.60540184841, 0.45684404256457867, 0.5068544741996219]\n"
     ]
    }
   ],
   "source": [
    "m = RandomForestRegressor(n_estimators=1, max_depth=3,\n",
    "                          bootstrap=False, n_jobs=-1)\n",
    "m.fit(X_train, y_train)\n",
    "print_score(m)\n"
   ]
  },
  {
   "cell_type": "code",
   "execution_count": 18,
   "metadata": {},
   "outputs": [],
   "source": [
    "\n",
    "\n",
    "\n",
    "\n",
    "\n",
    "\n",
    "\n",
    "\n",
    "\n",
    "\n",
    "\n",
    "\n",
    "def draw_tree(t, df, size=10, ratio=0.6, precision=0):\n",
    "\n",
    "    s=export_graphviz(t, out_file=None, feature_names=df.columns, filled=True,\n",
    "                      special_characters=True, rotate=True, precision=precision)\n",
    "    display(graphviz.Source(re.sub('Tree {',\n",
    "       f'Tree {{ size={size}; ratio={ratio}', s)))"
   ]
  },
  {
   "cell_type": "code",
   "execution_count": 19,
   "metadata": {},
   "outputs": [
    {
     "data": {
      "text/plain": [
       "array([0, 4, 6, 3, 5, 2, 1])"
      ]
     },
     "execution_count": 19,
     "metadata": {},
     "output_type": "execute_result"
    }
   ],
   "source": [
    "df.ProductSize.unique()"
   ]
  },
  {
   "cell_type": "code",
   "execution_count": 20,
   "metadata": {},
   "outputs": [
    {
     "data": {
      "image/svg+xml": [
       "<?xml version=\"1.0\" encoding=\"UTF-8\" standalone=\"no\"?>\n",
       "<!DOCTYPE svg PUBLIC \"-//W3C//DTD SVG 1.1//EN\"\n",
       " \"http://www.w3.org/Graphics/SVG/1.1/DTD/svg11.dtd\">\n",
       "<!-- Generated by graphviz version 2.38.0 (20140413.2041)\n",
       " -->\n",
       "<!-- Title: Tree Pages: 1 -->\n",
       "<svg width=\"720pt\" height=\"434pt\"\n",
       " viewBox=\"0.00 0.00 720.00 434.49\" xmlns=\"http://www.w3.org/2000/svg\" xmlns:xlink=\"http://www.w3.org/1999/xlink\">\n",
       "<g id=\"graph0\" class=\"graph\" transform=\"scale(0.778659 0.778659) rotate(0) translate(4 554)\">\n",
       "<title>Tree</title>\n",
       "<polygon fill=\"white\" stroke=\"none\" points=\"-4,4 -4,-554 920.667,-554 920.667,4 -4,4\"/>\n",
       "<!-- 0 -->\n",
       "<g id=\"node1\" class=\"node\"><title>0</title>\n",
       "<polygon fill=\"#e58139\" fill-opacity=\"0.282353\" stroke=\"black\" points=\"165.667,-308.5 25.6667,-308.5 25.6667,-240.5 165.667,-240.5 165.667,-308.5\"/>\n",
       "<text text-anchor=\"start\" x=\"46.1667\" y=\"-293.3\" font-family=\"Times,serif\" font-size=\"14.00\">ProductSize ≤ 1.5</text>\n",
       "<text text-anchor=\"start\" x=\"33.6667\" y=\"-278.3\" font-family=\"Times,serif\" font-size=\"14.00\">mse = 528893941.651</text>\n",
       "<text text-anchor=\"start\" x=\"45.1667\" y=\"-263.3\" font-family=\"Times,serif\" font-size=\"14.00\">samples = 389125</text>\n",
       "<text text-anchor=\"start\" x=\"47.1667\" y=\"-248.3\" font-family=\"Times,serif\" font-size=\"14.00\">value = 31132.56</text>\n",
       "</g>\n",
       "<!-- 1 -->\n",
       "<g id=\"node2\" class=\"node\"><title>1</title>\n",
       "<polygon fill=\"#e58139\" fill-opacity=\"0.184314\" stroke=\"black\" points=\"404.667,-361.5 264.667,-361.5 264.667,-293.5 404.667,-293.5 404.667,-361.5\"/>\n",
       "<text text-anchor=\"start\" x=\"279.167\" y=\"-346.3\" font-family=\"Times,serif\" font-size=\"14.00\">fiBaseModel ≤ 30.5</text>\n",
       "<text text-anchor=\"start\" x=\"272.667\" y=\"-331.3\" font-family=\"Times,serif\" font-size=\"14.00\">mse = 329634108.587</text>\n",
       "<text text-anchor=\"start\" x=\"284.167\" y=\"-316.3\" font-family=\"Times,serif\" font-size=\"14.00\">samples = 210409</text>\n",
       "<text text-anchor=\"start\" x=\"283.167\" y=\"-301.3\" font-family=\"Times,serif\" font-size=\"14.00\">value = 23865.101</text>\n",
       "</g>\n",
       "<!-- 0&#45;&gt;1 -->\n",
       "<g id=\"edge1\" class=\"edge\"><title>0&#45;&gt;1</title>\n",
       "<path fill=\"none\" stroke=\"black\" d=\"M165.854,-289.972C193.598,-296.177 225.73,-303.362 254.407,-309.775\"/>\n",
       "<polygon fill=\"black\" stroke=\"black\" points=\"253.871,-313.242 264.393,-312.009 255.398,-306.41 253.871,-313.242\"/>\n",
       "<text text-anchor=\"middle\" x=\"243.284\" y=\"-321.702\" font-family=\"Times,serif\" font-size=\"14.00\">True</text>\n",
       "</g>\n",
       "<!-- 8 -->\n",
       "<g id=\"node9\" class=\"node\"><title>8</title>\n",
       "<polygon fill=\"#e58139\" fill-opacity=\"0.400000\" stroke=\"black\" points=\"404.667,-255.5 264.667,-255.5 264.667,-187.5 404.667,-187.5 404.667,-255.5\"/>\n",
       "<text text-anchor=\"start\" x=\"285.167\" y=\"-240.3\" font-family=\"Times,serif\" font-size=\"14.00\">ProductSize ≤ 4.5</text>\n",
       "<text text-anchor=\"start\" x=\"272.667\" y=\"-225.3\" font-family=\"Times,serif\" font-size=\"14.00\">mse = 628098335.764</text>\n",
       "<text text-anchor=\"start\" x=\"284.167\" y=\"-210.3\" font-family=\"Times,serif\" font-size=\"14.00\">samples = 178716</text>\n",
       "<text text-anchor=\"start\" x=\"283.167\" y=\"-195.3\" font-family=\"Times,serif\" font-size=\"14.00\">value = 39688.811</text>\n",
       "</g>\n",
       "<!-- 0&#45;&gt;8 -->\n",
       "<g id=\"edge8\" class=\"edge\"><title>0&#45;&gt;8</title>\n",
       "<path fill=\"none\" stroke=\"black\" d=\"M165.854,-259.028C193.598,-252.823 225.73,-245.638 254.407,-239.225\"/>\n",
       "<polygon fill=\"black\" stroke=\"black\" points=\"255.398,-242.59 264.393,-236.991 253.871,-235.758 255.398,-242.59\"/>\n",
       "<text text-anchor=\"middle\" x=\"243.284\" y=\"-219.898\" font-family=\"Times,serif\" font-size=\"14.00\">False</text>\n",
       "</g>\n",
       "<!-- 2 -->\n",
       "<g id=\"node3\" class=\"node\"><title>2</title>\n",
       "<polygon fill=\"#e58139\" fill-opacity=\"0.596078\" stroke=\"black\" points=\"650.667,-486.5 504.667,-486.5 504.667,-418.5 650.667,-418.5 650.667,-486.5\"/>\n",
       "<text text-anchor=\"start\" x=\"521.667\" y=\"-471.3\" font-family=\"Times,serif\" font-size=\"14.00\">YearMade ≤ 1986.5</text>\n",
       "<text text-anchor=\"start\" x=\"512.667\" y=\"-456.3\" font-family=\"Times,serif\" font-size=\"14.00\">mse = 1091193295.055</text>\n",
       "<text text-anchor=\"start\" x=\"530.667\" y=\"-441.3\" font-family=\"Times,serif\" font-size=\"14.00\">samples = 15966</text>\n",
       "<text text-anchor=\"start\" x=\"526.167\" y=\"-426.3\" font-family=\"Times,serif\" font-size=\"14.00\">value = 54016.277</text>\n",
       "</g>\n",
       "<!-- 1&#45;&gt;2 -->\n",
       "<g id=\"edge2\" class=\"edge\"><title>1&#45;&gt;2</title>\n",
       "<path fill=\"none\" stroke=\"black\" d=\"M401.521,-361.657C432.604,-377.779 469.842,-397.093 501.974,-413.759\"/>\n",
       "<polygon fill=\"black\" stroke=\"black\" points=\"500.403,-416.887 510.892,-418.384 503.626,-410.673 500.403,-416.887\"/>\n",
       "</g>\n",
       "<!-- 5 -->\n",
       "<g id=\"node6\" class=\"node\"><title>5</title>\n",
       "<polygon fill=\"#e58139\" fill-opacity=\"0.149020\" stroke=\"black\" points=\"647.667,-361.5 507.667,-361.5 507.667,-293.5 647.667,-293.5 647.667,-361.5\"/>\n",
       "<text text-anchor=\"start\" x=\"515.667\" y=\"-346.3\" font-family=\"Times,serif\" font-size=\"14.00\">Coupler_System ≤ 0.5</text>\n",
       "<text text-anchor=\"start\" x=\"515.667\" y=\"-331.3\" font-family=\"Times,serif\" font-size=\"14.00\">mse = 186324993.835</text>\n",
       "<text text-anchor=\"start\" x=\"527.167\" y=\"-316.3\" font-family=\"Times,serif\" font-size=\"14.00\">samples = 194443</text>\n",
       "<text text-anchor=\"start\" x=\"526.167\" y=\"-301.3\" font-family=\"Times,serif\" font-size=\"14.00\">value = 21389.343</text>\n",
       "</g>\n",
       "<!-- 1&#45;&gt;5 -->\n",
       "<g id=\"edge5\" class=\"edge\"><title>1&#45;&gt;5</title>\n",
       "<path fill=\"none\" stroke=\"black\" d=\"M404.728,-327.5C433.72,-327.5 467.602,-327.5 497.588,-327.5\"/>\n",
       "<polygon fill=\"black\" stroke=\"black\" points=\"497.596,-331 507.596,-327.5 497.596,-324 497.596,-331\"/>\n",
       "</g>\n",
       "<!-- 3 -->\n",
       "<g id=\"node4\" class=\"node\"><title>3</title>\n",
       "<polygon fill=\"#e58139\" fill-opacity=\"0.341176\" stroke=\"black\" points=\"891.667,-550 751.667,-550 751.667,-497 891.667,-497 891.667,-550\"/>\n",
       "<text text-anchor=\"start\" x=\"759.667\" y=\"-534.8\" font-family=\"Times,serif\" font-size=\"14.00\">mse = 392214445.515</text>\n",
       "<text text-anchor=\"start\" x=\"777.667\" y=\"-519.8\" font-family=\"Times,serif\" font-size=\"14.00\">samples = 9765</text>\n",
       "<text text-anchor=\"start\" x=\"770.167\" y=\"-504.8\" font-family=\"Times,serif\" font-size=\"14.00\">value = 35346.655</text>\n",
       "</g>\n",
       "<!-- 2&#45;&gt;3 -->\n",
       "<g id=\"edge3\" class=\"edge\"><title>2&#45;&gt;3</title>\n",
       "<path fill=\"none\" stroke=\"black\" d=\"M650.947,-473.706C679.602,-482.113 712.633,-491.804 741.896,-500.39\"/>\n",
       "<polygon fill=\"black\" stroke=\"black\" points=\"741.083,-503.799 751.664,-503.255 743.054,-497.082 741.083,-503.799\"/>\n",
       "</g>\n",
       "<!-- 4 -->\n",
       "<g id=\"node5\" class=\"node\"><title>4</title>\n",
       "<polygon fill=\"#e58139\" stroke=\"black\" points=\"891.667,-479 751.667,-479 751.667,-426 891.667,-426 891.667,-479\"/>\n",
       "<text text-anchor=\"start\" x=\"759.667\" y=\"-463.8\" font-family=\"Times,serif\" font-size=\"14.00\">mse = 778667235.607</text>\n",
       "<text text-anchor=\"start\" x=\"777.667\" y=\"-448.8\" font-family=\"Times,serif\" font-size=\"14.00\">samples = 6201</text>\n",
       "<text text-anchor=\"start\" x=\"770.167\" y=\"-433.8\" font-family=\"Times,serif\" font-size=\"14.00\">value = 83416.191</text>\n",
       "</g>\n",
       "<!-- 2&#45;&gt;4 -->\n",
       "<g id=\"edge4\" class=\"edge\"><title>2&#45;&gt;4</title>\n",
       "<path fill=\"none\" stroke=\"black\" d=\"M650.947,-452.5C679.477,-452.5 712.346,-452.5 741.514,-452.5\"/>\n",
       "<polygon fill=\"black\" stroke=\"black\" points=\"741.664,-456 751.664,-452.5 741.664,-449 741.664,-456\"/>\n",
       "</g>\n",
       "<!-- 6 -->\n",
       "<g id=\"node7\" class=\"node\"><title>6</title>\n",
       "<polygon fill=\"#e58139\" fill-opacity=\"0.188235\" stroke=\"black\" points=\"891.667,-408 751.667,-408 751.667,-355 891.667,-355 891.667,-408\"/>\n",
       "<text text-anchor=\"start\" x=\"759.667\" y=\"-392.8\" font-family=\"Times,serif\" font-size=\"14.00\">mse = 192777922.974</text>\n",
       "<text text-anchor=\"start\" x=\"771.167\" y=\"-377.8\" font-family=\"Times,serif\" font-size=\"14.00\">samples = 153808</text>\n",
       "<text text-anchor=\"start\" x=\"770.167\" y=\"-362.8\" font-family=\"Times,serif\" font-size=\"14.00\">value = 24260.562</text>\n",
       "</g>\n",
       "<!-- 5&#45;&gt;6 -->\n",
       "<g id=\"edge6\" class=\"edge\"><title>5&#45;&gt;6</title>\n",
       "<path fill=\"none\" stroke=\"black\" d=\"M647.69,-342.902C676.935,-349.428 711.182,-357.07 741.452,-363.824\"/>\n",
       "<polygon fill=\"black\" stroke=\"black\" points=\"741.029,-367.316 751.551,-366.078 742.554,-360.484 741.029,-367.316\"/>\n",
       "</g>\n",
       "<!-- 7 -->\n",
       "<g id=\"node8\" class=\"node\"><title>7</title>\n",
       "<polygon fill=\"none\" stroke=\"black\" points=\"888.167,-337 755.167,-337 755.167,-284 888.167,-284 888.167,-337\"/>\n",
       "<text text-anchor=\"start\" x=\"763.167\" y=\"-321.8\" font-family=\"Times,serif\" font-size=\"14.00\">mse = 12584964.422</text>\n",
       "<text text-anchor=\"start\" x=\"774.667\" y=\"-306.8\" font-family=\"Times,serif\" font-size=\"14.00\">samples = 40635</text>\n",
       "<text text-anchor=\"start\" x=\"770.167\" y=\"-291.8\" font-family=\"Times,serif\" font-size=\"14.00\">value = 10521.459</text>\n",
       "</g>\n",
       "<!-- 5&#45;&gt;7 -->\n",
       "<g id=\"edge7\" class=\"edge\"><title>5&#45;&gt;7</title>\n",
       "<path fill=\"none\" stroke=\"black\" d=\"M647.69,-322.651C677.94,-320.526 713.54,-318.025 744.555,-315.847\"/>\n",
       "<polygon fill=\"black\" stroke=\"black\" points=\"745.153,-319.313 754.883,-315.121 744.662,-312.331 745.153,-319.313\"/>\n",
       "</g>\n",
       "<!-- 9 -->\n",
       "<g id=\"node10\" class=\"node\"><title>9</title>\n",
       "<polygon fill=\"#e58139\" fill-opacity=\"0.482353\" stroke=\"black\" points=\"647.667,-255.5 507.667,-255.5 507.667,-187.5 647.667,-187.5 647.667,-255.5\"/>\n",
       "<text text-anchor=\"start\" x=\"521.667\" y=\"-240.3\" font-family=\"Times,serif\" font-size=\"14.00\">YearMade ≤ 1985.5</text>\n",
       "<text text-anchor=\"start\" x=\"515.667\" y=\"-225.3\" font-family=\"Times,serif\" font-size=\"14.00\">mse = 651757934.756</text>\n",
       "<text text-anchor=\"start\" x=\"527.167\" y=\"-210.3\" font-family=\"Times,serif\" font-size=\"14.00\">samples = 129375</text>\n",
       "<text text-anchor=\"start\" x=\"526.167\" y=\"-195.3\" font-family=\"Times,serif\" font-size=\"14.00\">value = 45616.002</text>\n",
       "</g>\n",
       "<!-- 8&#45;&gt;9 -->\n",
       "<g id=\"edge9\" class=\"edge\"><title>8&#45;&gt;9</title>\n",
       "<path fill=\"none\" stroke=\"black\" d=\"M404.728,-221.5C433.72,-221.5 467.602,-221.5 497.588,-221.5\"/>\n",
       "<polygon fill=\"black\" stroke=\"black\" points=\"497.596,-225 507.596,-221.5 497.596,-218 497.596,-225\"/>\n",
       "</g>\n",
       "<!-- 12 -->\n",
       "<g id=\"node13\" class=\"node\"><title>12</title>\n",
       "<polygon fill=\"#e58139\" fill-opacity=\"0.188235\" stroke=\"black\" points=\"647.667,-131.5 507.667,-131.5 507.667,-63.5 647.667,-63.5 647.667,-131.5\"/>\n",
       "<text text-anchor=\"start\" x=\"528.167\" y=\"-116.3\" font-family=\"Times,serif\" font-size=\"14.00\">ProductSize ≤ 5.5</text>\n",
       "<text text-anchor=\"start\" x=\"515.667\" y=\"-101.3\" font-family=\"Times,serif\" font-size=\"14.00\">mse = 232407873.349</text>\n",
       "<text text-anchor=\"start\" x=\"530.667\" y=\"-86.3\" font-family=\"Times,serif\" font-size=\"14.00\">samples = 49341</text>\n",
       "<text text-anchor=\"start\" x=\"526.167\" y=\"-71.3\" font-family=\"Times,serif\" font-size=\"14.00\">value = 24147.366</text>\n",
       "</g>\n",
       "<!-- 8&#45;&gt;12 -->\n",
       "<g id=\"edge12\" class=\"edge\"><title>8&#45;&gt;12</title>\n",
       "<path fill=\"none\" stroke=\"black\" d=\"M401.84,-187.452C432.532,-171.661 469.171,-152.809 500.961,-136.452\"/>\n",
       "<polygon fill=\"black\" stroke=\"black\" points=\"502.932,-139.374 510.223,-131.687 499.73,-133.15 502.932,-139.374\"/>\n",
       "</g>\n",
       "<!-- 10 -->\n",
       "<g id=\"node11\" class=\"node\"><title>10</title>\n",
       "<polygon fill=\"#e58139\" fill-opacity=\"0.250980\" stroke=\"black\" points=\"891.667,-266 751.667,-266 751.667,-213 891.667,-213 891.667,-266\"/>\n",
       "<text text-anchor=\"start\" x=\"759.667\" y=\"-250.8\" font-family=\"Times,serif\" font-size=\"14.00\">mse = 309087860.761</text>\n",
       "<text text-anchor=\"start\" x=\"774.667\" y=\"-235.8\" font-family=\"Times,serif\" font-size=\"14.00\">samples = 44600</text>\n",
       "<text text-anchor=\"start\" x=\"770.167\" y=\"-220.8\" font-family=\"Times,serif\" font-size=\"14.00\">value = 28818.743</text>\n",
       "</g>\n",
       "<!-- 9&#45;&gt;10 -->\n",
       "<g id=\"edge10\" class=\"edge\"><title>9&#45;&gt;10</title>\n",
       "<path fill=\"none\" stroke=\"black\" d=\"M647.69,-226.634C676.935,-228.809 711.182,-231.357 741.452,-233.608\"/>\n",
       "<polygon fill=\"black\" stroke=\"black\" points=\"741.319,-237.108 751.551,-234.359 741.839,-230.127 741.319,-237.108\"/>\n",
       "</g>\n",
       "<!-- 11 -->\n",
       "<g id=\"node12\" class=\"node\"><title>11</title>\n",
       "<polygon fill=\"#e58139\" fill-opacity=\"0.603922\" stroke=\"black\" points=\"891.667,-195 751.667,-195 751.667,-142 891.667,-142 891.667,-195\"/>\n",
       "<text text-anchor=\"start\" x=\"759.667\" y=\"-179.8\" font-family=\"Times,serif\" font-size=\"14.00\">mse = 605505752.658</text>\n",
       "<text text-anchor=\"start\" x=\"774.667\" y=\"-164.8\" font-family=\"Times,serif\" font-size=\"14.00\">samples = 84775</text>\n",
       "<text text-anchor=\"start\" x=\"770.167\" y=\"-149.8\" font-family=\"Times,serif\" font-size=\"14.00\">value = 54453.015</text>\n",
       "</g>\n",
       "<!-- 9&#45;&gt;11 -->\n",
       "<g id=\"edge11\" class=\"edge\"><title>9&#45;&gt;11</title>\n",
       "<path fill=\"none\" stroke=\"black\" d=\"M647.69,-206.383C676.935,-199.978 711.182,-192.478 741.452,-185.849\"/>\n",
       "<polygon fill=\"black\" stroke=\"black\" points=\"742.532,-189.195 751.551,-183.637 741.034,-182.357 742.532,-189.195\"/>\n",
       "</g>\n",
       "<!-- 13 -->\n",
       "<g id=\"node14\" class=\"node\"><title>13</title>\n",
       "<polygon fill=\"#e58139\" fill-opacity=\"0.062745\" stroke=\"black\" points=\"888.167,-124 755.167,-124 755.167,-71 888.167,-71 888.167,-124\"/>\n",
       "<text text-anchor=\"start\" x=\"763.167\" y=\"-108.8\" font-family=\"Times,serif\" font-size=\"14.00\">mse = 50034899.321</text>\n",
       "<text text-anchor=\"start\" x=\"774.667\" y=\"-93.8\" font-family=\"Times,serif\" font-size=\"14.00\">samples = 23471</text>\n",
       "<text text-anchor=\"start\" x=\"770.167\" y=\"-78.8\" font-family=\"Times,serif\" font-size=\"14.00\">value = 15154.452</text>\n",
       "</g>\n",
       "<!-- 12&#45;&gt;13 -->\n",
       "<g id=\"edge13\" class=\"edge\"><title>12&#45;&gt;13</title>\n",
       "<path fill=\"none\" stroke=\"black\" d=\"M647.69,-97.5C677.94,-97.5 713.54,-97.5 744.555,-97.5\"/>\n",
       "<polygon fill=\"black\" stroke=\"black\" points=\"744.883,-101 754.883,-97.5 744.883,-94.0001 744.883,-101\"/>\n",
       "</g>\n",
       "<!-- 14 -->\n",
       "<g id=\"node15\" class=\"node\"><title>14</title>\n",
       "<polygon fill=\"#e58139\" fill-opacity=\"0.298039\" stroke=\"black\" points=\"891.667,-53 751.667,-53 751.667,-0 891.667,-0 891.667,-53\"/>\n",
       "<text text-anchor=\"start\" x=\"759.667\" y=\"-37.8\" font-family=\"Times,serif\" font-size=\"14.00\">mse = 257927017.966</text>\n",
       "<text text-anchor=\"start\" x=\"774.667\" y=\"-22.8\" font-family=\"Times,serif\" font-size=\"14.00\">samples = 25870</text>\n",
       "<text text-anchor=\"start\" x=\"770.167\" y=\"-7.8\" font-family=\"Times,serif\" font-size=\"14.00\">value = 32306.342</text>\n",
       "</g>\n",
       "<!-- 12&#45;&gt;14 -->\n",
       "<g id=\"edge14\" class=\"edge\"><title>12&#45;&gt;14</title>\n",
       "<path fill=\"none\" stroke=\"black\" d=\"M647.69,-77.2493C677.063,-68.6318 711.48,-58.5341 741.846,-49.625\"/>\n",
       "<polygon fill=\"black\" stroke=\"black\" points=\"742.941,-52.9514 751.551,-46.7776 740.97,-46.2345 742.941,-52.9514\"/>\n",
       "</g>\n",
       "</g>\n",
       "</svg>\n"
      ],
      "text/plain": [
       "<graphviz.files.Source at 0x7fe978c00510>"
      ]
     },
     "metadata": {},
     "output_type": "display_data"
    }
   ],
   "source": [
    "draw_tree(m.estimators_[0], X_train, precision=3)"
   ]
  },
  {
   "cell_type": "code",
   "execution_count": 21,
   "metadata": {},
   "outputs": [],
   "source": [
    "ret = m.predict(X_train)"
   ]
  },
  {
   "cell_type": "code",
   "execution_count": 22,
   "metadata": {},
   "outputs": [
    {
     "data": {
      "text/plain": [
       "array([24260.56231145, 54453.01485108, 10521.45943152, 32306.34194047,\n",
       "       10521.45943152, 24260.56231145, 54453.01485108, 24260.56231145,\n",
       "       15154.45162115, 28818.74269058, 24260.56231145, 24260.56231145,\n",
       "       54453.01485108, 24260.56231145, 24260.56231145, 24260.56231145,\n",
       "       15154.45162115, 15154.45162115, 15154.45162115, 24260.56231145,\n",
       "       54453.01485108, 35346.65488991, 15154.45162115, 54453.01485108,\n",
       "       24260.56231145, 10521.45943152, 15154.45162115, 54453.01485108,\n",
       "       24260.56231145, 54453.01485108, 54453.01485108, 10521.45943152,\n",
       "       24260.56231145, 28818.74269058, 15154.45162115, 28818.74269058,\n",
       "       24260.56231145, 15154.45162115, 10521.45943152, 35346.65488991,\n",
       "       15154.45162115, 54453.01485108, 24260.56231145, 10521.45943152,\n",
       "       32306.34194047, 10521.45943152, 24260.56231145, 24260.56231145,\n",
       "       10521.45943152, 15154.45162115, 24260.56231145, 10521.45943152,\n",
       "       32306.34194047, 24260.56231145, 28818.74269058, 32306.34194047,\n",
       "       15154.45162115, 15154.45162115, 15154.45162115, 24260.56231145,\n",
       "       24260.56231145, 24260.56231145, 24260.56231145, 24260.56231145,\n",
       "       35346.65488991, 10521.45943152, 10521.45943152, 24260.56231145,\n",
       "       54453.01485108, 54453.01485108, 24260.56231145, 32306.34194047,\n",
       "       24260.56231145, 32306.34194047, 10521.45943152, 32306.34194047,\n",
       "       10521.45943152, 10521.45943152, 32306.34194047, 24260.56231145,\n",
       "       54453.01485108, 28818.74269058, 24260.56231145, 10521.45943152,\n",
       "       54453.01485108, 24260.56231145, 54453.01485108, 54453.01485108,\n",
       "       54453.01485108, 24260.56231145, 28818.74269058, 24260.56231145,\n",
       "       24260.56231145, 10521.45943152, 54453.01485108, 24260.56231145,\n",
       "       10521.45943152, 54453.01485108, 24260.56231145, 24260.56231145])"
      ]
     },
     "execution_count": 22,
     "metadata": {},
     "output_type": "execute_result"
    }
   ],
   "source": [
    "ret[:100]"
   ]
  },
  {
   "cell_type": "code",
   "execution_count": 23,
   "metadata": {},
   "outputs": [
    {
     "name": "stdout",
     "output_type": "stream",
     "text": [
      "[0.0, 12274.931413314835, 1.0, 0.7437551876715564]\n"
     ]
    }
   ],
   "source": [
    "m = RandomForestRegressor(n_estimators=1, bootstrap=False, n_jobs=-1)\n",
    "m.fit(X_train, y_train)\n",
    "print_score(m)"
   ]
  },
  {
   "cell_type": "markdown",
   "metadata": {},
   "source": [
    "## Bagging"
   ]
  },
  {
   "cell_type": "code",
   "execution_count": 24,
   "metadata": {
    "scrolled": true
   },
   "outputs": [
    {
     "name": "stderr",
     "output_type": "stream",
     "text": [
      "/home/nithin/miniconda3/lib/python3.7/site-packages/sklearn/ensemble/forest.py:246: FutureWarning: The default value of n_estimators will change from 10 in version 0.20 to 100 in 0.22.\n",
      "  \"10 in version 0.20 to 100 in 0.22.\", FutureWarning)\n"
     ]
    },
    {
     "name": "stdout",
     "output_type": "stream",
     "text": [
      "[3101.1914792113375, 8526.130663227019, 0.9818160356295328, 0.8763708448434535]\n"
     ]
    }
   ],
   "source": [
    "m = RandomForestRegressor(n_jobs=-1)\n",
    "m.fit(X_train, y_train)\n",
    "print_score(m)"
   ]
  },
  {
   "cell_type": "code",
   "execution_count": null,
   "metadata": {},
   "outputs": [],
   "source": []
  },
  {
   "cell_type": "code",
   "execution_count": 138,
   "metadata": {},
   "outputs": [
    {
     "data": {
      "text/plain": [
       "[DecisionTreeRegressor(criterion='mse', max_depth=None, max_features='auto',\n",
       "                       max_leaf_nodes=None, min_impurity_decrease=0.0,\n",
       "                       min_impurity_split=None, min_samples_leaf=1,\n",
       "                       min_samples_split=2, min_weight_fraction_leaf=0.0,\n",
       "                       presort=False, random_state=1780021014, splitter='best'),\n",
       " DecisionTreeRegressor(criterion='mse', max_depth=None, max_features='auto',\n",
       "                       max_leaf_nodes=None, min_impurity_decrease=0.0,\n",
       "                       min_impurity_split=None, min_samples_leaf=1,\n",
       "                       min_samples_split=2, min_weight_fraction_leaf=0.0,\n",
       "                       presort=False, random_state=521405410, splitter='best'),\n",
       " DecisionTreeRegressor(criterion='mse', max_depth=None, max_features='auto',\n",
       "                       max_leaf_nodes=None, min_impurity_decrease=0.0,\n",
       "                       min_impurity_split=None, min_samples_leaf=1,\n",
       "                       min_samples_split=2, min_weight_fraction_leaf=0.0,\n",
       "                       presort=False, random_state=809949560, splitter='best'),\n",
       " DecisionTreeRegressor(criterion='mse', max_depth=None, max_features='auto',\n",
       "                       max_leaf_nodes=None, min_impurity_decrease=0.0,\n",
       "                       min_impurity_split=None, min_samples_leaf=1,\n",
       "                       min_samples_split=2, min_weight_fraction_leaf=0.0,\n",
       "                       presort=False, random_state=1127409124, splitter='best'),\n",
       " DecisionTreeRegressor(criterion='mse', max_depth=None, max_features='auto',\n",
       "                       max_leaf_nodes=None, min_impurity_decrease=0.0,\n",
       "                       min_impurity_split=None, min_samples_leaf=1,\n",
       "                       min_samples_split=2, min_weight_fraction_leaf=0.0,\n",
       "                       presort=False, random_state=379763850, splitter='best'),\n",
       " DecisionTreeRegressor(criterion='mse', max_depth=None, max_features='auto',\n",
       "                       max_leaf_nodes=None, min_impurity_decrease=0.0,\n",
       "                       min_impurity_split=None, min_samples_leaf=1,\n",
       "                       min_samples_split=2, min_weight_fraction_leaf=0.0,\n",
       "                       presort=False, random_state=1670647713, splitter='best'),\n",
       " DecisionTreeRegressor(criterion='mse', max_depth=None, max_features='auto',\n",
       "                       max_leaf_nodes=None, min_impurity_decrease=0.0,\n",
       "                       min_impurity_split=None, min_samples_leaf=1,\n",
       "                       min_samples_split=2, min_weight_fraction_leaf=0.0,\n",
       "                       presort=False, random_state=1765319615, splitter='best'),\n",
       " DecisionTreeRegressor(criterion='mse', max_depth=None, max_features='auto',\n",
       "                       max_leaf_nodes=None, min_impurity_decrease=0.0,\n",
       "                       min_impurity_split=None, min_samples_leaf=1,\n",
       "                       min_samples_split=2, min_weight_fraction_leaf=0.0,\n",
       "                       presort=False, random_state=432348120, splitter='best'),\n",
       " DecisionTreeRegressor(criterion='mse', max_depth=None, max_features='auto',\n",
       "                       max_leaf_nodes=None, min_impurity_decrease=0.0,\n",
       "                       min_impurity_split=None, min_samples_leaf=1,\n",
       "                       min_samples_split=2, min_weight_fraction_leaf=0.0,\n",
       "                       presort=False, random_state=527476674, splitter='best'),\n",
       " DecisionTreeRegressor(criterion='mse', max_depth=None, max_features='auto',\n",
       "                       max_leaf_nodes=None, min_impurity_decrease=0.0,\n",
       "                       min_impurity_split=None, min_samples_leaf=1,\n",
       "                       min_samples_split=2, min_weight_fraction_leaf=0.0,\n",
       "                       presort=False, random_state=380347769, splitter='best')]"
      ]
     },
     "execution_count": 138,
     "metadata": {},
     "output_type": "execute_result"
    }
   ],
   "source": [
    "m.estimators_"
   ]
  },
  {
   "cell_type": "code",
   "execution_count": 32,
   "metadata": {},
   "outputs": [
    {
     "data": {
      "text/plain": [
       "(array([9.21034037, 9.21034037, 8.98719682, 8.98719682, 9.39266193,\n",
       "        9.15904708, 9.21034037, 9.10497986, 9.30565055, 8.98719682]),\n",
       " 9.15549509923721,\n",
       " 9.104979856318357)"
      ]
     },
     "execution_count": 32,
     "metadata": {},
     "output_type": "execute_result"
    }
   ],
   "source": [
    "preds = np.stack([t.predict(X_valid) for t in m.estimators_])\n",
    "preds[:,0], np.mean(preds[:,0]), y_valid[0]"
   ]
  },
  {
   "cell_type": "code",
   "execution_count": 33,
   "metadata": {},
   "outputs": [
    {
     "data": {
      "text/plain": [
       "(10, 12000)"
      ]
     },
     "execution_count": 33,
     "metadata": {},
     "output_type": "execute_result"
    }
   ],
   "source": [
    "preds.shape"
   ]
  },
  {
   "cell_type": "code",
   "execution_count": 35,
   "metadata": {},
   "outputs": [
    {
     "data": {
      "image/png": "[encoded data removed]",
      "text/plain": [
       "<Figure size 432x288 with 1 Axes>"
      ]
     },
     "metadata": {},
     "output_type": "display_data"
    }
   ],
   "source": [
    "plt.plot([metrics.r2_score(y_valid, np.mean(preds[:i+1], axis=0)) for i in range(10)]); #upto i'th tree"
   ]
  },
  {
   "cell_type": "code",
   "execution_count": 36,
   "metadata": {},
   "outputs": [
    {
     "name": "stdout",
     "output_type": "stream",
     "text": [
      "[0.0792734590381606, 0.23749112395654695, 0.98686619864165, 0.8992737328243889]\n"
     ]
    }
   ],
   "source": [
    "m = RandomForestRegressor(n_estimators=40, n_jobs=-1)\n",
    "m.fit(X_train, y_train)\n",
    "print_score(m)"
   ]
  },
  {
   "cell_type": "code",
   "execution_count": 37,
   "metadata": {},
   "outputs": [
    {
     "name": "stdout",
     "output_type": "stream",
     "text": [
      "[0.07676812201530446, 0.23619920913152392, 0.9876832348894224, 0.9003666226371662]\n"
     ]
    }
   ],
   "source": [
    "m = RandomForestRegressor(n_estimators=80, n_jobs=-1)\n",
    "m.fit(X_train, y_train)\n",
    "print_score(m)"
   ]
  },
  {
   "cell_type": "code",
   "execution_count": 39,
   "metadata": {},
   "outputs": [],
   "source": [
    "# at some point incresing the number of tree doesnt do good job"
   ]
  },
  {
   "cell_type": "markdown",
   "metadata": {},
   "source": [
    "Whether to use out-of-bag samples to estimate the generalization accuracy."
   ]
  },
  {
   "cell_type": "code",
   "execution_count": 42,
   "metadata": {},
   "outputs": [
    {
     "name": "stdout",
     "output_type": "stream",
     "text": [
      "[0.07901110072953949, 0.2388228763084279, 0.9869529883444483, 0.8981409026896316, 0.9069061352674989]\n"
     ]
    }
   ],
   "source": [
    "m = RandomForestRegressor(n_estimators=40, n_jobs=-1,oob_score=True)\n",
    "m.fit(X_train, y_train)\n",
    "print_score(m)"
   ]
  },
  {
   "cell_type": "code",
   "execution_count": 43,
   "metadata": {},
   "outputs": [],
   "source": [
    "#The number of features to consider when looking for the best split:\n"
   ]
  },
  {
   "cell_type": "code",
   "execution_count": null,
   "metadata": {},
   "outputs": [],
   "source": [
    "m = RandomForestRegressor(n_estimators=40, min_samples_leaf=3, max_features=0.5, n_jobs=-1, oob_score=True)\n",
    "m.fit(X_train, y_train)\n",
    "print_score(m)"
   ]
  }
 ],
 "metadata": {
  "kernelspec": {
   "display_name": "Python 3",
   "language": "python",
   "name": "python3"
  },
  "language_info": {
   "codemirror_mode": {
    "name": "ipython",
    "version": 3
   },
   "file_extension": ".py",
   "mimetype": "text/x-python",
   "name": "python",
   "nbconvert_exporter": "python",
   "pygments_lexer": "ipython3",
   "version": "3.6.9"
  },
  "toc": {
   "base_numbering": 1,
   "nav_menu": {},
   "number_sections": true,
   "sideBar": true,
   "skip_h1_title": false,
   "title_cell": "Table of Contents",
   "title_sidebar": "Contents",
   "toc_cell": false,
   "toc_position": {},
   "toc_section_display": true,
   "toc_window_display": false
  }
 },
 "nbformat": 4,
 "nbformat_minor": 2
}
