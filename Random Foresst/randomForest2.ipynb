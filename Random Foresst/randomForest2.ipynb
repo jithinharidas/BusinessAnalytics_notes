{
 "cells": [
  {
   "cell_type": "code",
   "execution_count": 1,
   "metadata": {},
   "outputs": [],
   "source": [
    "import pandas as pd\n",
    "import matplotlib.pyplot as plt \n",
    "import numpy as np\n",
    "import seaborn as sns\n",
    "\n",
    "\n",
    "from sklearn.tree import export_graphviz\n",
    "import matplotlib\n",
    "import math,graphviz\n",
    "import pathlib\n"
   ]
  },
  {
   "cell_type": "markdown",
   "metadata": {},
   "source": [
    "!pip install -U  graphviz"
   ]
  },
  {
   "cell_type": "code",
   "execution_count": 6,
   "metadata": {},
   "outputs": [],
   "source": [
    "import re, os\n",
    "from pandas_summary import DataFrameSummary\n",
    "from pandas.api.types import is_string_dtype, is_numeric_dtype, is_categorical_dtype\n",
    "\n",
    "from sklearn.ensemble import RandomForestRegressor, RandomForestClassifier\n",
    "from IPython.display import display\n",
    "\n",
    "from sklearn import metrics\n"
   ]
  },
  {
   "cell_type": "code",
   "execution_count": 7,
   "metadata": {},
   "outputs": [],
   "source": [
    "PATH = pathlib.Path(\".\") \n"
   ]
  },
  {
   "cell_type": "code",
   "execution_count": 8,
   "metadata": {},
   "outputs": [],
   "source": [
    "import feather\n",
    "df_raw = feather.read_dataframe('tmp/bulldozers-raw')\n"
   ]
  },
  {
   "cell_type": "markdown",
   "metadata": {},
   "source": [
    "pip install feather-format"
   ]
  },
  {
   "cell_type": "code",
   "execution_count": 9,
   "metadata": {},
   "outputs": [],
   "source": [
    "\n",
    "def fix_missing(df, col,name):\n",
    "    if is_numeric_dtype(col):\n",
    "        if pd.isnull(col).sum():\n",
    "            df[name + \"_na\"] = pd.isnull(col)\n",
    "            df[name] = col.fillna(col.median())\n",
    "\n",
    "def numericalize(df ,col,name ):\n",
    "    if not is_numeric_dtype(col) :\n",
    "        df[name] = pd.Categorical(col).codes+1\n",
    "        \n",
    "def proc_df(df , y_fld):\n",
    "\n",
    "    df = df.copy()\n",
    "    y = df[y_fld].values\n",
    "    df.drop([y_fld], axis=1, inplace=True)\n",
    "    for n,c in df.items():\n",
    "        fix_missing(df,c,n)\n",
    "        numericalize(df,c,n)\n",
    "    return [df , y]\n",
    "\n"
   ]
  },
  {
   "cell_type": "code",
   "execution_count": 10,
   "metadata": {},
   "outputs": [],
   "source": [
    "df, y =proc_df(df_raw, \"SalePrice\")"
   ]
  },
  {
   "cell_type": "code",
   "execution_count": 11,
   "metadata": {},
   "outputs": [
    {
     "data": {
      "text/html": [
       "<div>\n",
       "<style scoped>\n",
       "    .dataframe tbody tr th:only-of-type {\n",
       "        vertical-align: middle;\n",
       "    }\n",
       "\n",
       "    .dataframe tbody tr th {\n",
       "        vertical-align: top;\n",
       "    }\n",
       "\n",
       "    .dataframe thead th {\n",
       "        text-align: right;\n",
       "    }\n",
       "</style>\n",
       "<table border=\"1\" class=\"dataframe\">\n",
       "  <thead>\n",
       "    <tr style=\"text-align: right;\">\n",
       "      <th></th>\n",
       "      <th>401120</th>\n",
       "      <th>401121</th>\n",
       "      <th>401122</th>\n",
       "      <th>401123</th>\n",
       "      <th>401124</th>\n",
       "    </tr>\n",
       "  </thead>\n",
       "  <tbody>\n",
       "    <tr>\n",
       "      <th>SalesID</th>\n",
       "      <td>6333336</td>\n",
       "      <td>6333337</td>\n",
       "      <td>6333338</td>\n",
       "      <td>6333341</td>\n",
       "      <td>6333342</td>\n",
       "    </tr>\n",
       "    <tr>\n",
       "      <th>MachineID</th>\n",
       "      <td>1840702</td>\n",
       "      <td>1830472</td>\n",
       "      <td>1887659</td>\n",
       "      <td>1903570</td>\n",
       "      <td>1926965</td>\n",
       "    </tr>\n",
       "    <tr>\n",
       "      <th>ModelID</th>\n",
       "      <td>21439</td>\n",
       "      <td>21439</td>\n",
       "      <td>21439</td>\n",
       "      <td>21435</td>\n",
       "      <td>21435</td>\n",
       "    </tr>\n",
       "    <tr>\n",
       "      <th>datasource</th>\n",
       "      <td>149</td>\n",
       "      <td>149</td>\n",
       "      <td>149</td>\n",
       "      <td>149</td>\n",
       "      <td>149</td>\n",
       "    </tr>\n",
       "    <tr>\n",
       "      <th>auctioneerID</th>\n",
       "      <td>1</td>\n",
       "      <td>1</td>\n",
       "      <td>1</td>\n",
       "      <td>2</td>\n",
       "      <td>2</td>\n",
       "    </tr>\n",
       "    <tr>\n",
       "      <th>...</th>\n",
       "      <td>...</td>\n",
       "      <td>...</td>\n",
       "      <td>...</td>\n",
       "      <td>...</td>\n",
       "      <td>...</td>\n",
       "    </tr>\n",
       "    <tr>\n",
       "      <th>saleIs_quarter_start</th>\n",
       "      <td>False</td>\n",
       "      <td>False</td>\n",
       "      <td>False</td>\n",
       "      <td>False</td>\n",
       "      <td>False</td>\n",
       "    </tr>\n",
       "    <tr>\n",
       "      <th>saleIs_year_end</th>\n",
       "      <td>False</td>\n",
       "      <td>False</td>\n",
       "      <td>False</td>\n",
       "      <td>False</td>\n",
       "      <td>False</td>\n",
       "    </tr>\n",
       "    <tr>\n",
       "      <th>saleIs_year_start</th>\n",
       "      <td>False</td>\n",
       "      <td>False</td>\n",
       "      <td>False</td>\n",
       "      <td>False</td>\n",
       "      <td>False</td>\n",
       "    </tr>\n",
       "    <tr>\n",
       "      <th>auctioneerID_na</th>\n",
       "      <td>False</td>\n",
       "      <td>False</td>\n",
       "      <td>False</td>\n",
       "      <td>False</td>\n",
       "      <td>False</td>\n",
       "    </tr>\n",
       "    <tr>\n",
       "      <th>MachineHoursCurrentMeter_na</th>\n",
       "      <td>True</td>\n",
       "      <td>True</td>\n",
       "      <td>True</td>\n",
       "      <td>True</td>\n",
       "      <td>True</td>\n",
       "    </tr>\n",
       "  </tbody>\n",
       "</table>\n",
       "<p>65 rows × 5 columns</p>\n",
       "</div>"
      ],
      "text/plain": [
       "                              401120   401121   401122   401123   401124\n",
       "SalesID                      6333336  6333337  6333338  6333341  6333342\n",
       "MachineID                    1840702  1830472  1887659  1903570  1926965\n",
       "ModelID                        21439    21439    21439    21435    21435\n",
       "datasource                       149      149      149      149      149\n",
       "auctioneerID                       1        1        1        2        2\n",
       "...                              ...      ...      ...      ...      ...\n",
       "saleIs_quarter_start           False    False    False    False    False\n",
       "saleIs_year_end                False    False    False    False    False\n",
       "saleIs_year_start              False    False    False    False    False\n",
       "auctioneerID_na                False    False    False    False    False\n",
       "MachineHoursCurrentMeter_na     True     True     True     True     True\n",
       "\n",
       "[65 rows x 5 columns]"
      ]
     },
     "execution_count": 11,
     "metadata": {},
     "output_type": "execute_result"
    }
   ],
   "source": [
    "df.tail().T"
   ]
  },
  {
   "cell_type": "code",
   "execution_count": 12,
   "metadata": {},
   "outputs": [
    {
     "data": {
      "text/plain": [
       "0.9875137532557655"
      ]
     },
     "execution_count": 12,
     "metadata": {},
     "output_type": "execute_result"
    }
   ],
   "source": [
    "m = RandomForestRegressor(n_jobs=-1)\n",
    "m.fit(df, y)\n",
    "m.score(df,y)"
   ]
  },
  {
   "cell_type": "markdown",
   "metadata": {},
   "source": [
    "Wow, an r^2 of 0.98 - that's great, right? Well, perhaps not...\n",
    "\n",
    "Possibly **the most important idea** in machine learning is that of having separate training & validation data sets. As motivation, suppose you don't divide up your data, but instead use all of it.  And suppose you have lots of parameters:\n",
    "\n",
    "<img src=\"images/overfitting2.png\" alt=\"\" style=\"width: 70%\"/>\n",
    "<center>\n",
    "[Underfitting and Overfitting](https://datascience.stackexchange.com/questions/361/when-is-a-model-underfitted)\n",
    "</center>\n",
    "\n",
    "The error for the pictured data points is lowest for the model on the far right (the blue curve passes through the red points almost perfectly), yet it's not the best choice.  Why is that?  If you were to gather some new data points, they most likely would not be on that curve in the graph on the right, but would be closer to the curve in the middle graph.\n",
    "\n",
    "This illustrates how using all our data can lead to **overfitting**. A validation set helps diagnose this problem."
   ]
  },
  {
   "cell_type": "markdown",
   "metadata": {},
   "source": [
    "https://en.wikipedia.org/wiki/Coefficient_of_determination"
   ]
  },
  {
   "cell_type": "markdown",
   "metadata": {},
   "source": [
    "home work creatre some synethic dataset get feel for r^2 (scatter plot)"
   ]
  },
  {
   "cell_type": "code",
   "execution_count": 13,
   "metadata": {},
   "outputs": [],
   "source": [
    "a = list(range(100))\n",
    "n = 12"
   ]
  },
  {
   "cell_type": "code",
   "execution_count": 14,
   "metadata": {},
   "outputs": [],
   "source": [
    " train , test = a[n:], a[:n]"
   ]
  },
  {
   "cell_type": "code",
   "execution_count": 15,
   "metadata": {},
   "outputs": [
    {
     "data": {
      "text/plain": [
       "[0, 1, 2, 3, 4, 5, 6, 7, 8, 9, 10, 11]"
      ]
     },
     "execution_count": 15,
     "metadata": {},
     "output_type": "execute_result"
    }
   ],
   "source": [
    "test"
   ]
  },
  {
   "cell_type": "code",
   "execution_count": 16,
   "metadata": {},
   "outputs": [
    {
     "data": {
      "text/plain": [
       "((389125, 65), (389125,), (12000, 65), (12000,))"
      ]
     },
     "execution_count": 16,
     "metadata": {},
     "output_type": "execute_result"
    }
   ],
   "source": [
    "def split_vals(a,n): \n",
    "    return a[:n].copy(), a[n:].copy()\n",
    "\n",
    "n_valid = 12000  # same as Kaggle's test set size\n",
    "n_trn = len(df) - n_valid\n",
    "\n",
    "raw_train, raw_valid = split_vals(df_raw, n_trn)\n",
    "X_train, X_valid = split_vals(df, n_trn)\n",
    "y_train, y_valid = split_vals(y, n_trn)\n",
    "\n",
    "X_train.shape, y_train.shape, X_valid.shape, y_valid.shape\n"
   ]
  },
  {
   "cell_type": "code",
   "execution_count": 28,
   "metadata": {},
   "outputs": [],
   "source": [
    "y_train, y_valid = list(map(lambda x : np.log(x), [y_train, y_valid]))"
   ]
  },
  {
   "cell_type": "code",
   "execution_count": 30,
   "metadata": {},
   "outputs": [],
   "source": [
    "def rmse(x,y): \n",
    "    return math.sqrt(((x-y)**2).mean())\n",
    "\n",
    "def print_score(m):\n",
    "    res = [rmse(m.predict(X_train), y_train), rmse(m.predict(X_valid), y_valid),\n",
    "                m.score(X_train, y_train), m.score(X_valid, y_valid)]\n",
    "    if hasattr(m, 'oob_score_'): res.append(m.oob_score_)\n",
    "    print(res)"
   ]
  },
  {
   "cell_type": "code",
   "execution_count": 38,
   "metadata": {},
   "outputs": [
    {
     "data": {
      "text/plain": [
       "0         0\n",
       "1         0\n",
       "2         1\n",
       "3         0\n",
       "4         1\n",
       "         ..\n",
       "389120    0\n",
       "389121    0\n",
       "389122    0\n",
       "389123    0\n",
       "389124    0\n",
       "Name: Coupler_System, Length: 389125, dtype: int8"
      ]
     },
     "execution_count": 38,
     "metadata": {},
     "output_type": "execute_result"
    }
   ],
   "source": [
    "X_train.Coupler_System"
   ]
  },
  {
   "cell_type": "code",
   "execution_count": 40,
   "metadata": {},
   "outputs": [
    {
     "data": {
      "text/plain": [
       "70"
      ]
     },
     "execution_count": 40,
     "metadata": {},
     "output_type": "execute_result"
    }
   ],
   "source": [
    "X_train.YearMade.nunique()"
   ]
  },
  {
   "cell_type": "code",
   "execution_count": 37,
   "metadata": {},
   "outputs": [
    {
     "data": {
      "text/plain": [
       "{'SalesID': dtype('int64'),\n",
       " 'MachineID': dtype('int64'),\n",
       " 'ModelID': dtype('int64'),\n",
       " 'datasource': dtype('int64'),\n",
       " 'auctioneerID': dtype('float64'),\n",
       " 'YearMade': dtype('int64'),\n",
       " 'MachineHoursCurrentMeter': dtype('float64'),\n",
       " 'UsageBand': dtype('int8'),\n",
       " 'fiModelDesc': dtype('int16'),\n",
       " 'fiBaseModel': dtype('int16'),\n",
       " 'fiSecondaryDesc': dtype('int16'),\n",
       " 'fiModelSeries': dtype('int8'),\n",
       " 'fiModelDescriptor': dtype('int16'),\n",
       " 'ProductSize': dtype('int8'),\n",
       " 'fiProductClassDesc': dtype('int8'),\n",
       " 'state': dtype('int8'),\n",
       " 'ProductGroup': dtype('int8'),\n",
       " 'ProductGroupDesc': dtype('int8'),\n",
       " 'Drive_System': dtype('int8'),\n",
       " 'Enclosure': dtype('int8'),\n",
       " 'Forks': dtype('int8'),\n",
       " 'Pad_Type': dtype('int8'),\n",
       " 'Ride_Control': dtype('int8'),\n",
       " 'Stick': dtype('int8'),\n",
       " 'Transmission': dtype('int8'),\n",
       " 'Turbocharged': dtype('int8'),\n",
       " 'Blade_Extension': dtype('int8'),\n",
       " 'Blade_Width': dtype('int8'),\n",
       " 'Enclosure_Type': dtype('int8'),\n",
       " 'Engine_Horsepower': dtype('int8'),\n",
       " 'Hydraulics': dtype('int8'),\n",
       " 'Pushblock': dtype('int8'),\n",
       " 'Ripper': dtype('int8'),\n",
       " 'Scarifier': dtype('int8'),\n",
       " 'Tip_Control': dtype('int8'),\n",
       " 'Tire_Size': dtype('int8'),\n",
       " 'Coupler': dtype('int8'),\n",
       " 'Coupler_System': dtype('int8'),\n",
       " 'Grouser_Tracks': dtype('int8'),\n",
       " 'Hydraulics_Flow': dtype('int8'),\n",
       " 'Track_Type': dtype('int8'),\n",
       " 'Undercarriage_Pad_Width': dtype('int8'),\n",
       " 'Stick_Length': dtype('int8'),\n",
       " 'Thumb': dtype('int8'),\n",
       " 'Pattern_Changer': dtype('int8'),\n",
       " 'Grouser_Type': dtype('int8'),\n",
       " 'Backhoe_Mounting': dtype('int8'),\n",
       " 'Blade_Type': dtype('int8'),\n",
       " 'Travel_Controls': dtype('int8'),\n",
       " 'Differential_Type': dtype('int8'),\n",
       " 'Steering_Controls': dtype('int8'),\n",
       " 'saleYear': dtype('int64'),\n",
       " 'saleMonth': dtype('int64'),\n",
       " 'saleWeek': dtype('int64'),\n",
       " 'saleDay': dtype('int64'),\n",
       " 'saleDayofweek': dtype('int64'),\n",
       " 'saleDayofyear': dtype('int64'),\n",
       " 'saleIs_month_end': dtype('bool'),\n",
       " 'saleIs_month_start': dtype('bool'),\n",
       " 'saleIs_quarter_end': dtype('bool'),\n",
       " 'saleIs_quarter_start': dtype('bool'),\n",
       " 'saleIs_year_end': dtype('bool'),\n",
       " 'saleIs_year_start': dtype('bool'),\n",
       " 'auctioneerID_na': dtype('bool'),\n",
       " 'MachineHoursCurrentMeter_na': dtype('bool')}"
      ]
     },
     "execution_count": 37,
     "metadata": {},
     "output_type": "execute_result"
    }
   ],
   "source": [
    "dict(X_train.dtypes)"
   ]
  },
  {
   "cell_type": "code",
   "execution_count": 31,
   "metadata": {},
   "outputs": [
    {
     "name": "stdout",
     "output_type": "stream",
     "text": [
      "[34788.13829800587, 34101.39864396733, -2529281699.6895213, -2076788914.9302413]\n"
     ]
    }
   ],
   "source": [
    "a\n",
    "\n",
    "print_score(m)"
   ]
  },
  {
   "cell_type": "code",
   "execution_count": 32,
   "metadata": {},
   "outputs": [
    {
     "name": "stdout",
     "output_type": "stream",
     "text": [
      "[0.5371269683343529, 0.5674541015387358, 0.39703966649954636, 0.4249449087371777]\n"
     ]
    }
   ],
   "source": [
    "m = RandomForestRegressor(n_estimators=1, max_depth=3, bootstrap=False, n_jobs=-1)\n",
    "m.fit(X_train, y_train)\n",
    "print_score(m)"
   ]
  },
  {
   "cell_type": "code",
   "execution_count": 33,
   "metadata": {},
   "outputs": [],
   "source": [
    "def draw_tree(t, df, size=10, ratio=0.6, precision=0):\n",
    "\n",
    "    s=export_graphviz(t, out_file=None, feature_names=df.columns, filled=True,\n",
    "                      special_characters=True, rotate=True, precision=precision)\n",
    "    display(graphviz.Source(re.sub('Tree {',\n",
    "       f'Tree {{ size={size}; ratio={ratio}', s)))"
   ]
  },
  {
   "cell_type": "code",
   "execution_count": 34,
   "metadata": {},
   "outputs": [
    {
     "data": {
      "image/svg+xml": [
       "<?xml version=\"1.0\" encoding=\"UTF-8\" standalone=\"no\"?>\n",
       "<!DOCTYPE svg PUBLIC \"-//W3C//DTD SVG 1.1//EN\"\n",
       " \"http://www.w3.org/Graphics/SVG/1.1/DTD/svg11.dtd\">\n",
       "<!-- Generated by graphviz version 2.40.1 (20161225.0304)\n",
       " -->\n",
       "<!-- Title: Tree Pages: 1 -->\n",
       "<svg width=\"720pt\" height=\"434pt\"\n",
       " viewBox=\"0.00 0.00 720.00 434.49\" xmlns=\"http://www.w3.org/2000/svg\" xmlns:xlink=\"http://www.w3.org/1999/xlink\">\n",
       "<g id=\"graph0\" class=\"graph\" transform=\"scale(.7787 .7787) rotate(0) translate(4 554)\">\n",
       "<title>Tree</title>\n",
       "<polygon fill=\"#ffffff\" stroke=\"transparent\" points=\"-4,4 -4,-554 920.6667,-554 920.6667,4 -4,4\"/>\n",
       "<!-- 0 -->\n",
       "<g id=\"node1\" class=\"node\">\n",
       "<title>0</title>\n",
       "<polygon fill=\"#eda775\" stroke=\"#000000\" points=\"167.6667,-336.5 27.6667,-336.5 27.6667,-268.5 167.6667,-268.5 167.6667,-336.5\"/>\n",
       "<text text-anchor=\"start\" x=\"35.6667\" y=\"-321.3\" font-family=\"Times,serif\" font-size=\"14.00\" fill=\"#000000\">Coupler_System ≤ 0.5</text>\n",
       "<text text-anchor=\"start\" x=\"62.6667\" y=\"-306.3\" font-family=\"Times,serif\" font-size=\"14.00\" fill=\"#000000\">mse = 0.478</text>\n",
       "<text text-anchor=\"start\" x=\"47.1667\" y=\"-291.3\" font-family=\"Times,serif\" font-size=\"14.00\" fill=\"#000000\">samples = 389125</text>\n",
       "<text text-anchor=\"start\" x=\"56.1667\" y=\"-276.3\" font-family=\"Times,serif\" font-size=\"14.00\" fill=\"#000000\">value = 10.106</text>\n",
       "</g>\n",
       "<!-- 1 -->\n",
       "<g id=\"node2\" class=\"node\">\n",
       "<title>1</title>\n",
       "<polygon fill=\"#eb9f68\" stroke=\"#000000\" points=\"399.6667,-372.5 271.6667,-372.5 271.6667,-304.5 399.6667,-304.5 399.6667,-372.5\"/>\n",
       "<text text-anchor=\"start\" x=\"279.6667\" y=\"-357.3\" font-family=\"Times,serif\" font-size=\"14.00\" fill=\"#000000\">YearMade ≤ 1991.5</text>\n",
       "<text text-anchor=\"start\" x=\"300.6667\" y=\"-342.3\" font-family=\"Times,serif\" font-size=\"14.00\" fill=\"#000000\">mse = 0.415</text>\n",
       "<text text-anchor=\"start\" x=\"285.1667\" y=\"-327.3\" font-family=\"Times,serif\" font-size=\"14.00\" fill=\"#000000\">samples = 348393</text>\n",
       "<text text-anchor=\"start\" x=\"294.1667\" y=\"-312.3\" font-family=\"Times,serif\" font-size=\"14.00\" fill=\"#000000\">value = 10.211</text>\n",
       "</g>\n",
       "<!-- 0&#45;&gt;1 -->\n",
       "<g id=\"edge1\" class=\"edge\">\n",
       "<title>0&#45;&gt;1</title>\n",
       "<path fill=\"none\" stroke=\"#000000\" d=\"M167.7873,-313.1065C197.23,-317.56 231.5046,-322.7444 261.3795,-327.2633\"/>\n",
       "<polygon fill=\"#000000\" stroke=\"#000000\" points=\"260.918,-330.7332 271.3291,-328.7683 261.965,-323.8119 260.918,-330.7332\"/>\n",
       "<text text-anchor=\"middle\" x=\"251.2064\" y=\"-339.9032\" font-family=\"Times,serif\" font-size=\"14.00\" fill=\"#000000\">True</text>\n",
       "</g>\n",
       "<!-- 8 -->\n",
       "<g id=\"node9\" class=\"node\">\n",
       "<title>8</title>\n",
       "<polygon fill=\"#fbeee4\" stroke=\"#000000\" points=\"399.6667,-245.5 271.6667,-245.5 271.6667,-177.5 399.6667,-177.5 399.6667,-245.5\"/>\n",
       "<text text-anchor=\"start\" x=\"279.6667\" y=\"-230.3\" font-family=\"Times,serif\" font-size=\"14.00\" fill=\"#000000\">YearMade ≤ 1998.5</text>\n",
       "<text text-anchor=\"start\" x=\"300.6667\" y=\"-215.3\" font-family=\"Times,serif\" font-size=\"14.00\" fill=\"#000000\">mse = 0.114</text>\n",
       "<text text-anchor=\"start\" x=\"288.6667\" y=\"-200.3\" font-family=\"Times,serif\" font-size=\"14.00\" fill=\"#000000\">samples = 40732</text>\n",
       "<text text-anchor=\"start\" x=\"297.6667\" y=\"-185.3\" font-family=\"Times,serif\" font-size=\"14.00\" fill=\"#000000\">value = 9.204</text>\n",
       "</g>\n",
       "<!-- 0&#45;&gt;8 -->\n",
       "<g id=\"edge8\" class=\"edge\">\n",
       "<title>0&#45;&gt;8</title>\n",
       "<path fill=\"none\" stroke=\"#000000\" d=\"M167.7873,-275.6892C197.358,-264.3827 231.8027,-251.2127 261.769,-239.755\"/>\n",
       "<polygon fill=\"#000000\" stroke=\"#000000\" points=\"263.2385,-242.9403 271.3291,-236.0997 260.7385,-236.4019 263.2385,-242.9403\"/>\n",
       "<text text-anchor=\"middle\" x=\"248.5038\" y=\"-222.2012\" font-family=\"Times,serif\" font-size=\"14.00\" fill=\"#000000\">False</text>\n",
       "</g>\n",
       "<!-- 2 -->\n",
       "<g id=\"node3\" class=\"node\">\n",
       "<title>2</title>\n",
       "<polygon fill=\"#efb286\" stroke=\"#000000\" points=\"648.6667,-486.5 528.6667,-486.5 528.6667,-418.5 648.6667,-418.5 648.6667,-486.5\"/>\n",
       "<text text-anchor=\"start\" x=\"536.6667\" y=\"-471.3\" font-family=\"Times,serif\" font-size=\"14.00\" fill=\"#000000\">ModelID ≤ 4418.5</text>\n",
       "<text text-anchor=\"start\" x=\"553.6667\" y=\"-456.3\" font-family=\"Times,serif\" font-size=\"14.00\" fill=\"#000000\">mse = 0.373</text>\n",
       "<text text-anchor=\"start\" x=\"538.1667\" y=\"-441.3\" font-family=\"Times,serif\" font-size=\"14.00\" fill=\"#000000\">samples = 153147</text>\n",
       "<text text-anchor=\"start\" x=\"550.6667\" y=\"-426.3\" font-family=\"Times,serif\" font-size=\"14.00\" fill=\"#000000\">value = 9.969</text>\n",
       "</g>\n",
       "<!-- 1&#45;&gt;2 -->\n",
       "<g id=\"edge2\" class=\"edge\">\n",
       "<title>1&#45;&gt;2</title>\n",
       "<path fill=\"none\" stroke=\"#000000\" d=\"M399.8363,-367.4144C436.2748,-383.8333 481.9121,-404.3971 519.1925,-421.1954\"/>\n",
       "<polygon fill=\"#000000\" stroke=\"#000000\" points=\"517.9248,-424.4631 528.4799,-425.3803 520.8005,-418.081 517.9248,-424.4631\"/>\n",
       "</g>\n",
       "<!-- 5 -->\n",
       "<g id=\"node6\" class=\"node\">\n",
       "<title>5</title>\n",
       "<polygon fill=\"#e89051\" stroke=\"#000000\" points=\"670.1667,-372.5 507.1667,-372.5 507.1667,-304.5 670.1667,-304.5 670.1667,-372.5\"/>\n",
       "<text text-anchor=\"start\" x=\"515.1667\" y=\"-357.3\" font-family=\"Times,serif\" font-size=\"14.00\" fill=\"#000000\">fiProductClassDesc ≤ 13.5</text>\n",
       "<text text-anchor=\"start\" x=\"553.6667\" y=\"-342.3\" font-family=\"Times,serif\" font-size=\"14.00\" fill=\"#000000\">mse = 0.366</text>\n",
       "<text text-anchor=\"start\" x=\"538.1667\" y=\"-327.3\" font-family=\"Times,serif\" font-size=\"14.00\" fill=\"#000000\">samples = 195246</text>\n",
       "<text text-anchor=\"start\" x=\"547.1667\" y=\"-312.3\" font-family=\"Times,serif\" font-size=\"14.00\" fill=\"#000000\">value = 10.401</text>\n",
       "</g>\n",
       "<!-- 1&#45;&gt;5 -->\n",
       "<g id=\"edge5\" class=\"edge\">\n",
       "<title>1&#45;&gt;5</title>\n",
       "<path fill=\"none\" stroke=\"#000000\" d=\"M399.8363,-338.5C429.1621,-338.5 464.446,-338.5 496.5367,-338.5\"/>\n",
       "<polygon fill=\"#000000\" stroke=\"#000000\" points=\"496.832,-342.0001 506.8319,-338.5 496.8319,-335.0001 496.832,-342.0001\"/>\n",
       "</g>\n",
       "<!-- 3 -->\n",
       "<g id=\"node4\" class=\"node\">\n",
       "<title>3</title>\n",
       "<polygon fill=\"#eba06a\" stroke=\"#000000\" points=\"889.6667,-550 779.6667,-550 779.6667,-497 889.6667,-497 889.6667,-550\"/>\n",
       "<text text-anchor=\"start\" x=\"799.6667\" y=\"-534.8\" font-family=\"Times,serif\" font-size=\"14.00\" fill=\"#000000\">mse = 0.388</text>\n",
       "<text text-anchor=\"start\" x=\"787.6667\" y=\"-519.8\" font-family=\"Times,serif\" font-size=\"14.00\" fill=\"#000000\">samples = 78592</text>\n",
       "<text text-anchor=\"start\" x=\"793.1667\" y=\"-504.8\" font-family=\"Times,serif\" font-size=\"14.00\" fill=\"#000000\">value = 10.195</text>\n",
       "</g>\n",
       "<!-- 2&#45;&gt;3 -->\n",
       "<g id=\"edge3\" class=\"edge\">\n",
       "<title>2&#45;&gt;3</title>\n",
       "<path fill=\"none\" stroke=\"#000000\" d=\"M648.845,-469.8686C685.4057,-480.4206 732.0889,-493.8942 769.5173,-504.6967\"/>\n",
       "<polygon fill=\"#000000\" stroke=\"#000000\" points=\"768.7373,-508.1144 779.3158,-507.5247 770.6785,-501.3889 768.7373,-508.1144\"/>\n",
       "</g>\n",
       "<!-- 4 -->\n",
       "<g id=\"node5\" class=\"node\">\n",
       "<title>4</title>\n",
       "<polygon fill=\"#f3c4a3\" stroke=\"#000000\" points=\"889.6667,-479 779.6667,-479 779.6667,-426 889.6667,-426 889.6667,-479\"/>\n",
       "<text text-anchor=\"start\" x=\"799.6667\" y=\"-463.8\" font-family=\"Times,serif\" font-size=\"14.00\" fill=\"#000000\">mse = 0.248</text>\n",
       "<text text-anchor=\"start\" x=\"787.6667\" y=\"-448.8\" font-family=\"Times,serif\" font-size=\"14.00\" fill=\"#000000\">samples = 74555</text>\n",
       "<text text-anchor=\"start\" x=\"796.6667\" y=\"-433.8\" font-family=\"Times,serif\" font-size=\"14.00\" fill=\"#000000\">value = 9.731</text>\n",
       "</g>\n",
       "<!-- 2&#45;&gt;4 -->\n",
       "<g id=\"edge4\" class=\"edge\">\n",
       "<title>2&#45;&gt;4</title>\n",
       "<path fill=\"none\" stroke=\"#000000\" d=\"M648.845,-452.5C685.2501,-452.5 731.6917,-452.5 769.039,-452.5\"/>\n",
       "<polygon fill=\"#000000\" stroke=\"#000000\" points=\"769.3158,-456.0001 779.3158,-452.5 769.3157,-449.0001 769.3158,-456.0001\"/>\n",
       "</g>\n",
       "<!-- 6 -->\n",
       "<g id=\"node7\" class=\"node\">\n",
       "<title>6</title>\n",
       "<polygon fill=\"#eda876\" stroke=\"#000000\" points=\"889.6667,-408 779.6667,-408 779.6667,-355 889.6667,-355 889.6667,-408\"/>\n",
       "<text text-anchor=\"start\" x=\"799.6667\" y=\"-392.8\" font-family=\"Times,serif\" font-size=\"14.00\" fill=\"#000000\">mse = 0.203</text>\n",
       "<text text-anchor=\"start\" x=\"787.6667\" y=\"-377.8\" font-family=\"Times,serif\" font-size=\"14.00\" fill=\"#000000\">samples = 76325</text>\n",
       "<text text-anchor=\"start\" x=\"793.1667\" y=\"-362.8\" font-family=\"Times,serif\" font-size=\"14.00\" fill=\"#000000\">value = 10.098</text>\n",
       "</g>\n",
       "<!-- 5&#45;&gt;6 -->\n",
       "<g id=\"edge6\" class=\"edge\">\n",
       "<title>5&#45;&gt;6</title>\n",
       "<path fill=\"none\" stroke=\"#000000\" d=\"M670.2394,-352.7587C702.4072,-358.3815 738.8553,-364.7525 769.2466,-370.0648\"/>\n",
       "<polygon fill=\"#000000\" stroke=\"#000000\" points=\"768.8528,-373.5489 779.3062,-371.8232 770.0582,-366.6535 768.8528,-373.5489\"/>\n",
       "</g>\n",
       "<!-- 7 -->\n",
       "<g id=\"node8\" class=\"node\">\n",
       "<title>7</title>\n",
       "<polygon fill=\"#e58139\" stroke=\"#000000\" points=\"893.1667,-337 776.1667,-337 776.1667,-284 893.1667,-284 893.1667,-337\"/>\n",
       "<text text-anchor=\"start\" x=\"799.6667\" y=\"-321.8\" font-family=\"Times,serif\" font-size=\"14.00\" fill=\"#000000\">mse = 0.374</text>\n",
       "<text text-anchor=\"start\" x=\"784.1667\" y=\"-306.8\" font-family=\"Times,serif\" font-size=\"14.00\" fill=\"#000000\">samples = 118921</text>\n",
       "<text text-anchor=\"start\" x=\"793.1667\" y=\"-291.8\" font-family=\"Times,serif\" font-size=\"14.00\" fill=\"#000000\">value = 10.595</text>\n",
       "</g>\n",
       "<!-- 5&#45;&gt;7 -->\n",
       "<g id=\"edge7\" class=\"edge\">\n",
       "<title>5&#45;&gt;7</title>\n",
       "<path fill=\"none\" stroke=\"#000000\" d=\"M670.2394,-329.2153C701.1414,-325.698 735.9933,-321.7311 765.6313,-318.3577\"/>\n",
       "<polygon fill=\"#000000\" stroke=\"#000000\" points=\"766.3422,-321.7995 775.8822,-317.1909 765.5505,-314.8444 766.3422,-321.7995\"/>\n",
       "</g>\n",
       "<!-- 9 -->\n",
       "<g id=\"node10\" class=\"node\">\n",
       "<title>9</title>\n",
       "<polygon fill=\"#fefbf9\" stroke=\"#000000\" points=\"670.1667,-245.5 507.1667,-245.5 507.1667,-177.5 670.1667,-177.5 670.1667,-245.5\"/>\n",
       "<text text-anchor=\"start\" x=\"515.1667\" y=\"-230.3\" font-family=\"Times,serif\" font-size=\"14.00\" fill=\"#000000\">fiProductClassDesc ≤ 40.5</text>\n",
       "<text text-anchor=\"start\" x=\"553.6667\" y=\"-215.3\" font-family=\"Times,serif\" font-size=\"14.00\" fill=\"#000000\">mse = 0.088</text>\n",
       "<text text-anchor=\"start\" x=\"541.6667\" y=\"-200.3\" font-family=\"Times,serif\" font-size=\"14.00\" fill=\"#000000\">samples = 17328</text>\n",
       "<text text-anchor=\"start\" x=\"550.6667\" y=\"-185.3\" font-family=\"Times,serif\" font-size=\"14.00\" fill=\"#000000\">value = 9.028</text>\n",
       "</g>\n",
       "<!-- 8&#45;&gt;9 -->\n",
       "<g id=\"edge9\" class=\"edge\">\n",
       "<title>8&#45;&gt;9</title>\n",
       "<path fill=\"none\" stroke=\"#000000\" d=\"M399.8363,-211.5C429.1621,-211.5 464.446,-211.5 496.5367,-211.5\"/>\n",
       "<polygon fill=\"#000000\" stroke=\"#000000\" points=\"496.832,-215.0001 506.8319,-211.5 496.8319,-208.0001 496.832,-215.0001\"/>\n",
       "</g>\n",
       "<!-- 12 -->\n",
       "<g id=\"node13\" class=\"node\">\n",
       "<title>12</title>\n",
       "<polygon fill=\"#f9e3d4\" stroke=\"#000000\" points=\"670.1667,-131.5 507.1667,-131.5 507.1667,-63.5 670.1667,-63.5 670.1667,-131.5\"/>\n",
       "<text text-anchor=\"start\" x=\"515.1667\" y=\"-116.3\" font-family=\"Times,serif\" font-size=\"14.00\" fill=\"#000000\">fiProductClassDesc ≤ 40.5</text>\n",
       "<text text-anchor=\"start\" x=\"553.6667\" y=\"-101.3\" font-family=\"Times,serif\" font-size=\"14.00\" fill=\"#000000\">mse = 0.094</text>\n",
       "<text text-anchor=\"start\" x=\"541.6667\" y=\"-86.3\" font-family=\"Times,serif\" font-size=\"14.00\" fill=\"#000000\">samples = 23404</text>\n",
       "<text text-anchor=\"start\" x=\"550.6667\" y=\"-71.3\" font-family=\"Times,serif\" font-size=\"14.00\" fill=\"#000000\">value = 9.334</text>\n",
       "</g>\n",
       "<!-- 8&#45;&gt;12 -->\n",
       "<g id=\"edge12\" class=\"edge\">\n",
       "<title>8&#45;&gt;12</title>\n",
       "<path fill=\"none\" stroke=\"#000000\" d=\"M399.8363,-182.5856C431.2825,-168.4162 469.5796,-151.1598 503.4442,-135.9006\"/>\n",
       "<polygon fill=\"#000000\" stroke=\"#000000\" points=\"505.1895,-138.9532 512.8688,-131.654 502.3137,-132.5712 505.1895,-138.9532\"/>\n",
       "</g>\n",
       "<!-- 10 -->\n",
       "<g id=\"node11\" class=\"node\">\n",
       "<title>10</title>\n",
       "<polygon fill=\"#ffffff\" stroke=\"#000000\" points=\"889.6667,-266 779.6667,-266 779.6667,-213 889.6667,-213 889.6667,-266\"/>\n",
       "<text text-anchor=\"start\" x=\"799.6667\" y=\"-250.8\" font-family=\"Times,serif\" font-size=\"14.00\" fill=\"#000000\">mse = 0.071</text>\n",
       "<text text-anchor=\"start\" x=\"787.6667\" y=\"-235.8\" font-family=\"Times,serif\" font-size=\"14.00\" fill=\"#000000\">samples = 13018</text>\n",
       "<text text-anchor=\"start\" x=\"796.6667\" y=\"-220.8\" font-family=\"Times,serif\" font-size=\"14.00\" fill=\"#000000\">value = 8.981</text>\n",
       "</g>\n",
       "<!-- 9&#45;&gt;10 -->\n",
       "<g id=\"edge10\" class=\"edge\">\n",
       "<title>9&#45;&gt;10</title>\n",
       "<path fill=\"none\" stroke=\"#000000\" d=\"M670.2394,-220.7847C702.4072,-224.4461 738.8553,-228.5946 769.2466,-232.0538\"/>\n",
       "<polygon fill=\"#000000\" stroke=\"#000000\" points=\"768.9745,-235.5454 779.3062,-233.1988 769.7662,-228.5903 768.9745,-235.5454\"/>\n",
       "</g>\n",
       "<!-- 11 -->\n",
       "<g id=\"node12\" class=\"node\">\n",
       "<title>11</title>\n",
       "<polygon fill=\"#fcf0e8\" stroke=\"#000000\" points=\"886.6667,-195 782.6667,-195 782.6667,-142 886.6667,-142 886.6667,-195\"/>\n",
       "<text text-anchor=\"start\" x=\"799.6667\" y=\"-179.8\" font-family=\"Times,serif\" font-size=\"14.00\" fill=\"#000000\">mse = 0.115</text>\n",
       "<text text-anchor=\"start\" x=\"790.6667\" y=\"-164.8\" font-family=\"Times,serif\" font-size=\"14.00\" fill=\"#000000\">samples = 4310</text>\n",
       "<text text-anchor=\"start\" x=\"796.6667\" y=\"-149.8\" font-family=\"Times,serif\" font-size=\"14.00\" fill=\"#000000\">value = 9.169</text>\n",
       "</g>\n",
       "<!-- 9&#45;&gt;11 -->\n",
       "<g id=\"edge11\" class=\"edge\">\n",
       "<title>9&#45;&gt;11</title>\n",
       "<path fill=\"none\" stroke=\"#000000\" d=\"M670.2394,-197.2413C703.5381,-191.4208 741.4233,-184.7986 772.4291,-179.3789\"/>\n",
       "<polygon fill=\"#000000\" stroke=\"#000000\" points=\"773.4158,-182.7596 782.6638,-177.5899 772.2105,-175.8641 773.4158,-182.7596\"/>\n",
       "</g>\n",
       "<!-- 13 -->\n",
       "<g id=\"node14\" class=\"node\">\n",
       "<title>13</title>\n",
       "<polygon fill=\"#fbebdf\" stroke=\"#000000\" points=\"889.6667,-124 779.6667,-124 779.6667,-71 889.6667,-71 889.6667,-124\"/>\n",
       "<text text-anchor=\"start\" x=\"799.6667\" y=\"-108.8\" font-family=\"Times,serif\" font-size=\"14.00\" fill=\"#000000\">mse = 0.086</text>\n",
       "<text text-anchor=\"start\" x=\"787.6667\" y=\"-93.8\" font-family=\"Times,serif\" font-size=\"14.00\" fill=\"#000000\">samples = 12554</text>\n",
       "<text text-anchor=\"start\" x=\"796.6667\" y=\"-78.8\" font-family=\"Times,serif\" font-size=\"14.00\" fill=\"#000000\">value = 9.243</text>\n",
       "</g>\n",
       "<!-- 12&#45;&gt;13 -->\n",
       "<g id=\"edge13\" class=\"edge\">\n",
       "<title>12&#45;&gt;13</title>\n",
       "<path fill=\"none\" stroke=\"#000000\" d=\"M670.2394,-97.5C702.4072,-97.5 738.8553,-97.5 769.2466,-97.5\"/>\n",
       "<polygon fill=\"#000000\" stroke=\"#000000\" points=\"769.3062,-101.0001 779.3062,-97.5 769.3061,-94.0001 769.3062,-101.0001\"/>\n",
       "</g>\n",
       "<!-- 14 -->\n",
       "<g id=\"node15\" class=\"node\">\n",
       "<title>14</title>\n",
       "<polygon fill=\"#f8dbc7\" stroke=\"#000000\" points=\"889.6667,-53 779.6667,-53 779.6667,0 889.6667,0 889.6667,-53\"/>\n",
       "<text text-anchor=\"start\" x=\"799.6667\" y=\"-37.8\" font-family=\"Times,serif\" font-size=\"14.00\" fill=\"#000000\">mse = 0.081</text>\n",
       "<text text-anchor=\"start\" x=\"787.6667\" y=\"-22.8\" font-family=\"Times,serif\" font-size=\"14.00\" fill=\"#000000\">samples = 10850</text>\n",
       "<text text-anchor=\"start\" x=\"799.6667\" y=\"-7.8\" font-family=\"Times,serif\" font-size=\"14.00\" fill=\"#000000\">value = 9.44</text>\n",
       "</g>\n",
       "<!-- 12&#45;&gt;14 -->\n",
       "<g id=\"edge14\" class=\"edge\">\n",
       "<title>12&#45;&gt;14</title>\n",
       "<path fill=\"none\" stroke=\"#000000\" d=\"M670.2394,-73.9566C702.5471,-64.6321 739.1723,-54.0614 769.6427,-45.2671\"/>\n",
       "<polygon fill=\"#000000\" stroke=\"#000000\" points=\"770.6689,-48.6138 779.3062,-42.478 768.7278,-41.8884 770.6689,-48.6138\"/>\n",
       "</g>\n",
       "</g>\n",
       "</svg>\n"
      ],
      "text/plain": [
       "<graphviz.files.Source at 0x7f645c57dc18>"
      ]
     },
     "metadata": {},
     "output_type": "display_data"
    }
   ],
   "source": [
    "draw_tree(m.estimators_[0], X_train, precision=3)"
   ]
  },
  {
   "cell_type": "code",
   "execution_count": 30,
   "metadata": {},
   "outputs": [
    {
     "name": "stdout",
     "output_type": "stream",
     "text": [
      "[8.491571049068883e-07, 0.3502953456206566, 0.999999999998493, 0.7808624974807377]\n"
     ]
    }
   ],
   "source": [
    "m = RandomForestRegressor(n_estimators=1, bootstrap=False, n_jobs=-1)\n",
    "m.fit(X_train, y_train)\n",
    "print_score(m)"
   ]
  },
  {
   "cell_type": "markdown",
   "metadata": {},
   "source": [
    "## Bagging"
   ]
  },
  {
   "cell_type": "code",
   "execution_count": 31,
   "metadata": {},
   "outputs": [
    {
     "name": "stderr",
     "output_type": "stream",
     "text": [
      "/home/shilpa/.local/lib/python3.6/site-packages/sklearn/ensemble/forest.py:246: FutureWarning: The default value of n_estimators will change from 10 in version 0.20 to 100 in 0.22.\n",
      "  \"10 in version 0.20 to 100 in 0.22.\", FutureWarning)\n"
     ]
    },
    {
     "name": "stdout",
     "output_type": "stream",
     "text": [
      "[0.09099636066195517, 0.2492770787846707, 0.9826945509603856, 0.8890281906066371]\n"
     ]
    }
   ],
   "source": [
    "m = RandomForestRegressor(n_jobs=-1)\n",
    "m.fit(X_train, y_train)\n",
    "print_score(m)"
   ]
  },
  {
   "cell_type": "code",
   "execution_count": 32,
   "metadata": {},
   "outputs": [
    {
     "data": {
      "text/plain": [
       "(array([9.21034037, 9.21034037, 8.98719682, 8.98719682, 9.39266193,\n",
       "        9.15904708, 9.21034037, 9.10497986, 9.30565055, 8.98719682]),\n",
       " 9.15549509923721,\n",
       " 9.104979856318357)"
      ]
     },
     "execution_count": 32,
     "metadata": {},
     "output_type": "execute_result"
    }
   ],
   "source": [
    "preds = np.stack([t.predict(X_valid) for t in m.estimators_])\n",
    "preds[:,0], np.mean(preds[:,0]), y_valid[0]"
   ]
  },
  {
   "cell_type": "code",
   "execution_count": 33,
   "metadata": {},
   "outputs": [
    {
     "data": {
      "text/plain": [
       "(10, 12000)"
      ]
     },
     "execution_count": 33,
     "metadata": {},
     "output_type": "execute_result"
    }
   ],
   "source": [
    "preds.shape"
   ]
  },
  {
   "cell_type": "code",
   "execution_count": 35,
   "metadata": {},
   "outputs": [
    {
     "data": {
      "image/png": "[encoded data removed]",
      "text/plain": [
       "<Figure size 432x288 with 1 Axes>"
      ]
     },
     "metadata": {},
     "output_type": "display_data"
    }
   ],
   "source": [
    "plt.plot([metrics.r2_score(y_valid, np.mean(preds[:i+1], axis=0)) for i in range(10)]); #upto i'th tree"
   ]
  },
  {
   "cell_type": "code",
   "execution_count": 36,
   "metadata": {},
   "outputs": [
    {
     "name": "stdout",
     "output_type": "stream",
     "text": [
      "[0.0792734590381606, 0.23749112395654695, 0.98686619864165, 0.8992737328243889]\n"
     ]
    }
   ],
   "source": [
    "m = RandomForestRegressor(n_estimators=40, n_jobs=-1)\n",
    "m.fit(X_train, y_train)\n",
    "print_score(m)"
   ]
  },
  {
   "cell_type": "code",
   "execution_count": 37,
   "metadata": {},
   "outputs": [
    {
     "name": "stdout",
     "output_type": "stream",
     "text": [
      "[0.07676812201530446, 0.23619920913152392, 0.9876832348894224, 0.9003666226371662]\n"
     ]
    }
   ],
   "source": [
    "m = RandomForestRegressor(n_estimators=80, n_jobs=-1)\n",
    "m.fit(X_train, y_train)\n",
    "print_score(m)"
   ]
  },
  {
   "cell_type": "code",
   "execution_count": 39,
   "metadata": {},
   "outputs": [],
   "source": [
    "# at some point incresing the number of tree doesnt do good job"
   ]
  },
  {
   "cell_type": "markdown",
   "metadata": {},
   "source": [
    "Whether to use out-of-bag samples to estimate the generalization accuracy."
   ]
  },
  {
   "cell_type": "code",
   "execution_count": 42,
   "metadata": {},
   "outputs": [
    {
     "name": "stdout",
     "output_type": "stream",
     "text": [
      "[0.07901110072953949, 0.2388228763084279, 0.9869529883444483, 0.8981409026896316, 0.9069061352674989]\n"
     ]
    }
   ],
   "source": [
    "m = RandomForestRegressor(n_estimators=40, n_jobs=-1,oob_score=True)\n",
    "m.fit(X_train, y_train)\n",
    "print_score(m)"
   ]
  },
  {
   "cell_type": "code",
   "execution_count": 43,
   "metadata": {},
   "outputs": [],
   "source": [
    "#The number of features to consider when looking for the best split:\n"
   ]
  },
  {
   "cell_type": "code",
   "execution_count": 41,
   "metadata": {},
   "outputs": [
    {
     "name": "stdout",
     "output_type": "stream",
     "text": [
      "[0.12212185435257629, 0.23138836072121097, 0.968831090607062, 0.9043839072752774, 0.9092720192558131]\n"
     ]
    }
   ],
   "source": [
    "m = RandomForestRegressor(n_estimators=40, min_samples_leaf=3, max_features=0.5, n_jobs=-1, oob_score=True)\n",
    "m.fit(X_train, y_train)\n",
    "print_score(m)"
   ]
  },
  {
   "cell_type": "code",
   "execution_count": null,
   "metadata": {},
   "outputs": [],
   "source": []
  }
 ],
 "metadata": {
  "kernelspec": {
   "display_name": "Python 3",
   "language": "python",
   "name": "python3"
  },
  "language_info": {
   "codemirror_mode": {
    "name": "ipython",
    "version": 3
   },
   "file_extension": ".py",
   "mimetype": "text/x-python",
   "name": "python",
   "nbconvert_exporter": "python",
   "pygments_lexer": "ipython3",
   "version": "3.6.9"
  },
  "toc": {
   "base_numbering": 1,
   "nav_menu": {},
   "number_sections": true,
   "sideBar": true,
   "skip_h1_title": false,
   "title_cell": "Table of Contents",
   "title_sidebar": "Contents",
   "toc_cell": false,
   "toc_position": {},
   "toc_section_display": true,
   "toc_window_display": false
  }
 },
 "nbformat": 4,
 "nbformat_minor": 2
}
