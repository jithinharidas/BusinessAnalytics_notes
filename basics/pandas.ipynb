{
 "cells": [
  {
   "cell_type": "code",
   "execution_count": null,
   "metadata": {},
   "outputs": [],
   "source": [
    "%matplotlib inline"
   ]
  },
  {
   "cell_type": "markdown",
   "metadata": {},
   "source": [
    "!pip install matplotlib scipy numpy pandas "
   ]
  },
  {
   "cell_type": "markdown",
   "metadata": {},
   "source": [
    "# Pandas And Numpy\n"
   ]
  },
  {
   "cell_type": "code",
   "execution_count": 1,
   "metadata": {},
   "outputs": [],
   "source": [
    "import pandas as pd \n",
    "import numpy as np\n",
    "import matplotlib.pyplot as plt"
   ]
  },
  {
   "cell_type": "code",
   "execution_count": 2,
   "metadata": {},
   "outputs": [
    {
     "data": {
      "text/plain": [
       "[1, 4]"
      ]
     },
     "execution_count": 2,
     "metadata": {},
     "output_type": "execute_result"
    }
   ],
   "source": [
    "ll = list(range(10))\n",
    "ll[1 :6 : 3 ]    ## ll [from: to : by]"
   ]
  },
  {
   "cell_type": "markdown",
   "metadata": {},
   "source": [
    "help(np.array)"
   ]
  },
  {
   "cell_type": "code",
   "execution_count": 3,
   "metadata": {},
   "outputs": [
    {
     "data": {
      "text/plain": [
       "list"
      ]
     },
     "execution_count": 3,
     "metadata": {},
     "output_type": "execute_result"
    }
   ],
   "source": [
    "type(ll)"
   ]
  },
  {
   "cell_type": "code",
   "execution_count": 14,
   "metadata": {},
   "outputs": [
    {
     "data": {
      "text/plain": [
       "numpy.ndarray"
      ]
     },
     "execution_count": 14,
     "metadata": {},
     "output_type": "execute_result"
    }
   ],
   "source": [
    "type(a1)"
   ]
  },
  {
   "cell_type": "code",
   "execution_count": 20,
   "metadata": {},
   "outputs": [
    {
     "data": {
      "text/plain": [
       "1000"
      ]
     },
     "execution_count": 20,
     "metadata": {},
     "output_type": "execute_result"
    }
   ],
   "source": []
  },
  {
   "cell_type": "code",
   "execution_count": 22,
   "metadata": {},
   "outputs": [
    {
     "data": {
      "text/plain": [
       "array([   0,    2,    4,    6,    8,   10,   12,   14,   16,   18,   20,\n",
       "         22,   24,   26,   28,   30,   32,   34,   36,   38,   40,   42,\n",
       "         44,   46,   48,   50,   52,   54,   56,   58,   60,   62,   64,\n",
       "         66,   68,   70,   72,   74,   76,   78,   80,   82,   84,   86,\n",
       "         88,   90,   92,   94,   96,   98,  100,  102,  104,  106,  108,\n",
       "        110,  112,  114,  116,  118,  120,  122,  124,  126,  128,  130,\n",
       "        132,  134,  136,  138,  140,  142,  144,  146,  148,  150,  152,\n",
       "        154,  156,  158,  160,  162,  164,  166,  168,  170,  172,  174,\n",
       "        176,  178,  180,  182,  184,  186,  188,  190,  192,  194,  196,\n",
       "        198,  200,  202,  204,  206,  208,  210,  212,  214,  216,  218,\n",
       "        220,  222,  224,  226,  228,  230,  232,  234,  236,  238,  240,\n",
       "        242,  244,  246,  248,  250,  252,  254,  256,  258,  260,  262,\n",
       "        264,  266,  268,  270,  272,  274,  276,  278,  280,  282,  284,\n",
       "        286,  288,  290,  292,  294,  296,  298,  300,  302,  304,  306,\n",
       "        308,  310,  312,  314,  316,  318,  320,  322,  324,  326,  328,\n",
       "        330,  332,  334,  336,  338,  340,  342,  344,  346,  348,  350,\n",
       "        352,  354,  356,  358,  360,  362,  364,  366,  368,  370,  372,\n",
       "        374,  376,  378,  380,  382,  384,  386,  388,  390,  392,  394,\n",
       "        396,  398,  400,  402,  404,  406,  408,  410,  412,  414,  416,\n",
       "        418,  420,  422,  424,  426,  428,  430,  432,  434,  436,  438,\n",
       "        440,  442,  444,  446,  448,  450,  452,  454,  456,  458,  460,\n",
       "        462,  464,  466,  468,  470,  472,  474,  476,  478,  480,  482,\n",
       "        484,  486,  488,  490,  492,  494,  496,  498,  500,  502,  504,\n",
       "        506,  508,  510,  512,  514,  516,  518,  520,  522,  524,  526,\n",
       "        528,  530,  532,  534,  536,  538,  540,  542,  544,  546,  548,\n",
       "        550,  552,  554,  556,  558,  560,  562,  564,  566,  568,  570,\n",
       "        572,  574,  576,  578,  580,  582,  584,  586,  588,  590,  592,\n",
       "        594,  596,  598,  600,  602,  604,  606,  608,  610,  612,  614,\n",
       "        616,  618,  620,  622,  624,  626,  628,  630,  632,  634,  636,\n",
       "        638,  640,  642,  644,  646,  648,  650,  652,  654,  656,  658,\n",
       "        660,  662,  664,  666,  668,  670,  672,  674,  676,  678,  680,\n",
       "        682,  684,  686,  688,  690,  692,  694,  696,  698,  700,  702,\n",
       "        704,  706,  708,  710,  712,  714,  716,  718,  720,  722,  724,\n",
       "        726,  728,  730,  732,  734,  736,  738,  740,  742,  744,  746,\n",
       "        748,  750,  752,  754,  756,  758,  760,  762,  764,  766,  768,\n",
       "        770,  772,  774,  776,  778,  780,  782,  784,  786,  788,  790,\n",
       "        792,  794,  796,  798,  800,  802,  804,  806,  808,  810,  812,\n",
       "        814,  816,  818,  820,  822,  824,  826,  828,  830,  832,  834,\n",
       "        836,  838,  840,  842,  844,  846,  848,  850,  852,  854,  856,\n",
       "        858,  860,  862,  864,  866,  868,  870,  872,  874,  876,  878,\n",
       "        880,  882,  884,  886,  888,  890,  892,  894,  896,  898,  900,\n",
       "        902,  904,  906,  908,  910,  912,  914,  916,  918,  920,  922,\n",
       "        924,  926,  928,  930,  932,  934,  936,  938,  940,  942,  944,\n",
       "        946,  948,  950,  952,  954,  956,  958,  960,  962,  964,  966,\n",
       "        968,  970,  972,  974,  976,  978,  980,  982,  984,  986,  988,\n",
       "        990,  992,  994,  996,  998, 1000, 1002, 1004, 1006, 1008, 1010,\n",
       "       1012, 1014, 1016, 1018, 1020, 1022, 1024, 1026, 1028, 1030, 1032,\n",
       "       1034, 1036, 1038, 1040, 1042, 1044, 1046, 1048, 1050, 1052, 1054,\n",
       "       1056, 1058, 1060, 1062, 1064, 1066, 1068, 1070, 1072, 1074, 1076,\n",
       "       1078, 1080, 1082, 1084, 1086, 1088, 1090, 1092, 1094, 1096, 1098,\n",
       "       1100, 1102, 1104, 1106, 1108, 1110, 1112, 1114, 1116, 1118, 1120,\n",
       "       1122, 1124, 1126, 1128, 1130, 1132, 1134, 1136, 1138, 1140, 1142,\n",
       "       1144, 1146, 1148, 1150, 1152, 1154, 1156, 1158, 1160, 1162, 1164,\n",
       "       1166, 1168, 1170, 1172, 1174, 1176, 1178, 1180, 1182, 1184, 1186,\n",
       "       1188, 1190, 1192, 1194, 1196, 1198, 1200, 1202, 1204, 1206, 1208,\n",
       "       1210, 1212, 1214, 1216, 1218, 1220, 1222, 1224, 1226, 1228, 1230,\n",
       "       1232, 1234, 1236, 1238, 1240, 1242, 1244, 1246, 1248, 1250, 1252,\n",
       "       1254, 1256, 1258, 1260, 1262, 1264, 1266, 1268, 1270, 1272, 1274,\n",
       "       1276, 1278, 1280, 1282, 1284, 1286, 1288, 1290, 1292, 1294, 1296,\n",
       "       1298, 1300, 1302, 1304, 1306, 1308, 1310, 1312, 1314, 1316, 1318,\n",
       "       1320, 1322, 1324, 1326, 1328, 1330, 1332, 1334, 1336, 1338, 1340,\n",
       "       1342, 1344, 1346, 1348, 1350, 1352, 1354, 1356, 1358, 1360, 1362,\n",
       "       1364, 1366, 1368, 1370, 1372, 1374, 1376, 1378, 1380, 1382, 1384,\n",
       "       1386, 1388, 1390, 1392, 1394, 1396, 1398, 1400, 1402, 1404, 1406,\n",
       "       1408, 1410, 1412, 1414, 1416, 1418, 1420, 1422, 1424, 1426, 1428,\n",
       "       1430, 1432, 1434, 1436, 1438, 1440, 1442, 1444, 1446, 1448, 1450,\n",
       "       1452, 1454, 1456, 1458, 1460, 1462, 1464, 1466, 1468, 1470, 1472,\n",
       "       1474, 1476, 1478, 1480, 1482, 1484, 1486, 1488, 1490, 1492, 1494,\n",
       "       1496, 1498, 1500, 1502, 1504, 1506, 1508, 1510, 1512, 1514, 1516,\n",
       "       1518, 1520, 1522, 1524, 1526, 1528, 1530, 1532, 1534, 1536, 1538,\n",
       "       1540, 1542, 1544, 1546, 1548, 1550, 1552, 1554, 1556, 1558, 1560,\n",
       "       1562, 1564, 1566, 1568, 1570, 1572, 1574, 1576, 1578, 1580, 1582,\n",
       "       1584, 1586, 1588, 1590, 1592, 1594, 1596, 1598, 1600, 1602, 1604,\n",
       "       1606, 1608, 1610, 1612, 1614, 1616, 1618, 1620, 1622, 1624, 1626,\n",
       "       1628, 1630, 1632, 1634, 1636, 1638, 1640, 1642, 1644, 1646, 1648,\n",
       "       1650, 1652, 1654, 1656, 1658, 1660, 1662, 1664, 1666, 1668, 1670,\n",
       "       1672, 1674, 1676, 1678, 1680, 1682, 1684, 1686, 1688, 1690, 1692,\n",
       "       1694, 1696, 1698, 1700, 1702, 1704, 1706, 1708, 1710, 1712, 1714,\n",
       "       1716, 1718, 1720, 1722, 1724, 1726, 1728, 1730, 1732, 1734, 1736,\n",
       "       1738, 1740, 1742, 1744, 1746, 1748, 1750, 1752, 1754, 1756, 1758,\n",
       "       1760, 1762, 1764, 1766, 1768, 1770, 1772, 1774, 1776, 1778, 1780,\n",
       "       1782, 1784, 1786, 1788, 1790, 1792, 1794, 1796, 1798, 1800, 1802,\n",
       "       1804, 1806, 1808, 1810, 1812, 1814, 1816, 1818, 1820, 1822, 1824,\n",
       "       1826, 1828, 1830, 1832, 1834, 1836, 1838, 1840, 1842, 1844, 1846,\n",
       "       1848, 1850, 1852, 1854, 1856, 1858, 1860, 1862, 1864, 1866, 1868,\n",
       "       1870, 1872, 1874, 1876, 1878, 1880, 1882, 1884, 1886, 1888, 1890,\n",
       "       1892, 1894, 1896, 1898, 1900, 1902, 1904, 1906, 1908, 1910, 1912,\n",
       "       1914, 1916, 1918, 1920, 1922, 1924, 1926, 1928, 1930, 1932, 1934,\n",
       "       1936, 1938, 1940, 1942, 1944, 1946, 1948, 1950, 1952, 1954, 1956,\n",
       "       1958, 1960, 1962, 1964, 1966, 1968, 1970, 1972, 1974, 1976, 1978,\n",
       "       1980, 1982, 1984, 1986, 1988, 1990, 1992, 1994, 1996, 1998])"
      ]
     },
     "execution_count": 22,
     "metadata": {},
     "output_type": "execute_result"
    }
   ],
   "source": [
    "x = a1 + a1\n",
    "x"
   ]
  },
  {
   "cell_type": "code",
   "execution_count": 11,
   "metadata": {
    "scrolled": true
   },
   "outputs": [
    {
     "data": {
      "text/plain": [
       "array([  0,   1,   2,   3,   4,   5,   6,   7,   8,   9,  10,  11,  12,\n",
       "        13,  14,  15,  16,  17,  18,  19,  20,  21,  22,  23,  24,  25,\n",
       "        26,  27,  28,  29,  30,  31,  32,  33,  34,  35,  36,  37,  38,\n",
       "        39,  40,  41,  42,  43,  44,  45,  46,  47,  48,  49,  50,  51,\n",
       "        52,  53,  54,  55,  56,  57,  58,  59,  60,  61,  62,  63,  64,\n",
       "        65,  66,  67,  68,  69,  70,  71,  72,  73,  74,  75,  76,  77,\n",
       "        78,  79,  80,  81,  82,  83,  84,  85,  86,  87,  88,  89,  90,\n",
       "        91,  92,  93,  94,  95,  96,  97,  98,  99, 100, 101, 102, 103,\n",
       "       104, 105, 106, 107, 108, 109, 110, 111, 112, 113, 114, 115, 116,\n",
       "       117, 118, 119, 120, 121, 122, 123, 124, 125, 126, 127, 128, 129,\n",
       "       130, 131, 132, 133, 134, 135, 136, 137, 138, 139, 140, 141, 142,\n",
       "       143, 144, 145, 146, 147, 148, 149, 150, 151, 152, 153, 154, 155,\n",
       "       156, 157, 158, 159, 160, 161, 162, 163, 164, 165, 166, 167, 168,\n",
       "       169, 170, 171, 172, 173, 174, 175, 176, 177, 178, 179, 180, 181,\n",
       "       182, 183, 184, 185, 186, 187, 188, 189, 190, 191, 192, 193, 194,\n",
       "       195, 196, 197, 198, 199, 200, 201, 202, 203, 204, 205, 206, 207,\n",
       "       208, 209, 210, 211, 212, 213, 214, 215, 216, 217, 218, 219, 220,\n",
       "       221, 222, 223, 224, 225, 226, 227, 228, 229, 230, 231, 232, 233,\n",
       "       234, 235, 236, 237, 238, 239, 240, 241, 242, 243, 244, 245, 246,\n",
       "       247, 248, 249, 250, 251, 252, 253, 254, 255, 256, 257, 258, 259,\n",
       "       260, 261, 262, 263, 264, 265, 266, 267, 268, 269, 270, 271, 272,\n",
       "       273, 274, 275, 276, 277, 278, 279, 280, 281, 282, 283, 284, 285,\n",
       "       286, 287, 288, 289, 290, 291, 292, 293, 294, 295, 296, 297, 298,\n",
       "       299, 300, 301, 302, 303, 304, 305, 306, 307, 308, 309, 310, 311,\n",
       "       312, 313, 314, 315, 316, 317, 318, 319, 320, 321, 322, 323, 324,\n",
       "       325, 326, 327, 328, 329, 330, 331, 332, 333, 334, 335, 336, 337,\n",
       "       338, 339, 340, 341, 342, 343, 344, 345, 346, 347, 348, 349, 350,\n",
       "       351, 352, 353, 354, 355, 356, 357, 358, 359, 360, 361, 362, 363,\n",
       "       364, 365, 366, 367, 368, 369, 370, 371, 372, 373, 374, 375, 376,\n",
       "       377, 378, 379, 380, 381, 382, 383, 384, 385, 386, 387, 388, 389,\n",
       "       390, 391, 392, 393, 394, 395, 396, 397, 398, 399, 400, 401, 402,\n",
       "       403, 404, 405, 406, 407, 408, 409, 410, 411, 412, 413, 414, 415,\n",
       "       416, 417, 418, 419, 420, 421, 422, 423, 424, 425, 426, 427, 428,\n",
       "       429, 430, 431, 432, 433, 434, 435, 436, 437, 438, 439, 440, 441,\n",
       "       442, 443, 444, 445, 446, 447, 448, 449, 450, 451, 452, 453, 454,\n",
       "       455, 456, 457, 458, 459, 460, 461, 462, 463, 464, 465, 466, 467,\n",
       "       468, 469, 470, 471, 472, 473, 474, 475, 476, 477, 478, 479, 480,\n",
       "       481, 482, 483, 484, 485, 486, 487, 488, 489, 490, 491, 492, 493,\n",
       "       494, 495, 496, 497, 498, 499, 500, 501, 502, 503, 504, 505, 506,\n",
       "       507, 508, 509, 510, 511, 512, 513, 514, 515, 516, 517, 518, 519,\n",
       "       520, 521, 522, 523, 524, 525, 526, 527, 528, 529, 530, 531, 532,\n",
       "       533, 534, 535, 536, 537, 538, 539, 540, 541, 542, 543, 544, 545,\n",
       "       546, 547, 548, 549, 550, 551, 552, 553, 554, 555, 556, 557, 558,\n",
       "       559, 560, 561, 562, 563, 564, 565, 566, 567, 568, 569, 570, 571,\n",
       "       572, 573, 574, 575, 576, 577, 578, 579, 580, 581, 582, 583, 584,\n",
       "       585, 586, 587, 588, 589, 590, 591, 592, 593, 594, 595, 596, 597,\n",
       "       598, 599, 600, 601, 602, 603, 604, 605, 606, 607, 608, 609, 610,\n",
       "       611, 612, 613, 614, 615, 616, 617, 618, 619, 620, 621, 622, 623,\n",
       "       624, 625, 626, 627, 628, 629, 630, 631, 632, 633, 634, 635, 636,\n",
       "       637, 638, 639, 640, 641, 642, 643, 644, 645, 646, 647, 648, 649,\n",
       "       650, 651, 652, 653, 654, 655, 656, 657, 658, 659, 660, 661, 662,\n",
       "       663, 664, 665, 666, 667, 668, 669, 670, 671, 672, 673, 674, 675,\n",
       "       676, 677, 678, 679, 680, 681, 682, 683, 684, 685, 686, 687, 688,\n",
       "       689, 690, 691, 692, 693, 694, 695, 696, 697, 698, 699, 700, 701,\n",
       "       702, 703, 704, 705, 706, 707, 708, 709, 710, 711, 712, 713, 714,\n",
       "       715, 716, 717, 718, 719, 720, 721, 722, 723, 724, 725, 726, 727,\n",
       "       728, 729, 730, 731, 732, 733, 734, 735, 736, 737, 738, 739, 740,\n",
       "       741, 742, 743, 744, 745, 746, 747, 748, 749, 750, 751, 752, 753,\n",
       "       754, 755, 756, 757, 758, 759, 760, 761, 762, 763, 764, 765, 766,\n",
       "       767, 768, 769, 770, 771, 772, 773, 774, 775, 776, 777, 778, 779,\n",
       "       780, 781, 782, 783, 784, 785, 786, 787, 788, 789, 790, 791, 792,\n",
       "       793, 794, 795, 796, 797, 798, 799, 800, 801, 802, 803, 804, 805,\n",
       "       806, 807, 808, 809, 810, 811, 812, 813, 814, 815, 816, 817, 818,\n",
       "       819, 820, 821, 822, 823, 824, 825, 826, 827, 828, 829, 830, 831,\n",
       "       832, 833, 834, 835, 836, 837, 838, 839, 840, 841, 842, 843, 844,\n",
       "       845, 846, 847, 848, 849, 850, 851, 852, 853, 854, 855, 856, 857,\n",
       "       858, 859, 860, 861, 862, 863, 864, 865, 866, 867, 868, 869, 870,\n",
       "       871, 872, 873, 874, 875, 876, 877, 878, 879, 880, 881, 882, 883,\n",
       "       884, 885, 886, 887, 888, 889, 890, 891, 892, 893, 894, 895, 896,\n",
       "       897, 898, 899, 900, 901, 902, 903, 904, 905, 906, 907, 908, 909,\n",
       "       910, 911, 912, 913, 914, 915, 916, 917, 918, 919, 920, 921, 922,\n",
       "       923, 924, 925, 926, 927, 928, 929, 930, 931, 932, 933, 934, 935,\n",
       "       936, 937, 938, 939, 940, 941, 942, 943, 944, 945, 946, 947, 948,\n",
       "       949, 950, 951, 952, 953, 954, 955, 956, 957, 958, 959, 960, 961,\n",
       "       962, 963, 964, 965, 966, 967, 968, 969, 970, 971, 972, 973, 974,\n",
       "       975, 976, 977, 978, 979, 980, 981, 982, 983, 984, 985, 986, 987,\n",
       "       988, 989, 990, 991, 992, 993, 994, 995, 996, 997, 998, 999])"
      ]
     },
     "execution_count": 11,
     "metadata": {},
     "output_type": "execute_result"
    }
   ],
   "source": [
    "ll = list(range(1000))\n",
    "a1 = np.array(ll)\n",
    "a1"
   ]
  },
  {
   "cell_type": "code",
   "execution_count": 6,
   "metadata": {},
   "outputs": [],
   "source": [
    "a2 = np.array([ll ,ll ])"
   ]
  },
  {
   "cell_type": "code",
   "execution_count": null,
   "metadata": {},
   "outputs": [],
   "source": [
    "a1.shape"
   ]
  },
  {
   "cell_type": "code",
   "execution_count": null,
   "metadata": {},
   "outputs": [],
   "source": [
    "a2.shape"
   ]
  },
  {
   "cell_type": "code",
   "execution_count": null,
   "metadata": {},
   "outputs": [],
   "source": [
    "a2 = np.array([[ [x ,x +1 ]] for x in range(100)])"
   ]
  },
  {
   "cell_type": "code",
   "execution_count": null,
   "metadata": {},
   "outputs": [],
   "source": [
    "a2.shape"
   ]
  },
  {
   "cell_type": "code",
   "execution_count": null,
   "metadata": {},
   "outputs": [],
   "source": [
    "a1.min()"
   ]
  },
  {
   "cell_type": "code",
   "execution_count": null,
   "metadata": {},
   "outputs": [],
   "source": [
    "a2.max()"
   ]
  },
  {
   "cell_type": "code",
   "execution_count": 7,
   "metadata": {},
   "outputs": [
    {
     "data": {
      "text/plain": [
       "4.5"
      ]
     },
     "execution_count": 7,
     "metadata": {},
     "output_type": "execute_result"
    }
   ],
   "source": [
    "a2.mean()"
   ]
  },
  {
   "cell_type": "code",
   "execution_count": 8,
   "metadata": {},
   "outputs": [
    {
     "data": {
      "text/plain": [
       "array([1.00000000e+00, 2.71828183e+00, 7.38905610e+00, 2.00855369e+01,\n",
       "       5.45981500e+01, 1.48413159e+02, 4.03428793e+02, 1.09663316e+03,\n",
       "       2.98095799e+03, 8.10308393e+03])"
      ]
     },
     "execution_count": 8,
     "metadata": {},
     "output_type": "execute_result"
    }
   ],
   "source": [
    "np.exp(a1)"
   ]
  },
  {
   "cell_type": "code",
   "execution_count": 12,
   "metadata": {},
   "outputs": [
    {
     "data": {
      "text/plain": [
       "83333.25"
      ]
     },
     "execution_count": 12,
     "metadata": {},
     "output_type": "execute_result"
    }
   ],
   "source": [
    "a1.var()"
   ]
  },
  {
   "cell_type": "code",
   "execution_count": 13,
   "metadata": {},
   "outputs": [
    {
     "data": {
      "text/plain": [
       "array([0.892602  , 0.47745375, 0.1245787 , 0.65008885, 0.45167527])"
      ]
     },
     "execution_count": 13,
     "metadata": {},
     "output_type": "execute_result"
    }
   ],
   "source": [
    "np.random.rand(5)"
   ]
  },
  {
   "cell_type": "code",
   "execution_count": null,
   "metadata": {},
   "outputs": [],
   "source": [
    "x = np.random.rand(6000)\n",
    "x1  = np.random.randn(6)"
   ]
  },
  {
   "cell_type": "code",
   "execution_count": null,
   "metadata": {},
   "outputs": [],
   "source": [
    "x.shape"
   ]
  },
  {
   "cell_type": "code",
   "execution_count": null,
   "metadata": {},
   "outputs": [],
   "source": [
    "x.mean()"
   ]
  },
  {
   "cell_type": "code",
   "execution_count": null,
   "metadata": {},
   "outputs": [],
   "source": [
    "x1.mean()"
   ]
  },
  {
   "cell_type": "code",
   "execution_count": null,
   "metadata": {},
   "outputs": [],
   "source": [
    "x.std()"
   ]
  },
  {
   "cell_type": "markdown",
   "metadata": {},
   "source": [
    "write numpy array based functions for finding mean and standar_deviation , inputs should be  np.ndarray,\n",
    "np_mean , np_std ?"
   ]
  },
  {
   "cell_type": "code",
   "execution_count": null,
   "metadata": {},
   "outputs": [],
   "source": [
    "x.shape"
   ]
  },
  {
   "cell_type": "code",
   "execution_count": null,
   "metadata": {},
   "outputs": [],
   "source": [
    "x.shape[0]"
   ]
  },
  {
   "cell_type": "code",
   "execution_count": null,
   "metadata": {},
   "outputs": [],
   "source": [
    "a2[1][0][1]"
   ]
  },
  {
   "cell_type": "code",
   "execution_count": null,
   "metadata": {},
   "outputs": [],
   "source": [
    "x.min()"
   ]
  },
  {
   "cell_type": "code",
   "execution_count": null,
   "metadata": {},
   "outputs": [],
   "source": [
    "x.mean()"
   ]
  },
  {
   "cell_type": "code",
   "execution_count": null,
   "metadata": {},
   "outputs": [],
   "source": [
    "x"
   ]
  },
  {
   "cell_type": "code",
   "execution_count": null,
   "metadata": {},
   "outputs": [],
   "source": [
    "np.exp(x)"
   ]
  },
  {
   "cell_type": "code",
   "execution_count": null,
   "metadata": {},
   "outputs": [],
   "source": [
    "np.log(x)"
   ]
  },
  {
   "cell_type": "code",
   "execution_count": null,
   "metadata": {},
   "outputs": [],
   "source": [
    "np.sin(x)"
   ]
  },
  {
   "cell_type": "code",
   "execution_count": 24,
   "metadata": {},
   "outputs": [],
   "source": [
    "import math"
   ]
  },
  {
   "cell_type": "code",
   "execution_count": 26,
   "metadata": {},
   "outputs": [
    {
     "data": {
      "text/plain": [
       "(1000,)"
      ]
     },
     "execution_count": 26,
     "metadata": {},
     "output_type": "execute_result"
    }
   ],
   "source": [
    "x.shape"
   ]
  },
  {
   "cell_type": "code",
   "execution_count": 25,
   "metadata": {},
   "outputs": [
    {
     "name": "stdout",
     "output_type": "stream",
     "text": [
      "CPU times: user 2 µs, sys: 1 µs, total: 3 µs\n",
      "Wall time: 7.87 µs\n"
     ]
    },
    {
     "data": {
      "text/plain": [
       "array([ 1.        ,  1.38177329,  0.49315059, ..., -0.37981332,\n",
       "        0.94108502,  1.39675413])"
      ]
     },
     "execution_count": 25,
     "metadata": {},
     "output_type": "execute_result"
    }
   ],
   "source": [
    "%time\n",
    "\n",
    "\n",
    "def cxs(x):\n",
    "    return math.sin(x) + math.cos(x)\n",
    "\n",
    "np.array([cxs(x) for x in range(100000000)])"
   ]
  },
  {
   "cell_type": "code",
   "execution_count": null,
   "metadata": {},
   "outputs": [],
   "source": [
    "def cx(x):\n",
    "    return np.sin(x) + np.cos(x)"
   ]
  },
  {
   "cell_type": "code",
   "execution_count": null,
   "metadata": {},
   "outputs": [],
   "source": [
    "%time\n",
    "cx(ar)"
   ]
  },
  {
   "cell_type": "code",
   "execution_count": null,
   "metadata": {},
   "outputs": [],
   "source": [
    " np.random.randn(1 ,6)"
   ]
  },
  {
   "cell_type": "code",
   "execution_count": 30,
   "metadata": {
    "scrolled": true
   },
   "outputs": [],
   "source": [
    "a3 = np.random.randn(6 ,1) @ np.random.randn(1 ,6)  # "
   ]
  },
  {
   "cell_type": "code",
   "execution_count": 31,
   "metadata": {},
   "outputs": [
    {
     "data": {
      "text/plain": [
       "(6, 6)"
      ]
     },
     "execution_count": 31,
     "metadata": {},
     "output_type": "execute_result"
    }
   ],
   "source": [
    "a3.shape"
   ]
  },
  {
   "cell_type": "markdown",
   "metadata": {},
   "source": [
    "## Pandas"
   ]
  },
  {
   "cell_type": "code",
   "execution_count": 32,
   "metadata": {},
   "outputs": [
    {
     "data": {
      "text/plain": [
       "0    1.0\n",
       "1    3.0\n",
       "2    5.0\n",
       "3    NaN\n",
       "4    6.0\n",
       "5    8.0\n",
       "dtype: float64"
      ]
     },
     "execution_count": 32,
     "metadata": {},
     "output_type": "execute_result"
    }
   ],
   "source": [
    "s = pd.Series([1, 3, 5, np.nan, 6, 8])\n",
    "s"
   ]
  },
  {
   "cell_type": "code",
   "execution_count": 37,
   "metadata": {},
   "outputs": [],
   "source": [
    "from pprint import pprint"
   ]
  },
  {
   "cell_type": "code",
   "execution_count": 38,
   "metadata": {},
   "outputs": [
    {
     "name": "stdout",
     "output_type": "stream",
     "text": [
      "'{\"0\":1.0,\"1\":3.0,\"2\":5.0,\"3\":null,\"4\":6.0,\"5\":8.0}'\n"
     ]
    }
   ],
   "source": [
    "pprint(s.to_json())"
   ]
  },
  {
   "cell_type": "code",
   "execution_count": 39,
   "metadata": {},
   "outputs": [
    {
     "data": {
      "text/plain": [
       "pandas.core.series.Series"
      ]
     },
     "execution_count": 39,
     "metadata": {},
     "output_type": "execute_result"
    }
   ],
   "source": [
    "type(s)"
   ]
  },
  {
   "cell_type": "code",
   "execution_count": 2,
   "metadata": {},
   "outputs": [
    {
     "data": {
      "text/plain": [
       "DatetimeIndex(['2019-05-20', '2019-05-21', '2019-05-22', '2019-05-23',\n",
       "               '2019-05-24', '2019-05-25'],\n",
       "              dtype='datetime64[ns]', freq='D')"
      ]
     },
     "execution_count": 2,
     "metadata": {},
     "output_type": "execute_result"
    }
   ],
   "source": [
    "dates = pd.date_range(\"20190520\", periods=6)\n",
    "dates"
   ]
  },
  {
   "cell_type": "code",
   "execution_count": 5,
   "metadata": {},
   "outputs": [
    {
     "data": {
      "text/plain": [
       "Int64Index([2019, 2019, 2019, 2019, 2019, 2019], dtype='int64')"
      ]
     },
     "execution_count": 5,
     "metadata": {},
     "output_type": "execute_result"
    }
   ],
   "source": [
    "dates.year"
   ]
  },
  {
   "cell_type": "code",
   "execution_count": 46,
   "metadata": {},
   "outputs": [
    {
     "data": {
      "text/plain": [
       "['A', 'c', 'b']"
      ]
     },
     "execution_count": 46,
     "metadata": {},
     "output_type": "execute_result"
    }
   ],
   "source": [
    "list(\"Acb\")"
   ]
  },
  {
   "cell_type": "code",
   "execution_count": 47,
   "metadata": {},
   "outputs": [
    {
     "data": {
      "text/plain": [
       "array([[-1.413065  , -0.08423981, -0.65671928,  0.13741867],\n",
       "       [ 0.03440635,  0.17721732, -0.04410202,  1.11983062],\n",
       "       [-0.455008  , -0.4405349 , -0.04660831,  0.37203716],\n",
       "       [ 1.87898953,  1.03562875,  1.32924399, -0.84251897],\n",
       "       [ 1.52405553, -0.7155105 , -0.69686667,  1.17915771],\n",
       "       [-1.03893048, -0.15579679,  0.09664543, -1.69921038]])"
      ]
     },
     "execution_count": 47,
     "metadata": {},
     "output_type": "execute_result"
    }
   ],
   "source": [
    "np.random.randn(6,4)"
   ]
  },
  {
   "cell_type": "code",
   "execution_count": 49,
   "metadata": {},
   "outputs": [
    {
     "data": {
      "text/html": [
       "<div>\n",
       "<style scoped>\n",
       "    .dataframe tbody tr th:only-of-type {\n",
       "        vertical-align: middle;\n",
       "    }\n",
       "\n",
       "    .dataframe tbody tr th {\n",
       "        vertical-align: top;\n",
       "    }\n",
       "\n",
       "    .dataframe thead th {\n",
       "        text-align: right;\n",
       "    }\n",
       "</style>\n",
       "<table border=\"1\" class=\"dataframe\">\n",
       "  <thead>\n",
       "    <tr style=\"text-align: right;\">\n",
       "      <th></th>\n",
       "      <th>n</th>\n",
       "      <th>i</th>\n",
       "      <th>t</th>\n",
       "      <th>h</th>\n",
       "    </tr>\n",
       "  </thead>\n",
       "  <tbody>\n",
       "    <tr>\n",
       "      <th>2019-05-31</th>\n",
       "      <td>-0.374896</td>\n",
       "      <td>0.748037</td>\n",
       "      <td>0.188788</td>\n",
       "      <td>1.436541</td>\n",
       "    </tr>\n",
       "    <tr>\n",
       "      <th>2019-09-30</th>\n",
       "      <td>0.121724</td>\n",
       "      <td>-0.057513</td>\n",
       "      <td>0.949023</td>\n",
       "      <td>-0.717889</td>\n",
       "    </tr>\n",
       "    <tr>\n",
       "      <th>2020-01-31</th>\n",
       "      <td>-0.146292</td>\n",
       "      <td>-0.346481</td>\n",
       "      <td>0.755691</td>\n",
       "      <td>0.539413</td>\n",
       "    </tr>\n",
       "    <tr>\n",
       "      <th>2020-05-31</th>\n",
       "      <td>-0.647665</td>\n",
       "      <td>-0.896195</td>\n",
       "      <td>2.767189</td>\n",
       "      <td>0.627281</td>\n",
       "    </tr>\n",
       "    <tr>\n",
       "      <th>2020-09-30</th>\n",
       "      <td>-0.785102</td>\n",
       "      <td>1.919634</td>\n",
       "      <td>-0.352876</td>\n",
       "      <td>1.774127</td>\n",
       "    </tr>\n",
       "    <tr>\n",
       "      <th>2021-01-31</th>\n",
       "      <td>-0.290061</td>\n",
       "      <td>0.203029</td>\n",
       "      <td>-1.134062</td>\n",
       "      <td>-0.778361</td>\n",
       "    </tr>\n",
       "  </tbody>\n",
       "</table>\n",
       "</div>"
      ],
      "text/plain": [
       "                   n         i         t         h\n",
       "2019-05-31 -0.374896  0.748037  0.188788  1.436541\n",
       "2019-09-30  0.121724 -0.057513  0.949023 -0.717889\n",
       "2020-01-31 -0.146292 -0.346481  0.755691  0.539413\n",
       "2020-05-31 -0.647665 -0.896195  2.767189  0.627281\n",
       "2020-09-30 -0.785102  1.919634 -0.352876  1.774127\n",
       "2021-01-31 -0.290061  0.203029 -1.134062 -0.778361"
      ]
     },
     "execution_count": 49,
     "metadata": {},
     "output_type": "execute_result"
    }
   ],
   "source": [
    "df = pd.DataFrame(np.random.randn(6,4),index=dates, \n",
    "                   columns=list(\"nith\") )\n",
    "df"
   ]
  },
  {
   "cell_type": "code",
   "execution_count": 50,
   "metadata": {
    "scrolled": false
   },
   "outputs": [
    {
     "name": "stderr",
     "output_type": "stream",
     "text": [
      "/home/nithin/.pyenv/versions/miniconda3-4.3.30/lib/python3.6/site-packages/pandas/plotting/_matplotlib/converter.py:103: FutureWarning: Using an implicitly registered datetime converter for a matplotlib plotting method. The converter was registered by pandas on import. Future versions of pandas will require you to explicitly register matplotlib converters.\n",
      "\n",
      "To register the converters:\n",
      "\t>>> from pandas.plotting import register_matplotlib_converters\n",
      "\t>>> register_matplotlib_converters()\n",
      "  warnings.warn(msg, FutureWarning)\n"
     ]
    },
    {
     "data": {
      "text/plain": [
       "[<matplotlib.lines.Line2D at 0x7f9de32b4c18>,\n",
       " <matplotlib.lines.Line2D at 0x7f9de1ceab70>,\n",
       " <matplotlib.lines.Line2D at 0x7f9de1cea198>,\n",
       " <matplotlib.lines.Line2D at 0x7f9de1cf5400>]"
      ]
     },
     "execution_count": 50,
     "metadata": {},
     "output_type": "execute_result"
    },
    {
     "data": {
      "image/png": "[encoded data removed]",
      "text/plain": [
       "<Figure size 432x288 with 1 Axes>"
      ]
     },
     "metadata": {
      "needs_background": "light"
     },
     "output_type": "display_data"
    }
   ],
   "source": [
    "%matplotlib inline\n",
    "import matplotlib.pyplot as plt\n",
    "plt.plot(df)"
   ]
  },
  {
   "cell_type": "code",
   "execution_count": 51,
   "metadata": {},
   "outputs": [],
   "source": [
    "\n",
    "dx = np.random.randn(100,4)"
   ]
  },
  {
   "cell_type": "code",
   "execution_count": 52,
   "metadata": {},
   "outputs": [
    {
     "data": {
      "text/plain": [
       "[<matplotlib.lines.Line2D at 0x7f9de25a3198>,\n",
       " <matplotlib.lines.Line2D at 0x7f9de25a3320>,\n",
       " <matplotlib.lines.Line2D at 0x7f9de25a3438>,\n",
       " <matplotlib.lines.Line2D at 0x7f9de24c1748>]"
      ]
     },
     "execution_count": 52,
     "metadata": {},
     "output_type": "execute_result"
    },
    {
     "data": {
      "image/png": "[encoded data removed]",
      "text/plain": [
       "<Figure size 432x288 with 1 Axes>"
      ]
     },
     "metadata": {
      "needs_background": "light"
     },
     "output_type": "display_data"
    }
   ],
   "source": [
    "plt.plot(dx ,\".\")"
   ]
  },
  {
   "cell_type": "code",
   "execution_count": 152,
   "metadata": {},
   "outputs": [
    {
     "data": {
      "text/html": [
       "<div>\n",
       "<style scoped>\n",
       "    .dataframe tbody tr th:only-of-type {\n",
       "        vertical-align: middle;\n",
       "    }\n",
       "\n",
       "    .dataframe tbody tr th {\n",
       "        vertical-align: top;\n",
       "    }\n",
       "\n",
       "    .dataframe thead th {\n",
       "        text-align: right;\n",
       "    }\n",
       "</style>\n",
       "<table border=\"1\" class=\"dataframe\">\n",
       "  <thead>\n",
       "    <tr style=\"text-align: right;\">\n",
       "      <th></th>\n",
       "      <th>max</th>\n",
       "      <th>mat,</th>\n",
       "      <th>mu</th>\n",
       "      <th>mul</th>\n",
       "    </tr>\n",
       "  </thead>\n",
       "  <tbody>\n",
       "    <tr>\n",
       "      <th>0</th>\n",
       "      <td>-0.385693</td>\n",
       "      <td>-0.521943</td>\n",
       "      <td>0.040981</td>\n",
       "      <td>0.046195</td>\n",
       "    </tr>\n",
       "    <tr>\n",
       "      <th>1</th>\n",
       "      <td>1.153644</td>\n",
       "      <td>0.263175</td>\n",
       "      <td>-0.450419</td>\n",
       "      <td>-1.796763</td>\n",
       "    </tr>\n",
       "    <tr>\n",
       "      <th>2</th>\n",
       "      <td>0.253825</td>\n",
       "      <td>-1.171222</td>\n",
       "      <td>-1.450526</td>\n",
       "      <td>-0.428998</td>\n",
       "    </tr>\n",
       "    <tr>\n",
       "      <th>3</th>\n",
       "      <td>-0.164782</td>\n",
       "      <td>-1.441990</td>\n",
       "      <td>-0.005314</td>\n",
       "      <td>-0.719577</td>\n",
       "    </tr>\n",
       "    <tr>\n",
       "      <th>4</th>\n",
       "      <td>-0.666055</td>\n",
       "      <td>1.751987</td>\n",
       "      <td>0.115418</td>\n",
       "      <td>1.122911</td>\n",
       "    </tr>\n",
       "    <tr>\n",
       "      <th>5</th>\n",
       "      <td>-0.568201</td>\n",
       "      <td>-1.150992</td>\n",
       "      <td>-0.832695</td>\n",
       "      <td>0.417580</td>\n",
       "    </tr>\n",
       "  </tbody>\n",
       "</table>\n",
       "</div>"
      ],
      "text/plain": [
       "        max      mat,        mu       mul\n",
       "0 -0.385693 -0.521943  0.040981  0.046195\n",
       "1  1.153644  0.263175 -0.450419 -1.796763\n",
       "2  0.253825 -1.171222 -1.450526 -0.428998\n",
       "3 -0.164782 -1.441990 -0.005314 -0.719577\n",
       "4 -0.666055  1.751987  0.115418  1.122911\n",
       "5 -0.568201 -1.150992 -0.832695  0.417580"
      ]
     },
     "execution_count": 152,
     "metadata": {},
     "output_type": "execute_result"
    }
   ],
   "source": [
    "df =  df = pd.DataFrame(np.random.randn(6, 4) ,  columns=[\"max\", \"mat,\", \"mu\", \"mul\"])\n",
    "df"
   ]
  },
  {
   "cell_type": "code",
   "execution_count": 54,
   "metadata": {},
   "outputs": [
    {
     "data": {
      "text/html": [
       "<div>\n",
       "<style scoped>\n",
       "    .dataframe tbody tr th:only-of-type {\n",
       "        vertical-align: middle;\n",
       "    }\n",
       "\n",
       "    .dataframe tbody tr th {\n",
       "        vertical-align: top;\n",
       "    }\n",
       "\n",
       "    .dataframe thead th {\n",
       "        text-align: right;\n",
       "    }\n",
       "</style>\n",
       "<table border=\"1\" class=\"dataframe\">\n",
       "  <thead>\n",
       "    <tr style=\"text-align: right;\">\n",
       "      <th></th>\n",
       "      <th>max</th>\n",
       "      <th>mat,</th>\n",
       "      <th>mu</th>\n",
       "      <th>mul</th>\n",
       "    </tr>\n",
       "  </thead>\n",
       "  <tbody>\n",
       "    <tr>\n",
       "      <th>0</th>\n",
       "      <td>-0.565287</td>\n",
       "      <td>-0.951013</td>\n",
       "      <td>0.889161</td>\n",
       "      <td>-0.402765</td>\n",
       "    </tr>\n",
       "    <tr>\n",
       "      <th>1</th>\n",
       "      <td>-0.133776</td>\n",
       "      <td>0.243546</td>\n",
       "      <td>0.857193</td>\n",
       "      <td>2.140647</td>\n",
       "    </tr>\n",
       "    <tr>\n",
       "      <th>2</th>\n",
       "      <td>-1.384947</td>\n",
       "      <td>-0.292704</td>\n",
       "      <td>0.387399</td>\n",
       "      <td>1.267090</td>\n",
       "    </tr>\n",
       "    <tr>\n",
       "      <th>3</th>\n",
       "      <td>-0.599823</td>\n",
       "      <td>1.402125</td>\n",
       "      <td>-0.146236</td>\n",
       "      <td>1.110128</td>\n",
       "    </tr>\n",
       "    <tr>\n",
       "      <th>4</th>\n",
       "      <td>-0.898441</td>\n",
       "      <td>0.330468</td>\n",
       "      <td>0.801357</td>\n",
       "      <td>0.616079</td>\n",
       "    </tr>\n",
       "    <tr>\n",
       "      <th>5</th>\n",
       "      <td>-0.106979</td>\n",
       "      <td>-0.405475</td>\n",
       "      <td>-0.921555</td>\n",
       "      <td>-0.583463</td>\n",
       "    </tr>\n",
       "  </tbody>\n",
       "</table>\n",
       "</div>"
      ],
      "text/plain": [
       "        max      mat,        mu       mul\n",
       "0 -0.565287 -0.951013  0.889161 -0.402765\n",
       "1 -0.133776  0.243546  0.857193  2.140647\n",
       "2 -1.384947 -0.292704  0.387399  1.267090\n",
       "3 -0.599823  1.402125 -0.146236  1.110128\n",
       "4 -0.898441  0.330468  0.801357  0.616079\n",
       "5 -0.106979 -0.405475 -0.921555 -0.583463"
      ]
     },
     "execution_count": 54,
     "metadata": {},
     "output_type": "execute_result"
    }
   ],
   "source": [
    "df"
   ]
  },
  {
   "cell_type": "code",
   "execution_count": 55,
   "metadata": {},
   "outputs": [
    {
     "data": {
      "text/html": [
       "<div>\n",
       "<style scoped>\n",
       "    .dataframe tbody tr th:only-of-type {\n",
       "        vertical-align: middle;\n",
       "    }\n",
       "\n",
       "    .dataframe tbody tr th {\n",
       "        vertical-align: top;\n",
       "    }\n",
       "\n",
       "    .dataframe thead th {\n",
       "        text-align: right;\n",
       "    }\n",
       "</style>\n",
       "<table border=\"1\" class=\"dataframe\">\n",
       "  <thead>\n",
       "    <tr style=\"text-align: right;\">\n",
       "      <th></th>\n",
       "      <th>max</th>\n",
       "      <th>mat,</th>\n",
       "      <th>mul</th>\n",
       "    </tr>\n",
       "    <tr>\n",
       "      <th>mu</th>\n",
       "      <th></th>\n",
       "      <th></th>\n",
       "      <th></th>\n",
       "    </tr>\n",
       "  </thead>\n",
       "  <tbody>\n",
       "    <tr>\n",
       "      <th>0.889161</th>\n",
       "      <td>-0.565287</td>\n",
       "      <td>-0.951013</td>\n",
       "      <td>-0.402765</td>\n",
       "    </tr>\n",
       "    <tr>\n",
       "      <th>0.857193</th>\n",
       "      <td>-0.133776</td>\n",
       "      <td>0.243546</td>\n",
       "      <td>2.140647</td>\n",
       "    </tr>\n",
       "    <tr>\n",
       "      <th>0.387399</th>\n",
       "      <td>-1.384947</td>\n",
       "      <td>-0.292704</td>\n",
       "      <td>1.267090</td>\n",
       "    </tr>\n",
       "    <tr>\n",
       "      <th>-0.146236</th>\n",
       "      <td>-0.599823</td>\n",
       "      <td>1.402125</td>\n",
       "      <td>1.110128</td>\n",
       "    </tr>\n",
       "    <tr>\n",
       "      <th>0.801357</th>\n",
       "      <td>-0.898441</td>\n",
       "      <td>0.330468</td>\n",
       "      <td>0.616079</td>\n",
       "    </tr>\n",
       "    <tr>\n",
       "      <th>-0.921555</th>\n",
       "      <td>-0.106979</td>\n",
       "      <td>-0.405475</td>\n",
       "      <td>-0.583463</td>\n",
       "    </tr>\n",
       "  </tbody>\n",
       "</table>\n",
       "</div>"
      ],
      "text/plain": [
       "                max      mat,       mul\n",
       "mu                                     \n",
       " 0.889161 -0.565287 -0.951013 -0.402765\n",
       " 0.857193 -0.133776  0.243546  2.140647\n",
       " 0.387399 -1.384947 -0.292704  1.267090\n",
       "-0.146236 -0.599823  1.402125  1.110128\n",
       " 0.801357 -0.898441  0.330468  0.616079\n",
       "-0.921555 -0.106979 -0.405475 -0.583463"
      ]
     },
     "execution_count": 55,
     "metadata": {},
     "output_type": "execute_result"
    }
   ],
   "source": [
    "df.set_index(\"mu\")"
   ]
  },
  {
   "cell_type": "code",
   "execution_count": 153,
   "metadata": {},
   "outputs": [
    {
     "data": {
      "text/html": [
       "<div>\n",
       "<style scoped>\n",
       "    .dataframe tbody tr th:only-of-type {\n",
       "        vertical-align: middle;\n",
       "    }\n",
       "\n",
       "    .dataframe tbody tr th {\n",
       "        vertical-align: top;\n",
       "    }\n",
       "\n",
       "    .dataframe thead th {\n",
       "        text-align: right;\n",
       "    }\n",
       "</style>\n",
       "<table border=\"1\" class=\"dataframe\">\n",
       "  <thead>\n",
       "    <tr style=\"text-align: right;\">\n",
       "      <th></th>\n",
       "      <th>A</th>\n",
       "      <th>B</th>\n",
       "      <th>C</th>\n",
       "      <th>D</th>\n",
       "    </tr>\n",
       "  </thead>\n",
       "  <tbody>\n",
       "    <tr>\n",
       "      <th>2019-05-20</th>\n",
       "      <td>0.010726</td>\n",
       "      <td>0.479653</td>\n",
       "      <td>-0.201615</td>\n",
       "      <td>-0.661828</td>\n",
       "    </tr>\n",
       "    <tr>\n",
       "      <th>2019-05-21</th>\n",
       "      <td>1.206167</td>\n",
       "      <td>-0.809282</td>\n",
       "      <td>-0.184140</td>\n",
       "      <td>-0.699780</td>\n",
       "    </tr>\n",
       "    <tr>\n",
       "      <th>2019-05-22</th>\n",
       "      <td>-1.291850</td>\n",
       "      <td>-0.113463</td>\n",
       "      <td>0.776979</td>\n",
       "      <td>-2.329564</td>\n",
       "    </tr>\n",
       "    <tr>\n",
       "      <th>2019-05-23</th>\n",
       "      <td>-0.724508</td>\n",
       "      <td>-0.389951</td>\n",
       "      <td>0.219894</td>\n",
       "      <td>-0.067555</td>\n",
       "    </tr>\n",
       "    <tr>\n",
       "      <th>2019-05-24</th>\n",
       "      <td>0.164442</td>\n",
       "      <td>-1.509003</td>\n",
       "      <td>0.804679</td>\n",
       "      <td>-1.042425</td>\n",
       "    </tr>\n",
       "    <tr>\n",
       "      <th>2019-05-25</th>\n",
       "      <td>0.700481</td>\n",
       "      <td>-0.332942</td>\n",
       "      <td>-1.189945</td>\n",
       "      <td>0.599929</td>\n",
       "    </tr>\n",
       "  </tbody>\n",
       "</table>\n",
       "</div>"
      ],
      "text/plain": [
       "                   A         B         C         D\n",
       "2019-05-20  0.010726  0.479653 -0.201615 -0.661828\n",
       "2019-05-21  1.206167 -0.809282 -0.184140 -0.699780\n",
       "2019-05-22 -1.291850 -0.113463  0.776979 -2.329564\n",
       "2019-05-23 -0.724508 -0.389951  0.219894 -0.067555\n",
       "2019-05-24  0.164442 -1.509003  0.804679 -1.042425\n",
       "2019-05-25  0.700481 -0.332942 -1.189945  0.599929"
      ]
     },
     "execution_count": 153,
     "metadata": {},
     "output_type": "execute_result"
    }
   ],
   "source": [
    "df  = pd.DataFrame(np.random.randn(6, 4),index=dates,  columns=list('ABCD'))\n",
    "df"
   ]
  },
  {
   "cell_type": "code",
   "execution_count": 75,
   "metadata": {},
   "outputs": [
    {
     "data": {
      "text/plain": [
       "2019-05-20    0.014746\n",
       "2019-05-21   -0.319118\n",
       "2019-05-22   -0.162645\n",
       "2019-05-23    0.574688\n",
       "2019-05-24   -1.294373\n",
       "2019-05-25    0.131745\n",
       "Freq: D, Name: B, dtype: float64"
      ]
     },
     "execution_count": 75,
     "metadata": {},
     "output_type": "execute_result"
    }
   ],
   "source": [
    "df[\"B\"]"
   ]
  },
  {
   "cell_type": "code",
   "execution_count": 76,
   "metadata": {},
   "outputs": [
    {
     "data": {
      "text/plain": [
       "2019-05-20    0.014746\n",
       "2019-05-21   -0.319118\n",
       "2019-05-22   -0.162645\n",
       "2019-05-23    0.574688\n",
       "2019-05-24   -1.294373\n",
       "2019-05-25    0.131745\n",
       "Freq: D, Name: B, dtype: float64"
      ]
     },
     "execution_count": 76,
     "metadata": {},
     "output_type": "execute_result"
    }
   ],
   "source": [
    "df.B"
   ]
  },
  {
   "cell_type": "code",
   "execution_count": 77,
   "metadata": {},
   "outputs": [],
   "source": [
    "df[\"newcol1\"] = df.D + df.B / 2"
   ]
  },
  {
   "cell_type": "code",
   "execution_count": 78,
   "metadata": {},
   "outputs": [],
   "source": [
    "df[\"newcol2\"] = df.D * 2"
   ]
  },
  {
   "cell_type": "code",
   "execution_count": 90,
   "metadata": {},
   "outputs": [],
   "source": [
    "df.drop([\"newcol1\"], axis=1, inplace=True)"
   ]
  },
  {
   "cell_type": "code",
   "execution_count": 91,
   "metadata": {},
   "outputs": [
    {
     "data": {
      "text/html": [
       "<div>\n",
       "<style scoped>\n",
       "    .dataframe tbody tr th:only-of-type {\n",
       "        vertical-align: middle;\n",
       "    }\n",
       "\n",
       "    .dataframe tbody tr th {\n",
       "        vertical-align: top;\n",
       "    }\n",
       "\n",
       "    .dataframe thead th {\n",
       "        text-align: right;\n",
       "    }\n",
       "</style>\n",
       "<table border=\"1\" class=\"dataframe\">\n",
       "  <thead>\n",
       "    <tr style=\"text-align: right;\">\n",
       "      <th></th>\n",
       "      <th>A</th>\n",
       "      <th>B</th>\n",
       "      <th>C</th>\n",
       "      <th>D</th>\n",
       "    </tr>\n",
       "  </thead>\n",
       "  <tbody>\n",
       "    <tr>\n",
       "      <th>2019-05-20</th>\n",
       "      <td>-0.159280</td>\n",
       "      <td>0.014746</td>\n",
       "      <td>1.249097</td>\n",
       "      <td>1.041905</td>\n",
       "    </tr>\n",
       "    <tr>\n",
       "      <th>2019-05-21</th>\n",
       "      <td>0.467595</td>\n",
       "      <td>-0.319118</td>\n",
       "      <td>0.353503</td>\n",
       "      <td>-0.934374</td>\n",
       "    </tr>\n",
       "    <tr>\n",
       "      <th>2019-05-22</th>\n",
       "      <td>0.822293</td>\n",
       "      <td>-0.162645</td>\n",
       "      <td>-1.045893</td>\n",
       "      <td>-2.037942</td>\n",
       "    </tr>\n",
       "    <tr>\n",
       "      <th>2019-05-23</th>\n",
       "      <td>-1.146327</td>\n",
       "      <td>0.574688</td>\n",
       "      <td>-0.724186</td>\n",
       "      <td>0.452724</td>\n",
       "    </tr>\n",
       "    <tr>\n",
       "      <th>2019-05-24</th>\n",
       "      <td>-1.533704</td>\n",
       "      <td>-1.294373</td>\n",
       "      <td>2.132170</td>\n",
       "      <td>-0.298494</td>\n",
       "    </tr>\n",
       "    <tr>\n",
       "      <th>2019-05-25</th>\n",
       "      <td>0.173520</td>\n",
       "      <td>0.131745</td>\n",
       "      <td>0.220751</td>\n",
       "      <td>0.471411</td>\n",
       "    </tr>\n",
       "  </tbody>\n",
       "</table>\n",
       "</div>"
      ],
      "text/plain": [
       "                   A         B         C         D\n",
       "2019-05-20 -0.159280  0.014746  1.249097  1.041905\n",
       "2019-05-21  0.467595 -0.319118  0.353503 -0.934374\n",
       "2019-05-22  0.822293 -0.162645 -1.045893 -2.037942\n",
       "2019-05-23 -1.146327  0.574688 -0.724186  0.452724\n",
       "2019-05-24 -1.533704 -1.294373  2.132170 -0.298494\n",
       "2019-05-25  0.173520  0.131745  0.220751  0.471411"
      ]
     },
     "execution_count": 91,
     "metadata": {},
     "output_type": "execute_result"
    }
   ],
   "source": [
    "df"
   ]
  },
  {
   "cell_type": "code",
   "execution_count": 92,
   "metadata": {},
   "outputs": [
    {
     "data": {
      "text/plain": [
       "(6, 4)"
      ]
     },
     "execution_count": 92,
     "metadata": {},
     "output_type": "execute_result"
    }
   ],
   "source": [
    "df.shape"
   ]
  },
  {
   "cell_type": "markdown",
   "metadata": {},
   "source": [
    "# Viewing data"
   ]
  },
  {
   "cell_type": "code",
   "execution_count": 93,
   "metadata": {},
   "outputs": [
    {
     "data": {
      "text/html": [
       "<div>\n",
       "<style scoped>\n",
       "    .dataframe tbody tr th:only-of-type {\n",
       "        vertical-align: middle;\n",
       "    }\n",
       "\n",
       "    .dataframe tbody tr th {\n",
       "        vertical-align: top;\n",
       "    }\n",
       "\n",
       "    .dataframe thead th {\n",
       "        text-align: right;\n",
       "    }\n",
       "</style>\n",
       "<table border=\"1\" class=\"dataframe\">\n",
       "  <thead>\n",
       "    <tr style=\"text-align: right;\">\n",
       "      <th></th>\n",
       "      <th>A</th>\n",
       "      <th>B</th>\n",
       "      <th>C</th>\n",
       "      <th>D</th>\n",
       "    </tr>\n",
       "  </thead>\n",
       "  <tbody>\n",
       "    <tr>\n",
       "      <th>2019-05-20</th>\n",
       "      <td>-0.159280</td>\n",
       "      <td>0.014746</td>\n",
       "      <td>1.249097</td>\n",
       "      <td>1.041905</td>\n",
       "    </tr>\n",
       "    <tr>\n",
       "      <th>2019-05-21</th>\n",
       "      <td>0.467595</td>\n",
       "      <td>-0.319118</td>\n",
       "      <td>0.353503</td>\n",
       "      <td>-0.934374</td>\n",
       "    </tr>\n",
       "  </tbody>\n",
       "</table>\n",
       "</div>"
      ],
      "text/plain": [
       "                   A         B         C         D\n",
       "2019-05-20 -0.159280  0.014746  1.249097  1.041905\n",
       "2019-05-21  0.467595 -0.319118  0.353503 -0.934374"
      ]
     },
     "execution_count": 93,
     "metadata": {},
     "output_type": "execute_result"
    }
   ],
   "source": [
    "df.head(2)"
   ]
  },
  {
   "cell_type": "code",
   "execution_count": 94,
   "metadata": {},
   "outputs": [
    {
     "data": {
      "text/html": [
       "<div>\n",
       "<style scoped>\n",
       "    .dataframe tbody tr th:only-of-type {\n",
       "        vertical-align: middle;\n",
       "    }\n",
       "\n",
       "    .dataframe tbody tr th {\n",
       "        vertical-align: top;\n",
       "    }\n",
       "\n",
       "    .dataframe thead th {\n",
       "        text-align: right;\n",
       "    }\n",
       "</style>\n",
       "<table border=\"1\" class=\"dataframe\">\n",
       "  <thead>\n",
       "    <tr style=\"text-align: right;\">\n",
       "      <th></th>\n",
       "      <th>A</th>\n",
       "      <th>B</th>\n",
       "      <th>C</th>\n",
       "      <th>D</th>\n",
       "    </tr>\n",
       "  </thead>\n",
       "  <tbody>\n",
       "    <tr>\n",
       "      <th>2019-05-24</th>\n",
       "      <td>-1.533704</td>\n",
       "      <td>-1.294373</td>\n",
       "      <td>2.132170</td>\n",
       "      <td>-0.298494</td>\n",
       "    </tr>\n",
       "    <tr>\n",
       "      <th>2019-05-25</th>\n",
       "      <td>0.173520</td>\n",
       "      <td>0.131745</td>\n",
       "      <td>0.220751</td>\n",
       "      <td>0.471411</td>\n",
       "    </tr>\n",
       "  </tbody>\n",
       "</table>\n",
       "</div>"
      ],
      "text/plain": [
       "                   A         B         C         D\n",
       "2019-05-24 -1.533704 -1.294373  2.132170 -0.298494\n",
       "2019-05-25  0.173520  0.131745  0.220751  0.471411"
      ]
     },
     "execution_count": 94,
     "metadata": {},
     "output_type": "execute_result"
    }
   ],
   "source": [
    "df.tail(2)"
   ]
  },
  {
   "cell_type": "code",
   "execution_count": 95,
   "metadata": {},
   "outputs": [
    {
     "data": {
      "text/html": [
       "<div>\n",
       "<style scoped>\n",
       "    .dataframe tbody tr th:only-of-type {\n",
       "        vertical-align: middle;\n",
       "    }\n",
       "\n",
       "    .dataframe tbody tr th {\n",
       "        vertical-align: top;\n",
       "    }\n",
       "\n",
       "    .dataframe thead th {\n",
       "        text-align: right;\n",
       "    }\n",
       "</style>\n",
       "<table border=\"1\" class=\"dataframe\">\n",
       "  <thead>\n",
       "    <tr style=\"text-align: right;\">\n",
       "      <th></th>\n",
       "      <th>2019-05-21</th>\n",
       "      <th>2019-05-22</th>\n",
       "      <th>2019-05-23</th>\n",
       "      <th>2019-05-24</th>\n",
       "      <th>2019-05-25</th>\n",
       "    </tr>\n",
       "  </thead>\n",
       "  <tbody>\n",
       "    <tr>\n",
       "      <th>A</th>\n",
       "      <td>0.467595</td>\n",
       "      <td>0.822293</td>\n",
       "      <td>-1.146327</td>\n",
       "      <td>-1.533704</td>\n",
       "      <td>0.173520</td>\n",
       "    </tr>\n",
       "    <tr>\n",
       "      <th>B</th>\n",
       "      <td>-0.319118</td>\n",
       "      <td>-0.162645</td>\n",
       "      <td>0.574688</td>\n",
       "      <td>-1.294373</td>\n",
       "      <td>0.131745</td>\n",
       "    </tr>\n",
       "    <tr>\n",
       "      <th>C</th>\n",
       "      <td>0.353503</td>\n",
       "      <td>-1.045893</td>\n",
       "      <td>-0.724186</td>\n",
       "      <td>2.132170</td>\n",
       "      <td>0.220751</td>\n",
       "    </tr>\n",
       "    <tr>\n",
       "      <th>D</th>\n",
       "      <td>-0.934374</td>\n",
       "      <td>-2.037942</td>\n",
       "      <td>0.452724</td>\n",
       "      <td>-0.298494</td>\n",
       "      <td>0.471411</td>\n",
       "    </tr>\n",
       "  </tbody>\n",
       "</table>\n",
       "</div>"
      ],
      "text/plain": [
       "   2019-05-21  2019-05-22  2019-05-23  2019-05-24  2019-05-25\n",
       "A    0.467595    0.822293   -1.146327   -1.533704    0.173520\n",
       "B   -0.319118   -0.162645    0.574688   -1.294373    0.131745\n",
       "C    0.353503   -1.045893   -0.724186    2.132170    0.220751\n",
       "D   -0.934374   -2.037942    0.452724   -0.298494    0.471411"
      ]
     },
     "execution_count": 95,
     "metadata": {},
     "output_type": "execute_result"
    }
   ],
   "source": [
    "df.tail().T"
   ]
  },
  {
   "cell_type": "markdown",
   "metadata": {},
   "source": [
    "# Indexing DF"
   ]
  },
  {
   "cell_type": "code",
   "execution_count": 96,
   "metadata": {},
   "outputs": [
    {
     "data": {
      "text/plain": [
       "2019-05-20    0.014746\n",
       "2019-05-21   -0.319118\n",
       "2019-05-22   -0.162645\n",
       "2019-05-23    0.574688\n",
       "2019-05-24   -1.294373\n",
       "2019-05-25    0.131745\n",
       "Freq: D, Name: B, dtype: float64"
      ]
     },
     "execution_count": 96,
     "metadata": {},
     "output_type": "execute_result"
    }
   ],
   "source": [
    "df[\"B\"]"
   ]
  },
  {
   "cell_type": "code",
   "execution_count": 97,
   "metadata": {},
   "outputs": [
    {
     "data": {
      "text/html": [
       "<div>\n",
       "<style scoped>\n",
       "    .dataframe tbody tr th:only-of-type {\n",
       "        vertical-align: middle;\n",
       "    }\n",
       "\n",
       "    .dataframe tbody tr th {\n",
       "        vertical-align: top;\n",
       "    }\n",
       "\n",
       "    .dataframe thead th {\n",
       "        text-align: right;\n",
       "    }\n",
       "</style>\n",
       "<table border=\"1\" class=\"dataframe\">\n",
       "  <thead>\n",
       "    <tr style=\"text-align: right;\">\n",
       "      <th></th>\n",
       "      <th>A</th>\n",
       "      <th>B</th>\n",
       "      <th>C</th>\n",
       "      <th>D</th>\n",
       "    </tr>\n",
       "  </thead>\n",
       "  <tbody>\n",
       "    <tr>\n",
       "      <th>2019-05-20</th>\n",
       "      <td>-0.159280</td>\n",
       "      <td>0.014746</td>\n",
       "      <td>1.249097</td>\n",
       "      <td>1.041905</td>\n",
       "    </tr>\n",
       "    <tr>\n",
       "      <th>2019-05-21</th>\n",
       "      <td>0.467595</td>\n",
       "      <td>-0.319118</td>\n",
       "      <td>0.353503</td>\n",
       "      <td>-0.934374</td>\n",
       "    </tr>\n",
       "    <tr>\n",
       "      <th>2019-05-22</th>\n",
       "      <td>0.822293</td>\n",
       "      <td>-0.162645</td>\n",
       "      <td>-1.045893</td>\n",
       "      <td>-2.037942</td>\n",
       "    </tr>\n",
       "    <tr>\n",
       "      <th>2019-05-23</th>\n",
       "      <td>-1.146327</td>\n",
       "      <td>0.574688</td>\n",
       "      <td>-0.724186</td>\n",
       "      <td>0.452724</td>\n",
       "    </tr>\n",
       "    <tr>\n",
       "      <th>2019-05-24</th>\n",
       "      <td>-1.533704</td>\n",
       "      <td>-1.294373</td>\n",
       "      <td>2.132170</td>\n",
       "      <td>-0.298494</td>\n",
       "    </tr>\n",
       "    <tr>\n",
       "      <th>2019-05-25</th>\n",
       "      <td>0.173520</td>\n",
       "      <td>0.131745</td>\n",
       "      <td>0.220751</td>\n",
       "      <td>0.471411</td>\n",
       "    </tr>\n",
       "  </tbody>\n",
       "</table>\n",
       "</div>"
      ],
      "text/plain": [
       "                   A         B         C         D\n",
       "2019-05-20 -0.159280  0.014746  1.249097  1.041905\n",
       "2019-05-21  0.467595 -0.319118  0.353503 -0.934374\n",
       "2019-05-22  0.822293 -0.162645 -1.045893 -2.037942\n",
       "2019-05-23 -1.146327  0.574688 -0.724186  0.452724\n",
       "2019-05-24 -1.533704 -1.294373  2.132170 -0.298494\n",
       "2019-05-25  0.173520  0.131745  0.220751  0.471411"
      ]
     },
     "execution_count": 97,
     "metadata": {},
     "output_type": "execute_result"
    }
   ],
   "source": [
    "df"
   ]
  },
  {
   "cell_type": "code",
   "execution_count": 98,
   "metadata": {},
   "outputs": [
    {
     "data": {
      "text/plain": [
       "2019-05-20    0.014746\n",
       "2019-05-21   -0.319118\n",
       "2019-05-22   -0.162645\n",
       "2019-05-23    0.574688\n",
       "2019-05-24   -1.294373\n",
       "2019-05-25    0.131745\n",
       "Freq: D, Name: B, dtype: float64"
      ]
     },
     "execution_count": 98,
     "metadata": {},
     "output_type": "execute_result"
    }
   ],
   "source": [
    "df.B"
   ]
  },
  {
   "cell_type": "code",
   "execution_count": 99,
   "metadata": {
    "scrolled": true
   },
   "outputs": [
    {
     "data": {
      "text/plain": [
       "2019-05-20   -0.159280\n",
       "2019-05-21    0.467595\n",
       "2019-05-22    0.822293\n",
       "2019-05-23   -1.146327\n",
       "2019-05-24   -1.533704\n",
       "2019-05-25    0.173520\n",
       "Freq: D, Name: A, dtype: float64"
      ]
     },
     "execution_count": 99,
     "metadata": {},
     "output_type": "execute_result"
    }
   ],
   "source": [
    "df.A"
   ]
  },
  {
   "cell_type": "code",
   "execution_count": 102,
   "metadata": {},
   "outputs": [
    {
     "data": {
      "text/html": [
       "<div>\n",
       "<style scoped>\n",
       "    .dataframe tbody tr th:only-of-type {\n",
       "        vertical-align: middle;\n",
       "    }\n",
       "\n",
       "    .dataframe tbody tr th {\n",
       "        vertical-align: top;\n",
       "    }\n",
       "\n",
       "    .dataframe thead th {\n",
       "        text-align: right;\n",
       "    }\n",
       "</style>\n",
       "<table border=\"1\" class=\"dataframe\">\n",
       "  <thead>\n",
       "    <tr style=\"text-align: right;\">\n",
       "      <th></th>\n",
       "      <th>A</th>\n",
       "      <th>B</th>\n",
       "      <th>C</th>\n",
       "      <th>D</th>\n",
       "    </tr>\n",
       "  </thead>\n",
       "  <tbody>\n",
       "    <tr>\n",
       "      <th>2019-05-20</th>\n",
       "      <td>-0.159280</td>\n",
       "      <td>0.014746</td>\n",
       "      <td>1.249097</td>\n",
       "      <td>1.041905</td>\n",
       "    </tr>\n",
       "    <tr>\n",
       "      <th>2019-05-21</th>\n",
       "      <td>0.467595</td>\n",
       "      <td>-0.319118</td>\n",
       "      <td>0.353503</td>\n",
       "      <td>-0.934374</td>\n",
       "    </tr>\n",
       "    <tr>\n",
       "      <th>2019-05-22</th>\n",
       "      <td>0.822293</td>\n",
       "      <td>-0.162645</td>\n",
       "      <td>-1.045893</td>\n",
       "      <td>-2.037942</td>\n",
       "    </tr>\n",
       "    <tr>\n",
       "      <th>2019-05-23</th>\n",
       "      <td>-1.146327</td>\n",
       "      <td>0.574688</td>\n",
       "      <td>-0.724186</td>\n",
       "      <td>0.452724</td>\n",
       "    </tr>\n",
       "    <tr>\n",
       "      <th>2019-05-24</th>\n",
       "      <td>-1.533704</td>\n",
       "      <td>-1.294373</td>\n",
       "      <td>2.132170</td>\n",
       "      <td>-0.298494</td>\n",
       "    </tr>\n",
       "  </tbody>\n",
       "</table>\n",
       "</div>"
      ],
      "text/plain": [
       "                   A         B         C         D\n",
       "2019-05-20 -0.159280  0.014746  1.249097  1.041905\n",
       "2019-05-21  0.467595 -0.319118  0.353503 -0.934374\n",
       "2019-05-22  0.822293 -0.162645 -1.045893 -2.037942\n",
       "2019-05-23 -1.146327  0.574688 -0.724186  0.452724\n",
       "2019-05-24 -1.533704 -1.294373  2.132170 -0.298494"
      ]
     },
     "execution_count": 102,
     "metadata": {},
     "output_type": "execute_result"
    }
   ],
   "source": [
    "df[0:-1]"
   ]
  },
  {
   "cell_type": "code",
   "execution_count": 103,
   "metadata": {},
   "outputs": [
    {
     "data": {
      "text/plain": [
       "DatetimeIndex(['2019-05-20', '2019-05-21', '2019-05-22', '2019-05-23',\n",
       "               '2019-05-24', '2019-05-25'],\n",
       "              dtype='datetime64[ns]', freq='D')"
      ]
     },
     "execution_count": 103,
     "metadata": {},
     "output_type": "execute_result"
    }
   ],
   "source": [
    "dates"
   ]
  },
  {
   "cell_type": "code",
   "execution_count": 110,
   "metadata": {},
   "outputs": [
    {
     "data": {
      "text/plain": [
       "DatetimeIndex(['2019-05-25', '2019-05-24', '2019-05-23', '2019-05-22',\n",
       "               '2019-05-21', '2019-05-20'],\n",
       "              dtype='datetime64[ns]', freq='-1D')"
      ]
     },
     "execution_count": 110,
     "metadata": {},
     "output_type": "execute_result"
    }
   ],
   "source": [
    "dates[::-1]"
   ]
  },
  {
   "cell_type": "code",
   "execution_count": 117,
   "metadata": {},
   "outputs": [
    {
     "data": {
      "text/plain": [
       "[0, 1, 2, 3, 4, 5, 6, 7, 8, 9]"
      ]
     },
     "execution_count": 117,
     "metadata": {},
     "output_type": "execute_result"
    }
   ],
   "source": [
    "ll = list(range(10))\n",
    "ll"
   ]
  },
  {
   "cell_type": "code",
   "execution_count": 118,
   "metadata": {},
   "outputs": [
    {
     "data": {
      "text/plain": [
       "[6, 5, 4, 3, 2]"
      ]
     },
     "execution_count": 118,
     "metadata": {},
     "output_type": "execute_result"
    }
   ],
   "source": [
    "ll[6:1:-1]"
   ]
  },
  {
   "cell_type": "code",
   "execution_count": 123,
   "metadata": {},
   "outputs": [
    {
     "data": {
      "text/html": [
       "<div>\n",
       "<style scoped>\n",
       "    .dataframe tbody tr th:only-of-type {\n",
       "        vertical-align: middle;\n",
       "    }\n",
       "\n",
       "    .dataframe tbody tr th {\n",
       "        vertical-align: top;\n",
       "    }\n",
       "\n",
       "    .dataframe thead th {\n",
       "        text-align: right;\n",
       "    }\n",
       "</style>\n",
       "<table border=\"1\" class=\"dataframe\">\n",
       "  <thead>\n",
       "    <tr style=\"text-align: right;\">\n",
       "      <th></th>\n",
       "      <th>A</th>\n",
       "      <th>B</th>\n",
       "      <th>C</th>\n",
       "      <th>D</th>\n",
       "    </tr>\n",
       "  </thead>\n",
       "  <tbody>\n",
       "    <tr>\n",
       "      <th>2019-05-20</th>\n",
       "      <td>-0.159280</td>\n",
       "      <td>0.014746</td>\n",
       "      <td>1.249097</td>\n",
       "      <td>1.041905</td>\n",
       "    </tr>\n",
       "    <tr>\n",
       "      <th>2019-05-21</th>\n",
       "      <td>0.467595</td>\n",
       "      <td>-0.319118</td>\n",
       "      <td>0.353503</td>\n",
       "      <td>-0.934374</td>\n",
       "    </tr>\n",
       "    <tr>\n",
       "      <th>2019-05-22</th>\n",
       "      <td>0.822293</td>\n",
       "      <td>-0.162645</td>\n",
       "      <td>-1.045893</td>\n",
       "      <td>-2.037942</td>\n",
       "    </tr>\n",
       "    <tr>\n",
       "      <th>2019-05-23</th>\n",
       "      <td>-1.146327</td>\n",
       "      <td>0.574688</td>\n",
       "      <td>-0.724186</td>\n",
       "      <td>0.452724</td>\n",
       "    </tr>\n",
       "    <tr>\n",
       "      <th>2019-05-24</th>\n",
       "      <td>-1.533704</td>\n",
       "      <td>-1.294373</td>\n",
       "      <td>2.132170</td>\n",
       "      <td>-0.298494</td>\n",
       "    </tr>\n",
       "    <tr>\n",
       "      <th>2019-05-25</th>\n",
       "      <td>0.173520</td>\n",
       "      <td>0.131745</td>\n",
       "      <td>0.220751</td>\n",
       "      <td>0.471411</td>\n",
       "    </tr>\n",
       "  </tbody>\n",
       "</table>\n",
       "</div>"
      ],
      "text/plain": [
       "                   A         B         C         D\n",
       "2019-05-20 -0.159280  0.014746  1.249097  1.041905\n",
       "2019-05-21  0.467595 -0.319118  0.353503 -0.934374\n",
       "2019-05-22  0.822293 -0.162645 -1.045893 -2.037942\n",
       "2019-05-23 -1.146327  0.574688 -0.724186  0.452724\n",
       "2019-05-24 -1.533704 -1.294373  2.132170 -0.298494\n",
       "2019-05-25  0.173520  0.131745  0.220751  0.471411"
      ]
     },
     "execution_count": 123,
     "metadata": {},
     "output_type": "execute_result"
    }
   ],
   "source": [
    "df"
   ]
  },
  {
   "cell_type": "code",
   "execution_count": 131,
   "metadata": {},
   "outputs": [
    {
     "data": {
      "text/html": [
       "<div>\n",
       "<style scoped>\n",
       "    .dataframe tbody tr th:only-of-type {\n",
       "        vertical-align: middle;\n",
       "    }\n",
       "\n",
       "    .dataframe tbody tr th {\n",
       "        vertical-align: top;\n",
       "    }\n",
       "\n",
       "    .dataframe thead th {\n",
       "        text-align: right;\n",
       "    }\n",
       "</style>\n",
       "<table border=\"1\" class=\"dataframe\">\n",
       "  <thead>\n",
       "    <tr style=\"text-align: right;\">\n",
       "      <th></th>\n",
       "      <th>A</th>\n",
       "      <th>B</th>\n",
       "    </tr>\n",
       "  </thead>\n",
       "  <tbody>\n",
       "    <tr>\n",
       "      <th>2019-05-20</th>\n",
       "      <td>-0.159280</td>\n",
       "      <td>0.014746</td>\n",
       "    </tr>\n",
       "    <tr>\n",
       "      <th>2019-05-24</th>\n",
       "      <td>-1.533704</td>\n",
       "      <td>-1.294373</td>\n",
       "    </tr>\n",
       "  </tbody>\n",
       "</table>\n",
       "</div>"
      ],
      "text/plain": [
       "                   A         B\n",
       "2019-05-20 -0.159280  0.014746\n",
       "2019-05-24 -1.533704 -1.294373"
      ]
     },
     "execution_count": 131,
     "metadata": {},
     "output_type": "execute_result"
    }
   ],
   "source": [
    "df.loc[[dates[0], dates[4]], [\"A\", \"B\"]]"
   ]
  },
  {
   "cell_type": "code",
   "execution_count": 132,
   "metadata": {},
   "outputs": [
    {
     "data": {
      "text/html": [
       "<div>\n",
       "<style scoped>\n",
       "    .dataframe tbody tr th:only-of-type {\n",
       "        vertical-align: middle;\n",
       "    }\n",
       "\n",
       "    .dataframe tbody tr th {\n",
       "        vertical-align: top;\n",
       "    }\n",
       "\n",
       "    .dataframe thead th {\n",
       "        text-align: right;\n",
       "    }\n",
       "</style>\n",
       "<table border=\"1\" class=\"dataframe\">\n",
       "  <thead>\n",
       "    <tr style=\"text-align: right;\">\n",
       "      <th></th>\n",
       "      <th>A</th>\n",
       "      <th>B</th>\n",
       "      <th>C</th>\n",
       "      <th>D</th>\n",
       "    </tr>\n",
       "  </thead>\n",
       "  <tbody>\n",
       "    <tr>\n",
       "      <th>2019-05-20</th>\n",
       "      <td>-0.159280</td>\n",
       "      <td>0.014746</td>\n",
       "      <td>1.249097</td>\n",
       "      <td>1.041905</td>\n",
       "    </tr>\n",
       "    <tr>\n",
       "      <th>2019-05-21</th>\n",
       "      <td>0.467595</td>\n",
       "      <td>-0.319118</td>\n",
       "      <td>0.353503</td>\n",
       "      <td>-0.934374</td>\n",
       "    </tr>\n",
       "    <tr>\n",
       "      <th>2019-05-22</th>\n",
       "      <td>0.822293</td>\n",
       "      <td>-0.162645</td>\n",
       "      <td>-1.045893</td>\n",
       "      <td>-2.037942</td>\n",
       "    </tr>\n",
       "    <tr>\n",
       "      <th>2019-05-23</th>\n",
       "      <td>-1.146327</td>\n",
       "      <td>0.574688</td>\n",
       "      <td>-0.724186</td>\n",
       "      <td>0.452724</td>\n",
       "    </tr>\n",
       "    <tr>\n",
       "      <th>2019-05-24</th>\n",
       "      <td>-1.533704</td>\n",
       "      <td>-1.294373</td>\n",
       "      <td>2.132170</td>\n",
       "      <td>-0.298494</td>\n",
       "    </tr>\n",
       "    <tr>\n",
       "      <th>2019-05-25</th>\n",
       "      <td>0.173520</td>\n",
       "      <td>0.131745</td>\n",
       "      <td>0.220751</td>\n",
       "      <td>0.471411</td>\n",
       "    </tr>\n",
       "  </tbody>\n",
       "</table>\n",
       "</div>"
      ],
      "text/plain": [
       "                   A         B         C         D\n",
       "2019-05-20 -0.159280  0.014746  1.249097  1.041905\n",
       "2019-05-21  0.467595 -0.319118  0.353503 -0.934374\n",
       "2019-05-22  0.822293 -0.162645 -1.045893 -2.037942\n",
       "2019-05-23 -1.146327  0.574688 -0.724186  0.452724\n",
       "2019-05-24 -1.533704 -1.294373  2.132170 -0.298494\n",
       "2019-05-25  0.173520  0.131745  0.220751  0.471411"
      ]
     },
     "execution_count": 132,
     "metadata": {},
     "output_type": "execute_result"
    }
   ],
   "source": [
    "df"
   ]
  },
  {
   "cell_type": "code",
   "execution_count": 133,
   "metadata": {},
   "outputs": [
    {
     "data": {
      "text/html": [
       "<div>\n",
       "<style scoped>\n",
       "    .dataframe tbody tr th:only-of-type {\n",
       "        vertical-align: middle;\n",
       "    }\n",
       "\n",
       "    .dataframe tbody tr th {\n",
       "        vertical-align: top;\n",
       "    }\n",
       "\n",
       "    .dataframe thead th {\n",
       "        text-align: right;\n",
       "    }\n",
       "</style>\n",
       "<table border=\"1\" class=\"dataframe\">\n",
       "  <thead>\n",
       "    <tr style=\"text-align: right;\">\n",
       "      <th></th>\n",
       "      <th>A</th>\n",
       "      <th>B</th>\n",
       "      <th>C</th>\n",
       "      <th>D</th>\n",
       "    </tr>\n",
       "  </thead>\n",
       "  <tbody>\n",
       "    <tr>\n",
       "      <th>2019-05-20</th>\n",
       "      <td>-0.15928</td>\n",
       "      <td>0.014746</td>\n",
       "      <td>1.249097</td>\n",
       "      <td>1.041905</td>\n",
       "    </tr>\n",
       "  </tbody>\n",
       "</table>\n",
       "</div>"
      ],
      "text/plain": [
       "                  A         B         C         D\n",
       "2019-05-20 -0.15928  0.014746  1.249097  1.041905"
      ]
     },
     "execution_count": 133,
     "metadata": {},
     "output_type": "execute_result"
    }
   ],
   "source": [
    "df[0:1]"
   ]
  },
  {
   "cell_type": "code",
   "execution_count": 134,
   "metadata": {},
   "outputs": [
    {
     "data": {
      "text/html": [
       "<div>\n",
       "<style scoped>\n",
       "    .dataframe tbody tr th:only-of-type {\n",
       "        vertical-align: middle;\n",
       "    }\n",
       "\n",
       "    .dataframe tbody tr th {\n",
       "        vertical-align: top;\n",
       "    }\n",
       "\n",
       "    .dataframe thead th {\n",
       "        text-align: right;\n",
       "    }\n",
       "</style>\n",
       "<table border=\"1\" class=\"dataframe\">\n",
       "  <thead>\n",
       "    <tr style=\"text-align: right;\">\n",
       "      <th></th>\n",
       "      <th>A</th>\n",
       "      <th>C</th>\n",
       "    </tr>\n",
       "  </thead>\n",
       "  <tbody>\n",
       "    <tr>\n",
       "      <th>2019-05-20</th>\n",
       "      <td>-0.159280</td>\n",
       "      <td>1.249097</td>\n",
       "    </tr>\n",
       "    <tr>\n",
       "      <th>2019-05-21</th>\n",
       "      <td>0.467595</td>\n",
       "      <td>0.353503</td>\n",
       "    </tr>\n",
       "    <tr>\n",
       "      <th>2019-05-22</th>\n",
       "      <td>0.822293</td>\n",
       "      <td>-1.045893</td>\n",
       "    </tr>\n",
       "  </tbody>\n",
       "</table>\n",
       "</div>"
      ],
      "text/plain": [
       "                   A         C\n",
       "2019-05-20 -0.159280  1.249097\n",
       "2019-05-21  0.467595  0.353503\n",
       "2019-05-22  0.822293 -1.045893"
      ]
     },
     "execution_count": 134,
     "metadata": {},
     "output_type": "execute_result"
    }
   ],
   "source": [
    "df.loc['20190520':'20190522', ['A', 'C']]"
   ]
  },
  {
   "cell_type": "code",
   "execution_count": 135,
   "metadata": {},
   "outputs": [
    {
     "data": {
      "text/html": [
       "<div>\n",
       "<style scoped>\n",
       "    .dataframe tbody tr th:only-of-type {\n",
       "        vertical-align: middle;\n",
       "    }\n",
       "\n",
       "    .dataframe tbody tr th {\n",
       "        vertical-align: top;\n",
       "    }\n",
       "\n",
       "    .dataframe thead th {\n",
       "        text-align: right;\n",
       "    }\n",
       "</style>\n",
       "<table border=\"1\" class=\"dataframe\">\n",
       "  <thead>\n",
       "    <tr style=\"text-align: right;\">\n",
       "      <th></th>\n",
       "      <th>A</th>\n",
       "      <th>B</th>\n",
       "    </tr>\n",
       "  </thead>\n",
       "  <tbody>\n",
       "    <tr>\n",
       "      <th>2019-05-21</th>\n",
       "      <td>0.467595</td>\n",
       "      <td>-0.319118</td>\n",
       "    </tr>\n",
       "    <tr>\n",
       "      <th>2019-05-23</th>\n",
       "      <td>-1.146327</td>\n",
       "      <td>0.574688</td>\n",
       "    </tr>\n",
       "  </tbody>\n",
       "</table>\n",
       "</div>"
      ],
      "text/plain": [
       "                   A         B\n",
       "2019-05-21  0.467595 -0.319118\n",
       "2019-05-23 -1.146327  0.574688"
      ]
     },
     "execution_count": 135,
     "metadata": {},
     "output_type": "execute_result"
    }
   ],
   "source": [
    "df.loc[dates[1:4:2], [\"A\", \"B\"]]"
   ]
  },
  {
   "cell_type": "code",
   "execution_count": 136,
   "metadata": {},
   "outputs": [
    {
     "data": {
      "text/html": [
       "<div>\n",
       "<style scoped>\n",
       "    .dataframe tbody tr th:only-of-type {\n",
       "        vertical-align: middle;\n",
       "    }\n",
       "\n",
       "    .dataframe tbody tr th {\n",
       "        vertical-align: top;\n",
       "    }\n",
       "\n",
       "    .dataframe thead th {\n",
       "        text-align: right;\n",
       "    }\n",
       "</style>\n",
       "<table border=\"1\" class=\"dataframe\">\n",
       "  <thead>\n",
       "    <tr style=\"text-align: right;\">\n",
       "      <th></th>\n",
       "      <th>B</th>\n",
       "      <th>C</th>\n",
       "    </tr>\n",
       "  </thead>\n",
       "  <tbody>\n",
       "    <tr>\n",
       "      <th>2019-05-20</th>\n",
       "      <td>0.014746</td>\n",
       "      <td>1.249097</td>\n",
       "    </tr>\n",
       "    <tr>\n",
       "      <th>2019-05-21</th>\n",
       "      <td>-0.319118</td>\n",
       "      <td>0.353503</td>\n",
       "    </tr>\n",
       "    <tr>\n",
       "      <th>2019-05-22</th>\n",
       "      <td>-0.162645</td>\n",
       "      <td>-1.045893</td>\n",
       "    </tr>\n",
       "  </tbody>\n",
       "</table>\n",
       "</div>"
      ],
      "text/plain": [
       "                   B         C\n",
       "2019-05-20  0.014746  1.249097\n",
       "2019-05-21 -0.319118  0.353503\n",
       "2019-05-22 -0.162645 -1.045893"
      ]
     },
     "execution_count": 136,
     "metadata": {},
     "output_type": "execute_result"
    }
   ],
   "source": [
    "df.iloc[0:3, 1:3]"
   ]
  },
  {
   "cell_type": "code",
   "execution_count": 137,
   "metadata": {},
   "outputs": [
    {
     "data": {
      "text/html": [
       "<div>\n",
       "<style scoped>\n",
       "    .dataframe tbody tr th:only-of-type {\n",
       "        vertical-align: middle;\n",
       "    }\n",
       "\n",
       "    .dataframe tbody tr th {\n",
       "        vertical-align: top;\n",
       "    }\n",
       "\n",
       "    .dataframe thead th {\n",
       "        text-align: right;\n",
       "    }\n",
       "</style>\n",
       "<table border=\"1\" class=\"dataframe\">\n",
       "  <thead>\n",
       "    <tr style=\"text-align: right;\">\n",
       "      <th></th>\n",
       "      <th>A</th>\n",
       "      <th>B</th>\n",
       "      <th>C</th>\n",
       "      <th>D</th>\n",
       "    </tr>\n",
       "  </thead>\n",
       "  <tbody>\n",
       "    <tr>\n",
       "      <th>2019-05-21</th>\n",
       "      <td>0.467595</td>\n",
       "      <td>-0.319118</td>\n",
       "      <td>0.353503</td>\n",
       "      <td>-0.934374</td>\n",
       "    </tr>\n",
       "    <tr>\n",
       "      <th>2019-05-22</th>\n",
       "      <td>0.822293</td>\n",
       "      <td>-0.162645</td>\n",
       "      <td>-1.045893</td>\n",
       "      <td>-2.037942</td>\n",
       "    </tr>\n",
       "    <tr>\n",
       "      <th>2019-05-23</th>\n",
       "      <td>-1.146327</td>\n",
       "      <td>0.574688</td>\n",
       "      <td>-0.724186</td>\n",
       "      <td>0.452724</td>\n",
       "    </tr>\n",
       "    <tr>\n",
       "      <th>2019-05-24</th>\n",
       "      <td>-1.533704</td>\n",
       "      <td>-1.294373</td>\n",
       "      <td>2.132170</td>\n",
       "      <td>-0.298494</td>\n",
       "    </tr>\n",
       "  </tbody>\n",
       "</table>\n",
       "</div>"
      ],
      "text/plain": [
       "                   A         B         C         D\n",
       "2019-05-21  0.467595 -0.319118  0.353503 -0.934374\n",
       "2019-05-22  0.822293 -0.162645 -1.045893 -2.037942\n",
       "2019-05-23 -1.146327  0.574688 -0.724186  0.452724\n",
       "2019-05-24 -1.533704 -1.294373  2.132170 -0.298494"
      ]
     },
     "execution_count": 137,
     "metadata": {},
     "output_type": "execute_result"
    }
   ],
   "source": [
    "df.iloc[1:5]"
   ]
  },
  {
   "cell_type": "code",
   "execution_count": 155,
   "metadata": {},
   "outputs": [
    {
     "data": {
      "text/html": [
       "<div>\n",
       "<style scoped>\n",
       "    .dataframe tbody tr th:only-of-type {\n",
       "        vertical-align: middle;\n",
       "    }\n",
       "\n",
       "    .dataframe tbody tr th {\n",
       "        vertical-align: top;\n",
       "    }\n",
       "\n",
       "    .dataframe thead th {\n",
       "        text-align: right;\n",
       "    }\n",
       "</style>\n",
       "<table border=\"1\" class=\"dataframe\">\n",
       "  <thead>\n",
       "    <tr style=\"text-align: right;\">\n",
       "      <th></th>\n",
       "      <th>A</th>\n",
       "      <th>B</th>\n",
       "    </tr>\n",
       "  </thead>\n",
       "  <tbody>\n",
       "    <tr>\n",
       "      <th>2019-05-21</th>\n",
       "      <td>1.206167</td>\n",
       "      <td>-0.809282</td>\n",
       "    </tr>\n",
       "    <tr>\n",
       "      <th>2019-05-22</th>\n",
       "      <td>-1.291850</td>\n",
       "      <td>-0.113463</td>\n",
       "    </tr>\n",
       "  </tbody>\n",
       "</table>\n",
       "</div>"
      ],
      "text/plain": [
       "                   A         B\n",
       "2019-05-21  1.206167 -0.809282\n",
       "2019-05-22 -1.291850 -0.113463"
      ]
     },
     "execution_count": 155,
     "metadata": {},
     "output_type": "execute_result"
    }
   ],
   "source": [
    "df.iloc[1:3,0:-2]"
   ]
  },
  {
   "cell_type": "code",
   "execution_count": 139,
   "metadata": {},
   "outputs": [
    {
     "data": {
      "text/html": [
       "<div>\n",
       "<style scoped>\n",
       "    .dataframe tbody tr th:only-of-type {\n",
       "        vertical-align: middle;\n",
       "    }\n",
       "\n",
       "    .dataframe tbody tr th {\n",
       "        vertical-align: top;\n",
       "    }\n",
       "\n",
       "    .dataframe thead th {\n",
       "        text-align: right;\n",
       "    }\n",
       "</style>\n",
       "<table border=\"1\" class=\"dataframe\">\n",
       "  <thead>\n",
       "    <tr style=\"text-align: right;\">\n",
       "      <th></th>\n",
       "      <th>B</th>\n",
       "    </tr>\n",
       "  </thead>\n",
       "  <tbody>\n",
       "    <tr>\n",
       "      <th>2019-05-21</th>\n",
       "      <td>-0.319118</td>\n",
       "    </tr>\n",
       "    <tr>\n",
       "      <th>2019-05-22</th>\n",
       "      <td>-0.162645</td>\n",
       "    </tr>\n",
       "  </tbody>\n",
       "</table>\n",
       "</div>"
      ],
      "text/plain": [
       "                   B\n",
       "2019-05-21 -0.319118\n",
       "2019-05-22 -0.162645"
      ]
     },
     "execution_count": 139,
     "metadata": {},
     "output_type": "execute_result"
    }
   ],
   "source": [
    "df.iloc[1:3,1:2]"
   ]
  },
  {
   "cell_type": "code",
   "execution_count": null,
   "metadata": {},
   "outputs": [],
   "source": [
    "df.drop(labels=\"B\",axis=1, inplace=True)\n",
    "df"
   ]
  },
  {
   "cell_type": "code",
   "execution_count": 156,
   "metadata": {},
   "outputs": [
    {
     "data": {
      "text/plain": [
       "2019-05-20    0.010726\n",
       "2019-05-21    1.206167\n",
       "2019-05-22   -1.291850\n",
       "2019-05-23   -0.724508\n",
       "2019-05-24    0.164442\n",
       "2019-05-25    0.700481\n",
       "Freq: D, Name: A, dtype: float64"
      ]
     },
     "execution_count": 156,
     "metadata": {},
     "output_type": "execute_result"
    }
   ],
   "source": [
    "df.A"
   ]
  },
  {
   "cell_type": "code",
   "execution_count": 157,
   "metadata": {},
   "outputs": [
    {
     "data": {
      "text/plain": [
       "2019-05-20    False\n",
       "2019-05-21     True\n",
       "2019-05-22    False\n",
       "2019-05-23    False\n",
       "2019-05-24    False\n",
       "2019-05-25    False\n",
       "Freq: D, Name: A, dtype: bool"
      ]
     },
     "execution_count": 157,
     "metadata": {},
     "output_type": "execute_result"
    }
   ],
   "source": [
    "df.A > 1"
   ]
  },
  {
   "cell_type": "code",
   "execution_count": 158,
   "metadata": {},
   "outputs": [],
   "source": [
    "bool_array = df.A > 1"
   ]
  },
  {
   "cell_type": "code",
   "execution_count": null,
   "metadata": {},
   "outputs": [],
   "source": [
    "bool_array"
   ]
  },
  {
   "cell_type": "code",
   "execution_count": 159,
   "metadata": {},
   "outputs": [
    {
     "data": {
      "text/html": [
       "<div>\n",
       "<style scoped>\n",
       "    .dataframe tbody tr th:only-of-type {\n",
       "        vertical-align: middle;\n",
       "    }\n",
       "\n",
       "    .dataframe tbody tr th {\n",
       "        vertical-align: top;\n",
       "    }\n",
       "\n",
       "    .dataframe thead th {\n",
       "        text-align: right;\n",
       "    }\n",
       "</style>\n",
       "<table border=\"1\" class=\"dataframe\">\n",
       "  <thead>\n",
       "    <tr style=\"text-align: right;\">\n",
       "      <th></th>\n",
       "      <th>A</th>\n",
       "      <th>B</th>\n",
       "      <th>C</th>\n",
       "      <th>D</th>\n",
       "    </tr>\n",
       "  </thead>\n",
       "  <tbody>\n",
       "    <tr>\n",
       "      <th>2019-05-21</th>\n",
       "      <td>1.206167</td>\n",
       "      <td>-0.809282</td>\n",
       "      <td>-0.18414</td>\n",
       "      <td>-0.69978</td>\n",
       "    </tr>\n",
       "  </tbody>\n",
       "</table>\n",
       "</div>"
      ],
      "text/plain": [
       "                   A         B        C        D\n",
       "2019-05-21  1.206167 -0.809282 -0.18414 -0.69978"
      ]
     },
     "execution_count": 159,
     "metadata": {},
     "output_type": "execute_result"
    }
   ],
   "source": [
    "df[bool_array]"
   ]
  },
  {
   "cell_type": "markdown",
   "metadata": {},
   "source": [
    "df.to_html(\"t.html\")"
   ]
  },
  {
   "cell_type": "code",
   "execution_count": null,
   "metadata": {},
   "outputs": [],
   "source": [
    "df.loc[xs, [\"C\", \"A\"]]"
   ]
  },
  {
   "cell_type": "code",
   "execution_count": null,
   "metadata": {},
   "outputs": [],
   "source": [
    "df.iloc[0]"
   ]
  },
  {
   "cell_type": "code",
   "execution_count": null,
   "metadata": {},
   "outputs": [],
   "source": [
    "li_xs = bool_array.tolist()"
   ]
  },
  {
   "cell_type": "code",
   "execution_count": null,
   "metadata": {},
   "outputs": [],
   "source": [
    "li_xs"
   ]
  },
  {
   "cell_type": "code",
   "execution_count": null,
   "metadata": {},
   "outputs": [],
   "source": [
    "df"
   ]
  },
  {
   "cell_type": "code",
   "execution_count": 141,
   "metadata": {},
   "outputs": [
    {
     "data": {
      "text/html": [
       "<div>\n",
       "<style scoped>\n",
       "    .dataframe tbody tr th:only-of-type {\n",
       "        vertical-align: middle;\n",
       "    }\n",
       "\n",
       "    .dataframe tbody tr th {\n",
       "        vertical-align: top;\n",
       "    }\n",
       "\n",
       "    .dataframe thead th {\n",
       "        text-align: right;\n",
       "    }\n",
       "</style>\n",
       "<table border=\"1\" class=\"dataframe\">\n",
       "  <thead>\n",
       "    <tr style=\"text-align: right;\">\n",
       "      <th></th>\n",
       "      <th>A</th>\n",
       "      <th>B</th>\n",
       "      <th>C</th>\n",
       "      <th>D</th>\n",
       "    </tr>\n",
       "  </thead>\n",
       "  <tbody>\n",
       "    <tr>\n",
       "      <th>2019-05-20</th>\n",
       "      <td>NaN</td>\n",
       "      <td>0.014746</td>\n",
       "      <td>1.249097</td>\n",
       "      <td>1.041905</td>\n",
       "    </tr>\n",
       "    <tr>\n",
       "      <th>2019-05-21</th>\n",
       "      <td>0.467595</td>\n",
       "      <td>NaN</td>\n",
       "      <td>0.353503</td>\n",
       "      <td>NaN</td>\n",
       "    </tr>\n",
       "    <tr>\n",
       "      <th>2019-05-22</th>\n",
       "      <td>0.822293</td>\n",
       "      <td>NaN</td>\n",
       "      <td>NaN</td>\n",
       "      <td>NaN</td>\n",
       "    </tr>\n",
       "    <tr>\n",
       "      <th>2019-05-23</th>\n",
       "      <td>NaN</td>\n",
       "      <td>0.574688</td>\n",
       "      <td>NaN</td>\n",
       "      <td>0.452724</td>\n",
       "    </tr>\n",
       "    <tr>\n",
       "      <th>2019-05-24</th>\n",
       "      <td>NaN</td>\n",
       "      <td>NaN</td>\n",
       "      <td>2.132170</td>\n",
       "      <td>NaN</td>\n",
       "    </tr>\n",
       "    <tr>\n",
       "      <th>2019-05-25</th>\n",
       "      <td>0.173520</td>\n",
       "      <td>0.131745</td>\n",
       "      <td>0.220751</td>\n",
       "      <td>0.471411</td>\n",
       "    </tr>\n",
       "  </tbody>\n",
       "</table>\n",
       "</div>"
      ],
      "text/plain": [
       "                   A         B         C         D\n",
       "2019-05-20       NaN  0.014746  1.249097  1.041905\n",
       "2019-05-21  0.467595       NaN  0.353503       NaN\n",
       "2019-05-22  0.822293       NaN       NaN       NaN\n",
       "2019-05-23       NaN  0.574688       NaN  0.452724\n",
       "2019-05-24       NaN       NaN  2.132170       NaN\n",
       "2019-05-25  0.173520  0.131745  0.220751  0.471411"
      ]
     },
     "execution_count": 141,
     "metadata": {},
     "output_type": "execute_result"
    }
   ],
   "source": [
    "df[df>0]"
   ]
  },
  {
   "cell_type": "code",
   "execution_count": null,
   "metadata": {},
   "outputs": [],
   "source": [
    "df.B / df.iloc[li_xs, 1:3]"
   ]
  },
  {
   "cell_type": "markdown",
   "metadata": {},
   "source": [
    "# Exe"
   ]
  },
  {
   "cell_type": "code",
   "execution_count": 142,
   "metadata": {},
   "outputs": [],
   "source": [
    "df = pd.DataFrame([[1, 2], [4, 5], [7, 8]],\n",
    "     index=['cobra', 'viper', 'sidewinder'],\n",
    "     columns=['max_speed', 'shield'])"
   ]
  },
  {
   "cell_type": "code",
   "execution_count": 143,
   "metadata": {},
   "outputs": [
    {
     "data": {
      "text/html": [
       "<div>\n",
       "<style scoped>\n",
       "    .dataframe tbody tr th:only-of-type {\n",
       "        vertical-align: middle;\n",
       "    }\n",
       "\n",
       "    .dataframe tbody tr th {\n",
       "        vertical-align: top;\n",
       "    }\n",
       "\n",
       "    .dataframe thead th {\n",
       "        text-align: right;\n",
       "    }\n",
       "</style>\n",
       "<table border=\"1\" class=\"dataframe\">\n",
       "  <thead>\n",
       "    <tr style=\"text-align: right;\">\n",
       "      <th></th>\n",
       "      <th>max_speed</th>\n",
       "      <th>shield</th>\n",
       "    </tr>\n",
       "  </thead>\n",
       "  <tbody>\n",
       "    <tr>\n",
       "      <th>cobra</th>\n",
       "      <td>1</td>\n",
       "      <td>2</td>\n",
       "    </tr>\n",
       "    <tr>\n",
       "      <th>viper</th>\n",
       "      <td>4</td>\n",
       "      <td>5</td>\n",
       "    </tr>\n",
       "    <tr>\n",
       "      <th>sidewinder</th>\n",
       "      <td>7</td>\n",
       "      <td>8</td>\n",
       "    </tr>\n",
       "  </tbody>\n",
       "</table>\n",
       "</div>"
      ],
      "text/plain": [
       "            max_speed  shield\n",
       "cobra               1       2\n",
       "viper               4       5\n",
       "sidewinder          7       8"
      ]
     },
     "execution_count": 143,
     "metadata": {},
     "output_type": "execute_result"
    }
   ],
   "source": [
    "df"
   ]
  },
  {
   "cell_type": "code",
   "execution_count": 144,
   "metadata": {},
   "outputs": [
    {
     "data": {
      "text/html": [
       "<div>\n",
       "<style scoped>\n",
       "    .dataframe tbody tr th:only-of-type {\n",
       "        vertical-align: middle;\n",
       "    }\n",
       "\n",
       "    .dataframe tbody tr th {\n",
       "        vertical-align: top;\n",
       "    }\n",
       "\n",
       "    .dataframe thead th {\n",
       "        text-align: right;\n",
       "    }\n",
       "</style>\n",
       "<table border=\"1\" class=\"dataframe\">\n",
       "  <thead>\n",
       "    <tr style=\"text-align: right;\">\n",
       "      <th></th>\n",
       "      <th>max_speed</th>\n",
       "      <th>shield</th>\n",
       "    </tr>\n",
       "  </thead>\n",
       "  <tbody>\n",
       "    <tr>\n",
       "      <th>cobra</th>\n",
       "      <td>False</td>\n",
       "      <td>True</td>\n",
       "    </tr>\n",
       "    <tr>\n",
       "      <th>viper</th>\n",
       "      <td>True</td>\n",
       "      <td>True</td>\n",
       "    </tr>\n",
       "    <tr>\n",
       "      <th>sidewinder</th>\n",
       "      <td>True</td>\n",
       "      <td>True</td>\n",
       "    </tr>\n",
       "  </tbody>\n",
       "</table>\n",
       "</div>"
      ],
      "text/plain": [
       "            max_speed  shield\n",
       "cobra           False    True\n",
       "viper            True    True\n",
       "sidewinder       True    True"
      ]
     },
     "execution_count": 144,
     "metadata": {},
     "output_type": "execute_result"
    }
   ],
   "source": [
    "df > 1"
   ]
  },
  {
   "cell_type": "code",
   "execution_count": 145,
   "metadata": {},
   "outputs": [
    {
     "data": {
      "text/plain": [
       "False"
      ]
     },
     "execution_count": 145,
     "metadata": {},
     "output_type": "execute_result"
    }
   ],
   "source": [
    "1 > 2"
   ]
  },
  {
   "cell_type": "code",
   "execution_count": 146,
   "metadata": {},
   "outputs": [
    {
     "data": {
      "text/html": [
       "<div>\n",
       "<style scoped>\n",
       "    .dataframe tbody tr th:only-of-type {\n",
       "        vertical-align: middle;\n",
       "    }\n",
       "\n",
       "    .dataframe tbody tr th {\n",
       "        vertical-align: top;\n",
       "    }\n",
       "\n",
       "    .dataframe thead th {\n",
       "        text-align: right;\n",
       "    }\n",
       "</style>\n",
       "<table border=\"1\" class=\"dataframe\">\n",
       "  <thead>\n",
       "    <tr style=\"text-align: right;\">\n",
       "      <th></th>\n",
       "      <th>max_speed</th>\n",
       "      <th>shield</th>\n",
       "    </tr>\n",
       "  </thead>\n",
       "  <tbody>\n",
       "    <tr>\n",
       "      <th>cobra</th>\n",
       "      <td>NaN</td>\n",
       "      <td>2</td>\n",
       "    </tr>\n",
       "    <tr>\n",
       "      <th>viper</th>\n",
       "      <td>4.0</td>\n",
       "      <td>5</td>\n",
       "    </tr>\n",
       "    <tr>\n",
       "      <th>sidewinder</th>\n",
       "      <td>7.0</td>\n",
       "      <td>8</td>\n",
       "    </tr>\n",
       "  </tbody>\n",
       "</table>\n",
       "</div>"
      ],
      "text/plain": [
       "            max_speed  shield\n",
       "cobra             NaN       2\n",
       "viper             4.0       5\n",
       "sidewinder        7.0       8"
      ]
     },
     "execution_count": 146,
     "metadata": {},
     "output_type": "execute_result"
    }
   ],
   "source": [
    "df[df> 1]"
   ]
  },
  {
   "cell_type": "code",
   "execution_count": 147,
   "metadata": {},
   "outputs": [
    {
     "data": {
      "text/plain": [
       "{'max_speed': {'cobra': 1, 'viper': 4, 'sidewinder': 7},\n",
       " 'shield': {'cobra': 2, 'viper': 5, 'sidewinder': 8}}"
      ]
     },
     "execution_count": 147,
     "metadata": {},
     "output_type": "execute_result"
    }
   ],
   "source": [
    "df.to_dict()"
   ]
  },
  {
   "cell_type": "code",
   "execution_count": 148,
   "metadata": {},
   "outputs": [],
   "source": [
    "df.to_html(\"et.html\")"
   ]
  },
  {
   "cell_type": "code",
   "execution_count": 149,
   "metadata": {},
   "outputs": [],
   "source": [
    "import matplotlib.pyplot as plt"
   ]
  },
  {
   "cell_type": "code",
   "execution_count": 150,
   "metadata": {},
   "outputs": [
    {
     "data": {
      "text/plain": [
       "[<matplotlib.lines.Line2D at 0x7f9ddadd6e80>,\n",
       " <matplotlib.lines.Line2D at 0x7f9ddadd6f28>]"
      ]
     },
     "execution_count": 150,
     "metadata": {},
     "output_type": "execute_result"
    },
    {
     "data": {
      "image/png": "[encoded data removed]",
      "text/plain": [
       "<Figure size 432x288 with 1 Axes>"
      ]
     },
     "metadata": {
      "needs_background": "light"
     },
     "output_type": "display_data"
    }
   ],
   "source": [
    "plt.plot(df)"
   ]
  },
  {
   "cell_type": "code",
   "execution_count": null,
   "metadata": {},
   "outputs": [],
   "source": []
  }
 ],
 "metadata": {
  "kernelspec": {
   "display_name": "Python 3",
   "language": "python",
   "name": "python3"
  },
  "language_info": {
   "codemirror_mode": {
    "name": "ipython",
    "version": 3
   },
   "file_extension": ".py",
   "mimetype": "text/x-python",
   "name": "python",
   "nbconvert_exporter": "python",
   "pygments_lexer": "ipython3",
   "version": "3.6.9"
  },
  "toc": {
   "base_numbering": 1,
   "nav_menu": {},
   "number_sections": true,
   "sideBar": true,
   "skip_h1_title": false,
   "title_cell": "Table of Contents",
   "title_sidebar": "Contents",
   "toc_cell": false,
   "toc_position": {},
   "toc_section_display": true,
   "toc_window_display": false
  }
 },
 "nbformat": 4,
 "nbformat_minor": 2
}
